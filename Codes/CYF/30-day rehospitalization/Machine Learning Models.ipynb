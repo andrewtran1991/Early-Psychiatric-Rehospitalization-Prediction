{
 "cells": [
  {
   "cell_type": "code",
   "execution_count": 1,
   "metadata": {},
   "outputs": [],
   "source": [
    "import pandas as pd\n",
    "import numpy as np\n",
    "import matplotlib.pyplot as plt\n",
    "import seaborn as sns\n",
    "import time\n",
    "from scipy.stats import chi2_contingency\n",
    "import math\n",
    "from collections import Counter\n",
    "from scipy.stats import entropy\n",
    "from sklearn.preprocessing import MinMaxScaler, StandardScaler\n",
    "from numpy import inf\n",
    "from sklearn.model_selection import GridSearchCV\n",
    "\n"
   ]
  },
  {
   "cell_type": "code",
   "execution_count": 2,
   "metadata": {},
   "outputs": [],
   "source": [
    "# Load the train and test datasets\n",
    "Xtrain_scaled = np.load('Xtrain_scaled.npy')\n",
    "Xtest_scaled = np.load('Xtest_scaled.npy')\n",
    "Xtrainb_scaled = np.load('Xtrainb_scaled.npy')\n",
    "Xtestb_scaled = np.load('Xtestb_scaled.npy')\n",
    "ytrain = np.load('ytrain.npy')\n",
    "ytest = np.load('ytest.npy')\n",
    "df_train = pd.read_csv('../paths_CYF_trainData.csv')\n",
    "df_test = pd.read_csv('../paths_CYF_testData.csv')\n"
   ]
  },
  {
   "cell_type": "code",
   "execution_count": 3,
   "metadata": {},
   "outputs": [],
   "source": [
    "# Initial variables for the model. \n",
    "# I focus exclusively on the pre services and loc plus demographics with less than 20% of missing data.\n",
    "\n",
    "id_cols = ['id', 'client_id']\n",
    "\n",
    "demo_cols = ['age', 'age_group','race','gender','dx_group','lang', 'substance','insurance','liv']\n",
    "\n",
    "ip_cols = ['as_loc', 'as_length_IP', 'IP_history', 'as_close']\n",
    "\n",
    "loc_pre_cols = ['loc1_pre', 'loc2_pre', 'loc3_pre', 'loc4_pre', 'loc5_pre']\n",
    "\n",
    "svc_total_pre_cols = ['svc_pre_all', 'svc_pre', 'svc_pre_sub']\n",
    "\n",
    "svc_CYF_timepoint_pre_cols = ['svc_op_7days_pre', 'svc_op_30days_pre', 'svc_op_60days_pre', 'svc_op_90days_pre',\n",
    "                     'svc_es_7days_pre', 'svc_es_30days_pre', 'svc_es_60days_pre', 'svc_es_90days_pre',\n",
    "                     'svc_dt_7days_pre', 'svc_dt_30days_pre', 'svc_dt_60days_pre', 'svc_dt_90days_pre',\n",
    "                     'svc_ip_7days_pre', 'svc_ip_30days_pre', 'svc_ip_60days_pre', 'svc_ip_90days_pre']\n",
    "\n",
    "output_col = ['svc_CYF_ip_30days_postdc_bi']\n",
    "\n",
    "drop_cols = ['']"
   ]
  },
  {
   "cell_type": "code",
   "execution_count": 6,
   "metadata": {},
   "outputs": [],
   "source": [
    "numerical_features = ['age', 'as_length_IP', 'IP_history', 'svc_pre_all', 'svc_pre', 'svc_pre_sub']\n",
    "numerical_features = numerical_features  + svc_CYF_timepoint_pre_cols\n",
    "dummy_vars = df_train.loc[:, 'age_group_12-15 Yrs':'loc5_pre_WRAP']\n",
    "dummy_vars = list(dummy_vars.columns)\n",
    "categorical_features = dummy_vars + ['substance', 'new','CWS', 'ADS', 'JJ']\n",
    "all_features = numerical_features + categorical_features\n",
    "\n",
    "boruta_features = ['as_length_IP', 'IP_history', 'svc_pre_all', 'svc_pre', 'svc_op_30days_pre', 'svc_es_30days_pre', 'svc_ip_7days_pre', 'svc_ip_30days_pre', 'as_loc_IPCAPS', 'as_loc_IPFFS', 'as_close_Home/Shelter/Self', 'as_close_Satisfactorily Achieved\\r\\nGoals']"
   ]
  },
  {
   "cell_type": "code",
   "execution_count": 7,
   "metadata": {},
   "outputs": [],
   "source": [
    "Xtrain = df_train[all_features]\n",
    "Xtrainb = df_train[boruta_features]"
   ]
  },
  {
   "cell_type": "code",
   "execution_count": 8,
   "metadata": {},
   "outputs": [],
   "source": [
    "# Set a seed for reproducibility\n",
    "SEED = 300\n",
    "np.random.seed(SEED)"
   ]
  },
  {
   "cell_type": "code",
   "execution_count": 9,
   "metadata": {},
   "outputs": [
    {
     "name": "stdout",
     "output_type": "stream",
     "text": [
      "False\n",
      "False\n"
     ]
    }
   ],
   "source": [
    "print(np.any(np.isnan(Xtrain_scaled)))\n",
    "print(np.any(np.isnan(ytrain)))\n",
    "#np.all(np.isfinite(Xtrain_scaled))"
   ]
  },
  {
   "cell_type": "code",
   "execution_count": 10,
   "metadata": {},
   "outputs": [
    {
     "name": "stdout",
     "output_type": "stream",
     "text": [
      "False\n",
      "False\n"
     ]
    }
   ],
   "source": [
    "print(np.any(np.isnan(Xtest_scaled)))\n",
    "print(np.any(np.isnan(ytest)))"
   ]
  },
  {
   "cell_type": "markdown",
   "metadata": {},
   "source": [
    "### Fit all variables into the models"
   ]
  },
  {
   "cell_type": "code",
   "execution_count": 11,
   "metadata": {},
   "outputs": [],
   "source": [
    "# import datetime\n",
    "from datetime import datetime\n",
    "\n",
    "# import a host of Scikit-learn models\n",
    "from sklearn.svm import SVC, LinearSVC\n",
    "from sklearn.naive_bayes import GaussianNB\n",
    "from sklearn.ensemble import RandomForestClassifier, GradientBoostingClassifier\n",
    "from sklearn.linear_model import LogisticRegression\n",
    "from sklearn.neighbors import KNeighborsClassifier\n",
    "from sklearn.neural_network import MLPClassifier\n",
    "from xgboost import XGBClassifier\n",
    "from sklearn.tree import DecisionTreeClassifier\n",
    "\n",
    "# import model metrics\n",
    "from sklearn.metrics import *\n",
    "\n",
    "\n",
    "def get_models():\n",
    "    \"\"\"Generate a library of base learners.\"\"\"\n",
    "    nb = GaussianNB()\n",
    "    knn = KNeighborsClassifier(n_neighbors=3)\n",
    "    lr = LogisticRegression(C=1, random_state=SEED, solver='liblinear', class_weight='balanced')\n",
    "    nn = MLPClassifier((100, 50), early_stopping=True, random_state=SEED, max_iter=400, activation='tanh')\n",
    "    dt = DecisionTreeClassifier(random_state=SEED, class_weight='balanced')\n",
    "    rf = RandomForestClassifier(n_estimators=100, random_state=SEED, class_weight='balanced')\n",
    "    gb = GradientBoostingClassifier(n_estimators=100, random_state=SEED)\n",
    "    \n",
    "    models = {'naive bayes': nb,\n",
    "              'knn': knn,\n",
    "              'logistic': lr,\n",
    "              'mlp-nn': nn,\n",
    "              'decision tree': dt,\n",
    "              'random forest': rf,\n",
    "              'gbm': gb\n",
    "             }\n",
    "\n",
    "    return models\n",
    "\n",
    "\n",
    "def train_predict(model_list, xtrain, ytrain, xtest):\n",
    "    \"\"\"Fit models in list on training set and return preds\"\"\"\n",
    "    P = np.zeros((ytest.shape[0], len(model_list)))\n",
    "    P = pd.DataFrame(P)\n",
    "    \n",
    "    S = np.zeros((ytest.shape[0], len(model_list)))\n",
    "    S = pd.DataFrame(S)\n",
    "    \n",
    "    print(\"Fitting models.\")\n",
    "    cols = list()\n",
    "    model_cvs = {}\n",
    "\n",
    "    for i, (name, m) in enumerate(models.items()):\n",
    "        current_time = datetime.now() \n",
    "        print(\"%s...\" % name, end=\" \", flush=False)\n",
    "        model_cvs[name] = m.fit(xtrain, ytrain)\n",
    "        m.fit(xtrain, ytrain)\n",
    "        P.iloc[:, i] = m.predict_proba(xtest)[:, 1]\n",
    "        S.iloc[:, i] = m.predict(xtest)\n",
    "        cols.append(name)\n",
    "        time_elapsed = datetime.now() - current_time\n",
    "        print(\"Time elapsed \", time_elapsed)\n",
    "        print(\"done\")\n",
    "\n",
    "    P.columns = cols\n",
    "    S.columns = cols\n",
    "    \n",
    "    print(\"Done.\\n\")\n",
    "    return P, S, model_cvs\n",
    "\n",
    "    \n",
    "def evaluate(y_true, S, P):\n",
    "    for m in P.columns:\n",
    "        y_pred = S.loc[:, m]\n",
    "        y_pred_proba = P.loc[:, m]\n",
    "        acc = accuracy_score(y_true, y_pred)\n",
    "        precision = precision_score(y_true, y_pred)\n",
    "        recall = recall_score(y_true, y_pred)\n",
    "        f1score = f1_score(y_true, y_pred)\n",
    "        auc = roc_auc_score(y_true, y_pred_proba)\n",
    "        ap = average_precision_score(y_true, y_pred_proba)\n",
    "        print (\"Accuracy : {:.4f}\".format(acc))\n",
    "        print(\"Precision : {:.4f}\".format(precision))\n",
    "        print(\"Recall : {:.4f}\".format(recall))\n",
    "        print(\"F1 score : {:.4f}\".format(f1score))\n",
    "        print(\"AUC score : {:.4f}\".format(auc))\n",
    "        print(\"AP score : {:.4f}\".format(ap))\n",
    "        print(\"\\nClassification report : \\n\", classification_report(y_true, y_pred))\n",
    "        print(\"\\nConfusion matrix : \\n\", confusion_matrix(y_true, y_pred))\n",
    "        print(\"done.\\n\")  \n",
    "    return acc, precision, recall, f1score, auc, ap"
   ]
  },
  {
   "cell_type": "code",
   "execution_count": 12,
   "metadata": {},
   "outputs": [
    {
     "name": "stdout",
     "output_type": "stream",
     "text": [
      "Fitting models.\n",
      "naive bayes... Time elapsed  0:00:00.232004\n",
      "done\n",
      "knn... Time elapsed  0:00:40.372992\n",
      "done\n",
      "logistic... Time elapsed  0:00:00.956002\n",
      "done\n",
      "mlp-nn... Time elapsed  0:00:56.658002\n",
      "done\n",
      "decision tree... Time elapsed  0:00:03.103010\n",
      "done\n",
      "random forest... Time elapsed  0:00:19.531988\n",
      "done\n",
      "gbm... Time elapsed  0:01:02.093995\n",
      "done\n",
      "Done.\n",
      "\n",
      "Accuracy : 0.3871\n",
      "Precision : 0.3207\n",
      "Recall : 0.9252\n",
      "F1 score : 0.4763\n",
      "AUC score : 0.6744\n",
      "AP score : 0.4373\n",
      "\n",
      "Classification report : \n",
      "               precision    recall  f1-score   support\n",
      "\n",
      "           0       0.83      0.16      0.26      1953\n",
      "           1       0.32      0.93      0.48       842\n",
      "\n",
      "    accuracy                           0.39      2795\n",
      "   macro avg       0.57      0.54      0.37      2795\n",
      "weighted avg       0.68      0.39      0.33      2795\n",
      "\n",
      "\n",
      "Confusion matrix : \n",
      " [[ 303 1650]\n",
      " [  63  779]]\n",
      "done.\n",
      "\n",
      "Accuracy : 0.6608\n",
      "Precision : 0.4572\n",
      "Recall : 0.6722\n",
      "F1 score : 0.5442\n",
      "AUC score : 0.6916\n",
      "AP score : 0.4419\n",
      "\n",
      "Classification report : \n",
      "               precision    recall  f1-score   support\n",
      "\n",
      "           0       0.82      0.66      0.73      1953\n",
      "           1       0.46      0.67      0.54       842\n",
      "\n",
      "    accuracy                           0.66      2795\n",
      "   macro avg       0.64      0.66      0.64      2795\n",
      "weighted avg       0.71      0.66      0.67      2795\n",
      "\n",
      "\n",
      "Confusion matrix : \n",
      " [[1281  672]\n",
      " [ 276  566]]\n",
      "done.\n",
      "\n",
      "Accuracy : 0.7445\n",
      "Precision : 0.5663\n",
      "Recall : 0.6496\n",
      "F1 score : 0.6051\n",
      "AUC score : 0.7906\n",
      "AP score : 0.6544\n",
      "\n",
      "Classification report : \n",
      "               precision    recall  f1-score   support\n",
      "\n",
      "           0       0.84      0.79      0.81      1953\n",
      "           1       0.57      0.65      0.61       842\n",
      "\n",
      "    accuracy                           0.74      2795\n",
      "   macro avg       0.70      0.72      0.71      2795\n",
      "weighted avg       0.76      0.74      0.75      2795\n",
      "\n",
      "\n",
      "Confusion matrix : \n",
      " [[1534  419]\n",
      " [ 295  547]]\n",
      "done.\n",
      "\n",
      "Accuracy : 0.7163\n",
      "Precision : 0.5244\n",
      "Recall : 0.6259\n",
      "F1 score : 0.5707\n",
      "AUC score : 0.7474\n",
      "AP score : 0.6053\n",
      "\n",
      "Classification report : \n",
      "               precision    recall  f1-score   support\n",
      "\n",
      "           0       0.82      0.76      0.79      1953\n",
      "           1       0.52      0.63      0.57       842\n",
      "\n",
      "    accuracy                           0.72      2795\n",
      "   macro avg       0.67      0.69      0.68      2795\n",
      "weighted avg       0.73      0.72      0.72      2795\n",
      "\n",
      "\n",
      "Confusion matrix : \n",
      " [[1475  478]\n",
      " [ 315  527]]\n",
      "done.\n",
      "\n",
      "Accuracy : 0.7113\n",
      "Precision : 0.5197\n",
      "Recall : 0.5475\n",
      "F1 score : 0.5333\n",
      "AUC score : 0.6634\n",
      "AP score : 0.4211\n",
      "\n",
      "Classification report : \n",
      "               precision    recall  f1-score   support\n",
      "\n",
      "           0       0.80      0.78      0.79      1953\n",
      "           1       0.52      0.55      0.53       842\n",
      "\n",
      "    accuracy                           0.71      2795\n",
      "   macro avg       0.66      0.66      0.66      2795\n",
      "weighted avg       0.72      0.71      0.71      2795\n",
      "\n",
      "\n",
      "Confusion matrix : \n",
      " [[1527  426]\n",
      " [ 381  461]]\n",
      "done.\n",
      "\n",
      "Accuracy : 0.7868\n",
      "Precision : 0.6869\n",
      "Recall : 0.5368\n",
      "F1 score : 0.6027\n",
      "AUC score : 0.8113\n",
      "AP score : 0.6809\n",
      "\n",
      "Classification report : \n",
      "               precision    recall  f1-score   support\n",
      "\n",
      "           0       0.82      0.89      0.85      1953\n",
      "           1       0.69      0.54      0.60       842\n",
      "\n",
      "    accuracy                           0.79      2795\n",
      "   macro avg       0.75      0.72      0.73      2795\n",
      "weighted avg       0.78      0.79      0.78      2795\n",
      "\n",
      "\n",
      "Confusion matrix : \n",
      " [[1747  206]\n",
      " [ 390  452]]\n",
      "done.\n",
      "\n",
      "Accuracy : 0.7903\n",
      "Precision : 0.6808\n",
      "Recall : 0.5724\n",
      "F1 score : 0.6219\n",
      "AUC score : 0.8293\n",
      "AP score : 0.7290\n",
      "\n",
      "Classification report : \n",
      "               precision    recall  f1-score   support\n",
      "\n",
      "           0       0.83      0.88      0.85      1953\n",
      "           1       0.68      0.57      0.62       842\n",
      "\n",
      "    accuracy                           0.79      2795\n",
      "   macro avg       0.75      0.73      0.74      2795\n",
      "weighted avg       0.78      0.79      0.78      2795\n",
      "\n",
      "\n",
      "Confusion matrix : \n",
      " [[1727  226]\n",
      " [ 360  482]]\n",
      "done.\n",
      "\n"
     ]
    },
    {
     "data": {
      "text/plain": [
       "(0.7903398926654741,\n",
       " 0.6807909604519774,\n",
       " 0.5724465558194775,\n",
       " 0.6219354838709678,\n",
       " 0.8292787270451818,\n",
       " 0.7290372488027012)"
      ]
     },
     "execution_count": 12,
     "metadata": {},
     "output_type": "execute_result"
    }
   ],
   "source": [
    "models = get_models()\n",
    "P, S, model_cvs = train_predict(models, Xtrain_scaled, ytrain, Xtest_scaled)\n",
    "evaluate(ytest, S, P)"
   ]
  },
  {
   "cell_type": "code",
   "execution_count": 13,
   "metadata": {},
   "outputs": [
    {
     "data": {
      "image/png": "[encoded data removed]",
      "text/plain": [
       "<Figure size 864x288 with 2 Axes>"
      ]
     },
     "metadata": {
      "needs_background": "light"
     },
     "output_type": "display_data"
    }
   ],
   "source": [
    "fig, ax = plt.subplots(1, 2, figsize=(12,4))    \n",
    "for column in P.columns:\n",
    "    roc_auc = roc_auc_score(ytest, P[column])\n",
    "    fpr, tpr, _ = roc_curve(ytest, P[column])\n",
    "    ax[0].plot(fpr, tpr, label='%s: %0.3f' % (column, roc_auc))\n",
    "\n",
    "    precision, recall, _ = precision_recall_curve(ytest, P[column])\n",
    "    ave_prec_rec = average_precision_score(ytest, P[column])\n",
    "    ax[1].plot(recall, precision, label='%s: %0.3f' % (column, ave_prec_rec))  \n",
    "\n",
    "    ax[0].set_xlim([0.0, 1.0])\n",
    "    ax[0].set_ylim([0.0, 1.05])\n",
    "    ax[0].set_xlabel('False Positive Rate')\n",
    "    ax[0].set_ylabel('True Positive Rate')\n",
    "    ax[0].set_title('Receiver operating characteristic')\n",
    "    ax[0].legend(loc=\"lower right\", title=\"Model: AUROC\")\n",
    "\n",
    "    ax[1].set_xlim([0.0, 1.0])\n",
    "    ax[1].set_ylim([0.0, 1.05])\n",
    "    ax[1].set_xlabel('Recall')\n",
    "    ax[1].set_ylabel('Precision')\n",
    "    ax[1].set_title('Precision-Recall curve')\n",
    "    ax[1].legend(loc=\"upper right\", title=\"Model: AP\")\n",
    "   \n",
    "#plt.savefig('mult_models_after_feat_select.png', format='png')"
   ]
  },
  {
   "cell_type": "code",
   "execution_count": 14,
   "metadata": {},
   "outputs": [
    {
     "name": "stdout",
     "output_type": "stream",
     "text": [
      "Top 15 features\n",
      "svc_ip_60days_pre                3.177785\n",
      "svc_ip_90days_pre                2.244554\n",
      "as_close_Psychiatric Hospital    1.953391\n",
      "loc2_pre_DTCTF                   1.749187\n",
      "svc_ip_30days_pre                1.666458\n",
      "IP_history                       1.584011\n",
      "loc4_pre_CS                      1.256464\n",
      "loc1_pre_CM                      1.183610\n",
      "loc3_pre_ESU                     1.087095\n",
      "as_close_Homeless                1.014431\n",
      "loc5_pre_PREV                    0.947296\n",
      "as_close_Medical Hospital        0.915874\n",
      "svc_es_90days_pre                0.867926\n",
      "loc5_pre_CR                      0.851023\n",
      "dx_group_Other/ Excluded         0.814720\n",
      "Name: LR, dtype: float64\n"
     ]
    }
   ],
   "source": [
    "lr_importances = pd.Series(model_cvs['logistic'].coef_[0], index=Xtrain.columns, name = 'LR')\n",
    "lr_importances_abs = pd.Series(abs(model_cvs['logistic'].coef_[0]), index=Xtrain.columns, name = 'LR')\n",
    "print(\"Top 15 features\")\n",
    "print(lr_importances.nlargest(15))"
   ]
  },
  {
   "cell_type": "code",
   "execution_count": 15,
   "metadata": {},
   "outputs": [
    {
     "name": "stdout",
     "output_type": "stream",
     "text": [
      "Top 15 features\n",
      "as_length_IP         0.143153\n",
      "svc_ip_90days_pre    0.132238\n",
      "IP_history           0.116149\n",
      "as_loc_IPFFS         0.049412\n",
      "as_loc_IPCAPS        0.033252\n",
      "svc_ip_60days_pre    0.028346\n",
      "age                  0.026674\n",
      "svc_pre_all          0.026284\n",
      "svc_pre              0.025880\n",
      "svc_pre_sub          0.022663\n",
      "svc_es_30days_pre    0.019248\n",
      "svc_op_90days_pre    0.018876\n",
      "svc_op_60days_pre    0.017379\n",
      "svc_es_90days_pre    0.014969\n",
      "svc_op_7days_pre     0.014676\n",
      "Name: DT, dtype: float64\n"
     ]
    }
   ],
   "source": [
    "dt_importances = pd.Series(model_cvs['decision tree'].feature_importances_, index=Xtrain.columns, name = 'DT')\n",
    "print(\"Top 15 features\")\n",
    "print(dt_importances.nlargest(15))"
   ]
  },
  {
   "cell_type": "code",
   "execution_count": 16,
   "metadata": {},
   "outputs": [
    {
     "name": "stdout",
     "output_type": "stream",
     "text": [
      "Top 15 features\n",
      "as_length_IP         0.083843\n",
      "IP_history           0.051858\n",
      "svc_ip_90days_pre    0.040497\n",
      "as_loc_IPFFS         0.038284\n",
      "svc_pre_all          0.033630\n",
      "age                  0.033194\n",
      "svc_ip_60days_pre    0.031673\n",
      "svc_pre              0.030669\n",
      "svc_es_60days_pre    0.029024\n",
      "svc_op_90days_pre    0.028554\n",
      "as_loc_IPCAPS        0.026751\n",
      "svc_op_60days_pre    0.026385\n",
      "svc_es_90days_pre    0.026199\n",
      "svc_op_30days_pre    0.026013\n",
      "svc_ip_30days_pre    0.025282\n",
      "Name: RF, dtype: float64\n"
     ]
    }
   ],
   "source": [
    "rf_importances = pd.Series(model_cvs['random forest'].feature_importances_, index=Xtrain.columns, name = 'RF')\n",
    "print(\"Top 15 features\")\n",
    "print(rf_importances.nlargest(15))"
   ]
  },
  {
   "cell_type": "code",
   "execution_count": 17,
   "metadata": {},
   "outputs": [
    {
     "name": "stdout",
     "output_type": "stream",
     "text": [
      "Top 15 features\n",
      "as_length_IP                  0.207489\n",
      "IP_history                    0.128825\n",
      "svc_ip_90days_pre             0.125523\n",
      "as_loc_IPFFS                  0.106412\n",
      "as_loc_IPCAPS                 0.091033\n",
      "svc_ip_60days_pre             0.072152\n",
      "svc_ip_7days_pre              0.044465\n",
      "svc_pre_sub                   0.037903\n",
      "svc_op_7days_pre              0.031185\n",
      "age                           0.029213\n",
      "as_close_Home/Shelter/Self    0.023523\n",
      "svc_es_30days_pre             0.013815\n",
      "insurance_Other Insurance     0.013686\n",
      "svc_ip_30days_pre             0.012548\n",
      "svc_es_60days_pre             0.011022\n",
      "Name: GBM, dtype: float64\n"
     ]
    }
   ],
   "source": [
    "gbm_importances = pd.Series(model_cvs['gbm'].feature_importances_, index=Xtrain.columns, name = 'GBM')\n",
    "print(\"Top 15 features\")\n",
    "print(gbm_importances.nlargest(15))"
   ]
  },
  {
   "cell_type": "code",
   "execution_count": 18,
   "metadata": {},
   "outputs": [
    {
     "data": {
      "text/html": [
       "<div>\n",
       "<style scoped>\n",
       "    .dataframe tbody tr th:only-of-type {\n",
       "        vertical-align: middle;\n",
       "    }\n",
       "\n",
       "    .dataframe tbody tr th {\n",
       "        vertical-align: top;\n",
       "    }\n",
       "\n",
       "    .dataframe thead th {\n",
       "        text-align: right;\n",
       "    }\n",
       "</style>\n",
       "<table border=\"1\" class=\"dataframe\">\n",
       "  <thead>\n",
       "    <tr style=\"text-align: right;\">\n",
       "      <th></th>\n",
       "      <th>Variable</th>\n",
       "      <th>LR</th>\n",
       "      <th>DT</th>\n",
       "      <th>RF</th>\n",
       "      <th>GBM</th>\n",
       "      <th>avg</th>\n",
       "    </tr>\n",
       "  </thead>\n",
       "  <tbody>\n",
       "    <tr>\n",
       "      <th>0</th>\n",
       "      <td>as_length_IP</td>\n",
       "      <td>-0.385998</td>\n",
       "      <td>0.143153</td>\n",
       "      <td>0.083843</td>\n",
       "      <td>0.207489</td>\n",
       "      <td>0.144828</td>\n",
       "    </tr>\n",
       "    <tr>\n",
       "      <th>1</th>\n",
       "      <td>svc_ip_90days_pre</td>\n",
       "      <td>2.244554</td>\n",
       "      <td>0.132238</td>\n",
       "      <td>0.040497</td>\n",
       "      <td>0.125523</td>\n",
       "      <td>0.099419</td>\n",
       "    </tr>\n",
       "    <tr>\n",
       "      <th>2</th>\n",
       "      <td>IP_history</td>\n",
       "      <td>1.584011</td>\n",
       "      <td>0.116149</td>\n",
       "      <td>0.051858</td>\n",
       "      <td>0.128825</td>\n",
       "      <td>0.098944</td>\n",
       "    </tr>\n",
       "    <tr>\n",
       "      <th>3</th>\n",
       "      <td>as_loc_IPFFS</td>\n",
       "      <td>-2.752748</td>\n",
       "      <td>0.049412</td>\n",
       "      <td>0.038284</td>\n",
       "      <td>0.106412</td>\n",
       "      <td>0.064703</td>\n",
       "    </tr>\n",
       "    <tr>\n",
       "      <th>4</th>\n",
       "      <td>as_loc_IPCAPS</td>\n",
       "      <td>-2.661506</td>\n",
       "      <td>0.033252</td>\n",
       "      <td>0.026751</td>\n",
       "      <td>0.091033</td>\n",
       "      <td>0.050345</td>\n",
       "    </tr>\n",
       "    <tr>\n",
       "      <th>5</th>\n",
       "      <td>svc_ip_60days_pre</td>\n",
       "      <td>3.177785</td>\n",
       "      <td>0.028346</td>\n",
       "      <td>0.031673</td>\n",
       "      <td>0.072152</td>\n",
       "      <td>0.044057</td>\n",
       "    </tr>\n",
       "    <tr>\n",
       "      <th>6</th>\n",
       "      <td>age</td>\n",
       "      <td>-0.204796</td>\n",
       "      <td>0.026674</td>\n",
       "      <td>0.033194</td>\n",
       "      <td>0.029213</td>\n",
       "      <td>0.029694</td>\n",
       "    </tr>\n",
       "    <tr>\n",
       "      <th>7</th>\n",
       "      <td>svc_pre_sub</td>\n",
       "      <td>-0.181897</td>\n",
       "      <td>0.022663</td>\n",
       "      <td>0.014714</td>\n",
       "      <td>0.037903</td>\n",
       "      <td>0.025093</td>\n",
       "    </tr>\n",
       "    <tr>\n",
       "      <th>8</th>\n",
       "      <td>svc_ip_7days_pre</td>\n",
       "      <td>-1.781155</td>\n",
       "      <td>0.013884</td>\n",
       "      <td>0.011382</td>\n",
       "      <td>0.044465</td>\n",
       "      <td>0.023244</td>\n",
       "    </tr>\n",
       "    <tr>\n",
       "      <th>9</th>\n",
       "      <td>svc_op_7days_pre</td>\n",
       "      <td>0.058774</td>\n",
       "      <td>0.014676</td>\n",
       "      <td>0.023082</td>\n",
       "      <td>0.031185</td>\n",
       "      <td>0.022981</td>\n",
       "    </tr>\n",
       "    <tr>\n",
       "      <th>10</th>\n",
       "      <td>svc_pre_all</td>\n",
       "      <td>0.370024</td>\n",
       "      <td>0.026284</td>\n",
       "      <td>0.033630</td>\n",
       "      <td>0.002210</td>\n",
       "      <td>0.020708</td>\n",
       "    </tr>\n",
       "    <tr>\n",
       "      <th>11</th>\n",
       "      <td>svc_es_30days_pre</td>\n",
       "      <td>0.183684</td>\n",
       "      <td>0.019248</td>\n",
       "      <td>0.024934</td>\n",
       "      <td>0.013815</td>\n",
       "      <td>0.019332</td>\n",
       "    </tr>\n",
       "    <tr>\n",
       "      <th>12</th>\n",
       "      <td>svc_pre</td>\n",
       "      <td>-1.108659</td>\n",
       "      <td>0.025880</td>\n",
       "      <td>0.030669</td>\n",
       "      <td>0.000917</td>\n",
       "      <td>0.019155</td>\n",
       "    </tr>\n",
       "    <tr>\n",
       "      <th>13</th>\n",
       "      <td>as_close_Home/Shelter/Self</td>\n",
       "      <td>0.128095</td>\n",
       "      <td>0.008337</td>\n",
       "      <td>0.019259</td>\n",
       "      <td>0.023523</td>\n",
       "      <td>0.017040</td>\n",
       "    </tr>\n",
       "    <tr>\n",
       "      <th>14</th>\n",
       "      <td>svc_ip_30days_pre</td>\n",
       "      <td>1.666458</td>\n",
       "      <td>0.013049</td>\n",
       "      <td>0.025282</td>\n",
       "      <td>0.012548</td>\n",
       "      <td>0.016960</td>\n",
       "    </tr>\n",
       "  </tbody>\n",
       "</table>\n",
       "</div>"
      ],
      "text/plain": [
       "                      Variable        LR        DT        RF       GBM  \\\n",
       "0                 as_length_IP -0.385998  0.143153  0.083843  0.207489   \n",
       "1            svc_ip_90days_pre  2.244554  0.132238  0.040497  0.125523   \n",
       "2                   IP_history  1.584011  0.116149  0.051858  0.128825   \n",
       "3                 as_loc_IPFFS -2.752748  0.049412  0.038284  0.106412   \n",
       "4                as_loc_IPCAPS -2.661506  0.033252  0.026751  0.091033   \n",
       "5            svc_ip_60days_pre  3.177785  0.028346  0.031673  0.072152   \n",
       "6                          age -0.204796  0.026674  0.033194  0.029213   \n",
       "7                  svc_pre_sub -0.181897  0.022663  0.014714  0.037903   \n",
       "8             svc_ip_7days_pre -1.781155  0.013884  0.011382  0.044465   \n",
       "9             svc_op_7days_pre  0.058774  0.014676  0.023082  0.031185   \n",
       "10                 svc_pre_all  0.370024  0.026284  0.033630  0.002210   \n",
       "11           svc_es_30days_pre  0.183684  0.019248  0.024934  0.013815   \n",
       "12                     svc_pre -1.108659  0.025880  0.030669  0.000917   \n",
       "13  as_close_Home/Shelter/Self  0.128095  0.008337  0.019259  0.023523   \n",
       "14           svc_ip_30days_pre  1.666458  0.013049  0.025282  0.012548   \n",
       "\n",
       "         avg  \n",
       "0   0.144828  \n",
       "1   0.099419  \n",
       "2   0.098944  \n",
       "3   0.064703  \n",
       "4   0.050345  \n",
       "5   0.044057  \n",
       "6   0.029694  \n",
       "7   0.025093  \n",
       "8   0.023244  \n",
       "9   0.022981  \n",
       "10  0.020708  \n",
       "11  0.019332  \n",
       "12  0.019155  \n",
       "13  0.017040  \n",
       "14  0.016960  "
      ]
     },
     "execution_count": 18,
     "metadata": {},
     "output_type": "execute_result"
    }
   ],
   "source": [
    "importances_df = pd.concat([lr_importances, dt_importances, rf_importances, gbm_importances], axis=1)\n",
    "importances_df['avg'] = importances_df[['DT', 'RF', 'GBM']].mean(axis=1)\n",
    "importances_df = importances_df.sort_values(by='avg', ascending=False)\n",
    "importances_df.reset_index(inplace=True)\n",
    "importances_df = importances_df.rename(columns = {'index':'Variable'})\n",
    "importances_df.head(15)"
   ]
  },
  {
   "cell_type": "code",
   "execution_count": 19,
   "metadata": {},
   "outputs": [
    {
     "data": {
      "text/plain": [
       "['as_length_IP',\n",
       " 'svc_ip_90days_pre',\n",
       " 'IP_history',\n",
       " 'as_loc_IPFFS',\n",
       " 'as_loc_IPCAPS',\n",
       " 'svc_ip_60days_pre',\n",
       " 'age',\n",
       " 'svc_pre_sub',\n",
       " 'svc_ip_7days_pre',\n",
       " 'svc_op_7days_pre',\n",
       " 'svc_pre_all',\n",
       " 'svc_es_30days_pre',\n",
       " 'svc_pre',\n",
       " 'as_close_Home/Shelter/Self',\n",
       " 'svc_ip_30days_pre']"
      ]
     },
     "execution_count": 19,
     "metadata": {},
     "output_type": "execute_result"
    }
   ],
   "source": [
    "# Select the top 15 variables\n",
    "important_vars = list(importances_df.iloc[0:15,0])\n",
    "important_vars"
   ]
  },
  {
   "cell_type": "markdown",
   "metadata": {},
   "source": [
    "### Fit Boruta-select variables into the models"
   ]
  },
  {
   "cell_type": "code",
   "execution_count": 20,
   "metadata": {},
   "outputs": [
    {
     "name": "stdout",
     "output_type": "stream",
     "text": [
      "Fitting models.\n",
      "naive bayes... Time elapsed  0:00:00.025981\n",
      "done\n",
      "knn... Time elapsed  0:00:01.175013\n",
      "done\n",
      "logistic... Time elapsed  0:00:00.136986\n",
      "done\n",
      "mlp-nn... Time elapsed  0:00:33.157001\n",
      "done\n",
      "decision tree... Time elapsed  0:00:00.499986\n",
      "done\n",
      "random forest... Time elapsed  0:00:09.070005\n",
      "done\n",
      "gbm... Time elapsed  0:00:09.148015\n",
      "done\n",
      "Done.\n",
      "\n",
      "Accuracy : 0.7152\n",
      "Precision : 0.5252\n",
      "Recall : 0.5689\n",
      "F1 score : 0.5462\n",
      "AUC score : 0.7075\n",
      "AP score : 0.5337\n",
      "\n",
      "Classification report : \n",
      "               precision    recall  f1-score   support\n",
      "\n",
      "           0       0.81      0.78      0.79      1953\n",
      "           1       0.53      0.57      0.55       842\n",
      "\n",
      "    accuracy                           0.72      2795\n",
      "   macro avg       0.67      0.67      0.67      2795\n",
      "weighted avg       0.72      0.72      0.72      2795\n",
      "\n",
      "\n",
      "Confusion matrix : \n",
      " [[1520  433]\n",
      " [ 363  479]]\n",
      "done.\n",
      "\n",
      "Accuracy : 0.7106\n",
      "Precision : 0.5159\n",
      "Recall : 0.6378\n",
      "F1 score : 0.5704\n",
      "AUC score : 0.7304\n",
      "AP score : 0.4956\n",
      "\n",
      "Classification report : \n",
      "               precision    recall  f1-score   support\n",
      "\n",
      "           0       0.83      0.74      0.78      1953\n",
      "           1       0.52      0.64      0.57       842\n",
      "\n",
      "    accuracy                           0.71      2795\n",
      "   macro avg       0.67      0.69      0.68      2795\n",
      "weighted avg       0.73      0.71      0.72      2795\n",
      "\n",
      "\n",
      "Confusion matrix : \n",
      " [[1449  504]\n",
      " [ 305  537]]\n",
      "done.\n",
      "\n",
      "Accuracy : 0.7345\n",
      "Precision : 0.5542\n",
      "Recall : 0.6069\n",
      "F1 score : 0.5794\n",
      "AUC score : 0.7725\n",
      "AP score : 0.6100\n",
      "\n",
      "Classification report : \n",
      "               precision    recall  f1-score   support\n",
      "\n",
      "           0       0.82      0.79      0.81      1953\n",
      "           1       0.55      0.61      0.58       842\n",
      "\n",
      "    accuracy                           0.73      2795\n",
      "   macro avg       0.69      0.70      0.69      2795\n",
      "weighted avg       0.74      0.73      0.74      2795\n",
      "\n",
      "\n",
      "Confusion matrix : \n",
      " [[1542  411]\n",
      " [ 331  511]]\n",
      "done.\n",
      "\n",
      "Accuracy : 0.7496\n",
      "Precision : 0.5749\n",
      "Recall : 0.6473\n",
      "F1 score : 0.6089\n",
      "AUC score : 0.7930\n",
      "AP score : 0.6534\n",
      "\n",
      "Classification report : \n",
      "               precision    recall  f1-score   support\n",
      "\n",
      "           0       0.84      0.79      0.82      1953\n",
      "           1       0.57      0.65      0.61       842\n",
      "\n",
      "    accuracy                           0.75      2795\n",
      "   macro avg       0.71      0.72      0.71      2795\n",
      "weighted avg       0.76      0.75      0.75      2795\n",
      "\n",
      "\n",
      "Confusion matrix : \n",
      " [[1550  403]\n",
      " [ 297  545]]\n",
      "done.\n",
      "\n",
      "Accuracy : 0.7181\n",
      "Precision : 0.5308\n",
      "Recall : 0.5523\n",
      "F1 score : 0.5413\n",
      "AUC score : 0.6499\n",
      "AP score : 0.4343\n",
      "\n",
      "Classification report : \n",
      "               precision    recall  f1-score   support\n",
      "\n",
      "           0       0.80      0.79      0.80      1953\n",
      "           1       0.53      0.55      0.54       842\n",
      "\n",
      "    accuracy                           0.72      2795\n",
      "   macro avg       0.67      0.67      0.67      2795\n",
      "weighted avg       0.72      0.72      0.72      2795\n",
      "\n",
      "\n",
      "Confusion matrix : \n",
      " [[1542  411]\n",
      " [ 377  465]]\n",
      "done.\n",
      "\n",
      "Accuracy : 0.7689\n",
      "Precision : 0.6279\n",
      "Recall : 0.5713\n",
      "F1 score : 0.5983\n",
      "AUC score : 0.8006\n",
      "AP score : 0.6903\n",
      "\n",
      "Classification report : \n",
      "               precision    recall  f1-score   support\n",
      "\n",
      "           0       0.82      0.85      0.84      1953\n",
      "           1       0.63      0.57      0.60       842\n",
      "\n",
      "    accuracy                           0.77      2795\n",
      "   macro avg       0.73      0.71      0.72      2795\n",
      "weighted avg       0.76      0.77      0.77      2795\n",
      "\n",
      "\n",
      "Confusion matrix : \n",
      " [[1668  285]\n",
      " [ 361  481]]\n",
      "done.\n",
      "\n",
      "Accuracy : 0.7728\n",
      "Precision : 0.6349\n",
      "Recall : 0.5784\n",
      "F1 score : 0.6053\n",
      "AUC score : 0.8133\n",
      "AP score : 0.7146\n",
      "\n",
      "Classification report : \n",
      "               precision    recall  f1-score   support\n",
      "\n",
      "           0       0.82      0.86      0.84      1953\n",
      "           1       0.63      0.58      0.61       842\n",
      "\n",
      "    accuracy                           0.77      2795\n",
      "   macro avg       0.73      0.72      0.72      2795\n",
      "weighted avg       0.77      0.77      0.77      2795\n",
      "\n",
      "\n",
      "Confusion matrix : \n",
      " [[1673  280]\n",
      " [ 355  487]]\n",
      "done.\n",
      "\n"
     ]
    },
    {
     "data": {
      "text/plain": [
       "(0.7728085867620751,\n",
       " 0.6349413298565841,\n",
       " 0.5783847980997625,\n",
       " 0.6053449347420758,\n",
       " 0.8133126695880508,\n",
       " 0.7145690199496844)"
      ]
     },
     "execution_count": 20,
     "metadata": {},
     "output_type": "execute_result"
    }
   ],
   "source": [
    "models = get_models()\n",
    "Pb, Sb, model_cvsb = train_predict(models, Xtrainb_scaled, ytrain, Xtestb_scaled)\n",
    "evaluate(ytest, Sb, Pb)"
   ]
  },
  {
   "cell_type": "code",
   "execution_count": 21,
   "metadata": {},
   "outputs": [
    {
     "data": {
      "image/png": "[encoded data removed]",
      "text/plain": [
       "<Figure size 864x288 with 2 Axes>"
      ]
     },
     "metadata": {
      "needs_background": "light"
     },
     "output_type": "display_data"
    }
   ],
   "source": [
    "fig, ax = plt.subplots(1, 2, figsize=(12,4))    \n",
    "for column in Pb.columns:\n",
    "    roc_auc = roc_auc_score(ytest, Pb[column])\n",
    "    fpr, tpr, _ = roc_curve(ytest, Pb[column])\n",
    "    ax[0].plot(fpr, tpr, label='%s: %0.3f' % (column, roc_auc))\n",
    "\n",
    "    precision, recall, _ = precision_recall_curve(ytest, Pb[column])\n",
    "    ave_prec_rec = average_precision_score(ytest, Pb[column])\n",
    "    ax[1].plot(recall, precision, label='%s: %0.3f' % (column, ave_prec_rec))  \n",
    "\n",
    "    ax[0].set_xlim([0.0, 1.0])\n",
    "    ax[0].set_ylim([0.0, 1.05])\n",
    "    ax[0].set_xlabel('False Positive Rate')\n",
    "    ax[0].set_ylabel('True Positive Rate')\n",
    "    ax[0].set_title('Receiver operating characteristic')\n",
    "    ax[0].legend(loc=\"lower right\", title=\"Model: AUROC\")\n",
    "\n",
    "    ax[1].set_xlim([0.0, 1.0])\n",
    "    ax[1].set_ylim([0.0, 1.05])\n",
    "    ax[1].set_xlabel('Recall')\n",
    "    ax[1].set_ylabel('Precision')\n",
    "    ax[1].set_title('Precision-Recall curve')\n",
    "    ax[1].legend(loc=\"upper right\", title=\"Model: AP\")\n",
    "   \n",
    "#plt.savefig('mult_models_after_feat_select.png', format='png')"
   ]
  },
  {
   "cell_type": "markdown",
   "metadata": {},
   "source": [
    "### Fit important variables into the models"
   ]
  },
  {
   "cell_type": "code",
   "execution_count": 22,
   "metadata": {},
   "outputs": [],
   "source": [
    "Xtrain2 = df_train[important_vars]\n",
    "Xtest2 = df_test[important_vars]\n",
    "ytrain_original = df_train['svc_CYF_ip_30days_postdc_bi']\n"
   ]
  },
  {
   "cell_type": "code",
   "execution_count": 23,
   "metadata": {},
   "outputs": [],
   "source": [
    "from sklearn.preprocessing import MinMaxScaler\n",
    "scaler = MinMaxScaler()\n",
    "Xtrain2_scaled = scaler.fit_transform(Xtrain2)\n",
    "Xtest2_scaled = scaler.fit_transform(Xtest2)"
   ]
  },
  {
   "cell_type": "code",
   "execution_count": 24,
   "metadata": {},
   "outputs": [],
   "source": [
    "# Class Imbalance Processing: Using re-sampling method\n",
    "from imblearn.over_sampling import SMOTE\n",
    "sm = SMOTE(random_state=SEED)\n",
    "Xtrain2_scaled, ytrain = sm.fit_sample(Xtrain2_scaled, ytrain_original)"
   ]
  },
  {
   "cell_type": "code",
   "execution_count": 25,
   "metadata": {},
   "outputs": [
    {
     "name": "stdout",
     "output_type": "stream",
     "text": [
      "Fitting models.\n",
      "naive bayes... Time elapsed  0:00:00.046005\n",
      "done\n",
      "knn... Time elapsed  0:00:02.562990\n",
      "done\n",
      "logistic... Time elapsed  0:00:00.233004\n",
      "done\n",
      "mlp-nn... Time elapsed  0:00:26.620014\n",
      "done\n",
      "decision tree... Time elapsed  0:00:00.507004\n",
      "done\n",
      "random forest... Time elapsed  0:00:09.178010\n",
      "done\n",
      "gbm... Time elapsed  0:00:11.958001\n",
      "done\n",
      "Done.\n",
      "\n",
      "Accuracy : 0.7199\n",
      "Precision : 0.5506\n",
      "Recall : 0.3812\n",
      "F1 score : 0.4505\n",
      "AUC score : 0.6716\n",
      "AP score : 0.5259\n",
      "\n",
      "Classification report : \n",
      "               precision    recall  f1-score   support\n",
      "\n",
      "           0       0.76      0.87      0.81      1953\n",
      "           1       0.55      0.38      0.45       842\n",
      "\n",
      "    accuracy                           0.72      2795\n",
      "   macro avg       0.66      0.62      0.63      2795\n",
      "weighted avg       0.70      0.72      0.70      2795\n",
      "\n",
      "\n",
      "Confusion matrix : \n",
      " [[1691  262]\n",
      " [ 521  321]]\n",
      "done.\n",
      "\n",
      "Accuracy : 0.6572\n",
      "Precision : 0.4497\n",
      "Recall : 0.6164\n",
      "F1 score : 0.5200\n",
      "AUC score : 0.6872\n",
      "AP score : 0.4646\n",
      "\n",
      "Classification report : \n",
      "               precision    recall  f1-score   support\n",
      "\n",
      "           0       0.80      0.67      0.73      1953\n",
      "           1       0.45      0.62      0.52       842\n",
      "\n",
      "    accuracy                           0.66      2795\n",
      "   macro avg       0.63      0.65      0.63      2795\n",
      "weighted avg       0.70      0.66      0.67      2795\n",
      "\n",
      "\n",
      "Confusion matrix : \n",
      " [[1318  635]\n",
      " [ 323  519]]\n",
      "done.\n",
      "\n",
      "Accuracy : 0.7242\n",
      "Precision : 0.5340\n",
      "Recall : 0.6615\n",
      "F1 score : 0.5910\n",
      "AUC score : 0.7700\n",
      "AP score : 0.6120\n",
      "\n",
      "Classification report : \n",
      "               precision    recall  f1-score   support\n",
      "\n",
      "           0       0.84      0.75      0.79      1953\n",
      "           1       0.53      0.66      0.59       842\n",
      "\n",
      "    accuracy                           0.72      2795\n",
      "   macro avg       0.69      0.71      0.69      2795\n",
      "weighted avg       0.75      0.72      0.73      2795\n",
      "\n",
      "\n",
      "Confusion matrix : \n",
      " [[1467  486]\n",
      " [ 285  557]]\n",
      "done.\n",
      "\n",
      "Accuracy : 0.7252\n",
      "Precision : 0.5333\n",
      "Recall : 0.7043\n",
      "F1 score : 0.6070\n",
      "AUC score : 0.7891\n",
      "AP score : 0.6522\n",
      "\n",
      "Classification report : \n",
      "               precision    recall  f1-score   support\n",
      "\n",
      "           0       0.85      0.73      0.79      1953\n",
      "           1       0.53      0.70      0.61       842\n",
      "\n",
      "    accuracy                           0.73      2795\n",
      "   macro avg       0.69      0.72      0.70      2795\n",
      "weighted avg       0.76      0.73      0.73      2795\n",
      "\n",
      "\n",
      "Confusion matrix : \n",
      " [[1434  519]\n",
      " [ 249  593]]\n",
      "done.\n",
      "\n",
      "Accuracy : 0.4204\n",
      "Precision : 0.3049\n",
      "Recall : 0.7221\n",
      "F1 score : 0.4288\n",
      "AUC score : 0.5051\n",
      "AP score : 0.3039\n",
      "\n",
      "Classification report : \n",
      "               precision    recall  f1-score   support\n",
      "\n",
      "           0       0.71      0.29      0.41      1953\n",
      "           1       0.30      0.72      0.43       842\n",
      "\n",
      "    accuracy                           0.42      2795\n",
      "   macro avg       0.51      0.51      0.42      2795\n",
      "weighted avg       0.59      0.42      0.42      2795\n",
      "\n",
      "\n",
      "Confusion matrix : \n",
      " [[ 567 1386]\n",
      " [ 234  608]]\n",
      "done.\n",
      "\n",
      "Accuracy : 0.6132\n",
      "Precision : 0.4220\n",
      "Recall : 0.7684\n",
      "F1 score : 0.5448\n",
      "AUC score : 0.7262\n",
      "AP score : 0.5706\n",
      "\n",
      "Classification report : \n",
      "               precision    recall  f1-score   support\n",
      "\n",
      "           0       0.85      0.55      0.66      1953\n",
      "           1       0.42      0.77      0.54       842\n",
      "\n",
      "    accuracy                           0.61      2795\n",
      "   macro avg       0.63      0.66      0.60      2795\n",
      "weighted avg       0.72      0.61      0.63      2795\n",
      "\n",
      "\n",
      "Confusion matrix : \n",
      " [[1067  886]\n",
      " [ 195  647]]\n",
      "done.\n",
      "\n",
      "Accuracy : 0.4766\n",
      "Precision : 0.3531\n",
      "Recall : 0.8860\n",
      "F1 score : 0.5049\n",
      "AUC score : 0.7508\n",
      "AP score : 0.6312\n",
      "\n",
      "Classification report : \n",
      "               precision    recall  f1-score   support\n",
      "\n",
      "           0       0.86      0.30      0.44      1953\n",
      "           1       0.35      0.89      0.50       842\n",
      "\n",
      "    accuracy                           0.48      2795\n",
      "   macro avg       0.61      0.59      0.47      2795\n",
      "weighted avg       0.71      0.48      0.46      2795\n",
      "\n",
      "\n",
      "Confusion matrix : \n",
      " [[ 586 1367]\n",
      " [  96  746]]\n",
      "done.\n",
      "\n"
     ]
    },
    {
     "data": {
      "text/plain": [
       "(0.47656529516994633,\n",
       " 0.3530525319451018,\n",
       " 0.8859857482185273,\n",
       " 0.5049069373942471,\n",
       " 0.7507789952238654,\n",
       " 0.6312119340514771)"
      ]
     },
     "execution_count": 25,
     "metadata": {},
     "output_type": "execute_result"
    }
   ],
   "source": [
    "models = get_models()\n",
    "Pm, Sm, model_cvsm = train_predict(models, Xtrain2_scaled, ytrain, Xtest2_scaled)\n",
    "evaluate(ytest, Sm, Pm)"
   ]
  },
  {
   "cell_type": "code",
   "execution_count": 26,
   "metadata": {},
   "outputs": [
    {
     "data": {
      "image/png": "[encoded data removed]",
      "text/plain": [
       "<Figure size 864x288 with 2 Axes>"
      ]
     },
     "metadata": {
      "needs_background": "light"
     },
     "output_type": "display_data"
    }
   ],
   "source": [
    "fig, ax = plt.subplots(1, 2, figsize=(12,4))    \n",
    "for column in Pm.columns:\n",
    "    roc_auc = roc_auc_score(ytest, Pm[column])\n",
    "    fpr, tpr, _ = roc_curve(ytest, Pm[column])\n",
    "    ax[0].plot(fpr, tpr, label='%s: %0.3f' % (column, roc_auc))\n",
    "\n",
    "    precision, recall, _ = precision_recall_curve(ytest, Pm[column])\n",
    "    ave_prec_rec = average_precision_score(ytest, Pm[column])\n",
    "    ax[1].plot(recall, precision, label='%s: %0.3f' % (column, ave_prec_rec))  \n",
    "\n",
    "    ax[0].set_xlim([0.0, 1.0])\n",
    "    ax[0].set_ylim([0.0, 1.05])\n",
    "    ax[0].set_xlabel('False Positive Rate')\n",
    "    ax[0].set_ylabel('True Positive Rate')\n",
    "    ax[0].set_title('Receiver operating characteristic')\n",
    "    ax[0].legend(loc=\"lower right\", title=\"Model: AUROC\")\n",
    "\n",
    "    ax[1].set_xlim([0.0, 1.0])\n",
    "    ax[1].set_ylim([0.0, 1.05])\n",
    "    ax[1].set_xlabel('Recall')\n",
    "    ax[1].set_ylabel('Precision')\n",
    "    ax[1].set_title('Precision-Recall curve')\n",
    "    ax[1].legend(loc=\"upper right\", title=\"Model: AP\")\n",
    "   \n",
    "#plt.savefig('mult_models_after_feat_select.png', format='png')"
   ]
  },
  {
   "cell_type": "markdown",
   "metadata": {},
   "source": [
    "From the above results, I selected Gradient Boosting as my main model and the set of variables from the Boruta algorithms"
   ]
  },
  {
   "cell_type": "markdown",
   "metadata": {},
   "source": [
    "## GBM tuning"
   ]
  },
  {
   "cell_type": "code",
   "execution_count": 27,
   "metadata": {},
   "outputs": [
    {
     "name": "stderr",
     "output_type": "stream",
     "text": [
      "C:\\Users\\Anh Tran\\anaconda3\\lib\\site-packages\\sklearn\\model_selection\\_search.py:847: FutureWarning: The parameter 'iid' is deprecated in 0.22 and will be removed in 0.24.\n",
      "  warnings.warn(\n"
     ]
    },
    {
     "data": {
      "text/plain": [
       "GridSearchCV(cv=5,\n",
       "             estimator=GradientBoostingClassifier(max_depth=4,\n",
       "                                                  max_features='sqrt',\n",
       "                                                  random_state=300,\n",
       "                                                  subsample=1),\n",
       "             iid=False, n_jobs=-1,\n",
       "             param_grid={'learning_rate': [1, 0.1, 0.01, 0.001],\n",
       "                         'n_estimators': [100, 500, 1000, 1500]},\n",
       "             scoring='roc_auc')"
      ]
     },
     "execution_count": 27,
     "metadata": {},
     "output_type": "execute_result"
    }
   ],
   "source": [
    "param1 = {\n",
    "    \"n_estimators\":[100,500,1000,1500],\n",
    "    \"learning_rate\":[1, 0.1, 0.01, 0.001]\n",
    "}\n",
    "\n",
    "tuning = GridSearchCV(estimator =GradientBoostingClassifier(max_depth=4, min_samples_split=2, min_samples_leaf=1, subsample=1, max_features='sqrt', random_state=SEED), \n",
    "            param_grid = param1, scoring='roc_auc',n_jobs=-1, iid=False, cv=5)\n",
    "tuning.fit(Xtrainb_scaled,ytrain)\n"
   ]
  },
  {
   "cell_type": "code",
   "execution_count": 28,
   "metadata": {},
   "outputs": [
    {
     "data": {
      "text/plain": [
       "({'learning_rate': 0.1, 'n_estimators': 500}, 0.8805240846477366)"
      ]
     },
     "execution_count": 28,
     "metadata": {},
     "output_type": "execute_result"
    }
   ],
   "source": [
    "tuning.best_params_, tuning.best_score_"
   ]
  },
  {
   "cell_type": "code",
   "execution_count": 29,
   "metadata": {},
   "outputs": [
    {
     "name": "stderr",
     "output_type": "stream",
     "text": [
      "C:\\Users\\Anh Tran\\anaconda3\\lib\\site-packages\\sklearn\\model_selection\\_search.py:847: FutureWarning: The parameter 'iid' is deprecated in 0.22 and will be removed in 0.24.\n",
      "  warnings.warn(\n"
     ]
    },
    {
     "data": {
      "text/plain": [
       "({'max_depth': 7}, 0.8830776384541276)"
      ]
     },
     "execution_count": 29,
     "metadata": {},
     "output_type": "execute_result"
    }
   ],
   "source": [
    "param2 = {\n",
    "   'max_depth':[2,3,4,5,6,7]\n",
    "}\n",
    "\n",
    "tuning = GridSearchCV(estimator =GradientBoostingClassifier(learning_rate=0.1,n_estimators=500, min_samples_split=2, min_samples_leaf=1, subsample=1, max_features='sqrt', random_state=SEED), \n",
    "            param_grid = param2, scoring='roc_auc',n_jobs=-1, iid=False, cv=5)\n",
    "tuning.fit(Xtrainb_scaled,ytrain)\n",
    "tuning.best_params_, tuning.best_score_"
   ]
  },
  {
   "cell_type": "code",
   "execution_count": 30,
   "metadata": {},
   "outputs": [
    {
     "data": {
      "text/plain": [
       "GradientBoostingClassifier(max_depth=7, max_features='sqrt', n_estimators=500,\n",
       "                           random_state=300)"
      ]
     },
     "execution_count": 30,
     "metadata": {},
     "output_type": "execute_result"
    }
   ],
   "source": [
    "new=GradientBoostingClassifier(learning_rate=0.1, n_estimators=500, max_depth=7, max_features='sqrt' , random_state=SEED)\n",
    "new.fit(Xtrainb_scaled,ytrain)\n"
   ]
  },
  {
   "cell_type": "code",
   "execution_count": 31,
   "metadata": {},
   "outputs": [
    {
     "name": "stdout",
     "output_type": "stream",
     "text": [
      "Accuracy : 0.7789\n",
      "Precision : 0.6652\n",
      "Recall : 0.5356\n",
      "F1 score : 0.5934\n",
      "AUC score : 0.7824\n",
      "AP score : 0.6926\n",
      "\n",
      "Classification report : \n",
      "               precision    recall  f1-score   support\n",
      "\n",
      "           0       0.82      0.88      0.85      1953\n",
      "           1       0.67      0.54      0.59       842\n",
      "\n",
      "    accuracy                           0.78      2795\n",
      "   macro avg       0.74      0.71      0.72      2795\n",
      "weighted avg       0.77      0.78      0.77      2795\n",
      "\n",
      "\n",
      "Confusion matrix : \n",
      " [[1726  227]\n",
      " [ 391  451]]\n"
     ]
    }
   ],
   "source": [
    "y_pred=new.predict(Xtestb_scaled)\n",
    "y_pred_proba = new.predict_proba(Xtestb_scaled)[:, 1]\n",
    "y_true = ytest\n",
    "acc = accuracy_score(y_true, y_pred)\n",
    "precision = precision_score(y_true, y_pred)\n",
    "recall = recall_score(y_true, y_pred)\n",
    "f1score = f1_score(y_true, y_pred)\n",
    "auc = roc_auc_score(y_true, y_pred_proba)\n",
    "ap = average_precision_score(y_true, y_pred_proba)\n",
    "print (\"Accuracy : {:.4f}\".format(acc))\n",
    "print(\"Precision : {:.4f}\".format(precision))\n",
    "print(\"Recall : {:.4f}\".format(recall))\n",
    "print(\"F1 score : {:.4f}\".format(f1score))\n",
    "print(\"AUC score : {:.4f}\".format(auc))\n",
    "print(\"AP score : {:.4f}\".format(ap))\n",
    "print(\"\\nClassification report : \\n\", classification_report(y_true, y_pred))\n",
    "print(\"\\nConfusion matrix : \\n\", confusion_matrix(y_true, y_pred))"
   ]
  },
  {
   "cell_type": "code",
   "execution_count": 32,
   "metadata": {},
   "outputs": [
    {
     "name": "stdout",
     "output_type": "stream",
     "text": [
      "as_length_IP                                 0.290714\n",
      "IP_history                                   0.137052\n",
      "svc_es_30days_pre                            0.091825\n",
      "svc_pre_all                                  0.082853\n",
      "svc_op_30days_pre                            0.082262\n",
      "svc_pre                                      0.079934\n",
      "svc_ip_30days_pre                            0.060790\n",
      "as_loc_IPFFS                                 0.057971\n",
      "as_loc_IPCAPS                                0.046412\n",
      "as_close_Home/Shelter/Self                   0.030626\n",
      "svc_ip_7days_pre                             0.023314\n",
      "as_close_Satisfactorily Achieved\\r\\nGoals    0.016247\n",
      "dtype: float64\n"
     ]
    },
    {
     "data": {
      "text/plain": [
       "Text(0, 0.5, 'Feature Importance Score')"
      ]
     },
     "execution_count": 32,
     "metadata": {},
     "output_type": "execute_result"
    },
    {
     "name": "stderr",
     "output_type": "stream",
     "text": [
      "C:\\Users\\Anh Tran\\anaconda3\\lib\\site-packages\\matplotlib\\backends\\backend_agg.py:214: RuntimeWarning: Glyph 13 missing from current font.\n",
      "  font.set_text(s, 0.0, flags=flags)\n",
      "C:\\Users\\Anh Tran\\anaconda3\\lib\\site-packages\\matplotlib\\backends\\backend_agg.py:183: RuntimeWarning: Glyph 13 missing from current font.\n",
      "  font.set_text(s, 0, flags=flags)\n"
     ]
    },
    {
     "data": {
      "image/png": "[encoded data removed]",
      "text/plain": [
       "<Figure size 432x288 with 1 Axes>"
      ]
     },
     "metadata": {
      "needs_background": "light"
     },
     "output_type": "display_data"
    }
   ],
   "source": [
    "feat_imp = pd.Series(new.feature_importances_, index=Xtrainb.columns).sort_values(ascending=False)\n",
    "print(feat_imp)\n",
    "feat_imp.plot(kind='bar', title='Importance of Features')\n",
    "plt.ylabel('Feature Importance Score')\n"
   ]
  },
  {
   "cell_type": "code",
   "execution_count": 33,
   "metadata": {},
   "outputs": [
    {
     "name": "stdout",
     "output_type": "stream",
     "text": [
      "Fitting models.\n",
      "naive bayes... Time elapsed  0:00:00.217812\n",
      "done\n",
      "knn... Time elapsed  0:00:01.001147\n",
      "done\n",
      "logistic... Time elapsed  0:00:00.161647\n",
      "done\n",
      "mlp-nn... Time elapsed  0:00:19.565003\n",
      "done\n",
      "decision tree... Time elapsed  0:00:00.310008\n",
      "done\n",
      "random forest... Time elapsed  0:00:06.096000\n",
      "done\n",
      "gbm... Time elapsed  0:00:06.657001\n",
      "done\n",
      "Done.\n",
      "\n",
      "svc_ip_30days_pre                            4.401424\n",
      "IP_history                                   2.346932\n",
      "svc_op_30days_pre                            1.787100\n",
      "svc_es_30days_pre                            1.096795\n",
      "svc_pre_all                                  0.642057\n",
      "as_close_Satisfactorily Achieved\\r\\nGoals   -0.438637\n",
      "as_close_Home/Shelter/Self                  -0.628238\n",
      "svc_pre                                     -1.053096\n",
      "as_length_IP                                -1.632578\n",
      "as_loc_IPCAPS                               -1.665435\n",
      "as_loc_IPFFS                                -1.817746\n",
      "svc_ip_7days_pre                            -3.465995\n",
      "Name: LR, dtype: float64\n"
     ]
    }
   ],
   "source": [
    "models = get_models()\n",
    "Pb, Sb, model_cvsb = train_predict(models, Xtrainb_scaled, ytrain, Xtestb_scaled)\n",
    "lr_importances = pd.Series(model_cvsb['logistic'].coef_[0], index=Xtrainb.columns, name = 'LR')\n",
    "lr_importances_abs = pd.Series(abs(model_cvsb['logistic'].coef_[0]), index=Xtrainb.columns, name = 'LR')\n",
    "print(lr_importances.sort_values(ascending=False))"
   ]
  },
  {
   "cell_type": "markdown",
   "metadata": {},
   "source": [
    "max_depth = 5 : This should be between 3-10. I’ve started with 5 but you can choose a different number as well. 4-6 can be good starting points.\\\n",
    "min_child_weight = 1 : A smaller value is chosen because it is a highly imbalanced class problem and leaf nodes can have smaller size groups.\\\n",
    "gamma = 0 : A smaller value like 0.1-0.2 can also be chosen for starting. This will anyways be tuned later.\\\n",
    "subsample, colsample_bytree = 0.8 : This is a commonly used used start value. Typical values range between 0.5-0.9.\\\n",
    "scale_pos_weight = 1: Because of high class imbalance."
   ]
  },
  {
   "cell_type": "markdown",
   "metadata": {},
   "source": [
    "### Archive codes"
   ]
  },
  {
   "cell_type": "code",
   "execution_count": 31,
   "metadata": {},
   "outputs": [
    {
     "data": {
      "text/plain": [
       "'\\n# impute missing values of categorical features with the most frequent object\\nfor col in categorical_features:\\n    df[col].fillna(df[col].value_counts().index[0], inplace=True)\\n'"
      ]
     },
     "execution_count": 31,
     "metadata": {},
     "output_type": "execute_result"
    }
   ],
   "source": [
    "'''\n",
    "# impute missing values of categorical features with the most frequent object\n",
    "for col in categorical_features:\n",
    "    df[col].fillna(df[col].value_counts().index[0], inplace=True)\n",
    "'''"
   ]
  },
  {
   "cell_type": "code",
   "execution_count": 32,
   "metadata": {},
   "outputs": [
    {
     "data": {
      "text/plain": [
       "\"\\ngsearch1 = GridSearchCV(estimator = XGBClassifier( learning_rate =0.1, n_estimators=140, max_depth=5,\\n min_child_weight=1, gamma=0, subsample=0.8, colsample_bytree=0.8,\\n objective= 'binary:logistic', nthread=4, scale_pos_weight=1, seed=27), \\n param_grid = param_test1, scoring='roc_auc',n_jobs=4,iid=False, cv=5)\\n\""
      ]
     },
     "execution_count": 32,
     "metadata": {},
     "output_type": "execute_result"
    }
   ],
   "source": [
    "'''\n",
    "gsearch1 = GridSearchCV(estimator = XGBClassifier( learning_rate =0.1, n_estimators=140, max_depth=5,\n",
    " min_child_weight=1, gamma=0, subsample=0.8, colsample_bytree=0.8,\n",
    " objective= 'binary:logistic', nthread=4, scale_pos_weight=1, seed=27), \n",
    " param_grid = param_test1, scoring='roc_auc',n_jobs=4,iid=False, cv=5)\n",
    "'''"
   ]
  },
  {
   "cell_type": "code",
   "execution_count": 33,
   "metadata": {},
   "outputs": [
    {
     "data": {
      "text/plain": [
       "'\\nxgb = XGBClassifier(learning_rate=0.02, n_estimators=600, objective=\\'binary:logistic\\',silent=True, nthread=4, \\n                    scale_pos_weight=1, random_state=SEED)\\ngrid_search = GridSearchCV(xgb, param_grid = parameters, scoring=\\'roc_auc\\', n_jobs=4, iid=False, cv=5)\\ngrid_search.fit(Xtrainb_scaled, ytrain)\\n\\n# retrieve the best parameter set from grid search\\nprint(\"\\nGrid Search Best parameters set :\")\\nprint(grid_search.best_params_)\\nprint(\"\\nBest score: %0.3f\" % grid_search.best_score_)\\ntime_elapsed = (time.monotonic()-start_time)/60\\nprint(\"Calculation took %.3f minutes\" % time_elapsed)\\n\\n'"
      ]
     },
     "execution_count": 33,
     "metadata": {},
     "output_type": "execute_result"
    }
   ],
   "source": [
    "'''\n",
    "xgb = XGBClassifier(learning_rate=0.02, n_estimators=600, objective='binary:logistic',silent=True, nthread=4, \n",
    "                    scale_pos_weight=1, random_state=SEED)\n",
    "grid_search = GridSearchCV(xgb, param_grid = parameters, scoring='roc_auc', n_jobs=4, iid=False, cv=5)\n",
    "grid_search.fit(Xtrainb_scaled, ytrain)\n",
    "\n",
    "# retrieve the best parameter set from grid search\n",
    "print(\"\\nGrid Search Best parameters set :\")\n",
    "print(grid_search.best_params_)\n",
    "print(\"\\nBest score: %0.3f\" % grid_search.best_score_)\n",
    "time_elapsed = (time.monotonic()-start_time)/60\n",
    "print(\"Calculation took %.3f minutes\" % time_elapsed)\n",
    "\n",
    "'''"
   ]
  },
  {
   "cell_type": "code",
   "execution_count": 34,
   "metadata": {},
   "outputs": [
    {
     "data": {
      "text/plain": [
       "'\\ndef score_models(P, y):\\n    \"\"\"Score model in prediction DF\"\"\"\\n    print(\"Scoring models.\")\\n    for m in P.columns:\\n        score = roc_auc_score(y, P.loc[:, m])\\n        ap = average_precision_score(y, P.loc[:, m])\\n        print(\"%-26s: %.3f, %.3f\" % (m, score, ap))\\n    print(\"Done.\\n\")\\n    \\ndef report_models(S, y):\\n    \"\"\"Score model in prediction DF\"\"\"\\n    print(\"Scoring models.\")\\n    for m in P.columns:\\n        report = classification_report(y, S.loc[:, m])\\n        print(report)\\n    print(\"Done.\\n\")\\n\\n'"
      ]
     },
     "execution_count": 34,
     "metadata": {},
     "output_type": "execute_result"
    }
   ],
   "source": [
    "'''\n",
    "def score_models(P, y):\n",
    "    \"\"\"Score model in prediction DF\"\"\"\n",
    "    print(\"Scoring models.\")\n",
    "    for m in P.columns:\n",
    "        score = roc_auc_score(y, P.loc[:, m])\n",
    "        ap = average_precision_score(y, P.loc[:, m])\n",
    "        print(\"%-26s: %.3f, %.3f\" % (m, score, ap))\n",
    "    print(\"Done.\\n\")\n",
    "    \n",
    "def report_models(S, y):\n",
    "    \"\"\"Score model in prediction DF\"\"\"\n",
    "    print(\"Scoring models.\")\n",
    "    for m in P.columns:\n",
    "        report = classification_report(y, S.loc[:, m])\n",
    "        print(report)\n",
    "    print(\"Done.\\n\")\n",
    "\n",
    "'''"
   ]
  },
  {
   "cell_type": "code",
   "execution_count": 35,
   "metadata": {},
   "outputs": [
    {
     "data": {
      "text/plain": [
       "\"\\nparam3 = {\\n   'min_samples_split':[4,8,10,20,40,60,80,100], \\n    'min_samples_leaf':[1,3,5,7,9]\\n}\\n\\ntuning = GridSearchCV(estimator =GradientBoostingClassifier(learning_rate=0.01, n_estimators=1500,max_depth=4, subsample=1,max_features='sqrt', random_state=SEED), \\n            param_grid = param3, scoring='accuracy',n_jobs=-1, iid=False, cv=5)\\ntuning.fit(X_train,y_train)\\ntuning.grid_scores_, tuning.best_params_, tuning.best_score_\\n\\n\""
      ]
     },
     "execution_count": 35,
     "metadata": {},
     "output_type": "execute_result"
    }
   ],
   "source": [
    "'''\n",
    "param3 = {\n",
    "   'min_samples_split':[4,8,10,20,40,60,80,100], \n",
    "    'min_samples_leaf':[1,3,5,7,9]\n",
    "}\n",
    "\n",
    "tuning = GridSearchCV(estimator =GradientBoostingClassifier(learning_rate=0.01, n_estimators=1500,max_depth=4, subsample=1,max_features='sqrt', random_state=SEED), \n",
    "            param_grid = param3, scoring='accuracy',n_jobs=-1, iid=False, cv=5)\n",
    "tuning.fit(X_train,y_train)\n",
    "tuning.grid_scores_, tuning.best_params_, tuning.best_score_\n",
    "\n",
    "'''"
   ]
  }
 ],
 "metadata": {
  "kernelspec": {
   "display_name": "Python 3",
   "language": "python",
   "name": "python3"
  },
  "language_info": {
   "codemirror_mode": {
    "name": "ipython",
    "version": 3
   },
   "file_extension": ".py",
   "mimetype": "text/x-python",
   "name": "python",
   "nbconvert_exporter": "python",
   "pygments_lexer": "ipython3",
   "version": "3.8.3"
  }
 },
 "nbformat": 4,
 "nbformat_minor": 4
}
