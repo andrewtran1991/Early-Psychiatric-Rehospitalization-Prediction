{
 "cells": [
  {
   "cell_type": "code",
   "execution_count": 9,
   "metadata": {},
   "outputs": [],
   "source": [
    "import pandas as pd\n",
    "import numpy as np\n",
    "import matplotlib.pyplot as plt\n",
    "import seaborn as sns\n",
    "import time\n",
    "from scipy.stats import chi2_contingency\n",
    "import math\n",
    "from collections import Counter\n",
    "from scipy.stats import entropy\n",
    "from sklearn.preprocessing import MinMaxScaler, StandardScaler\n",
    "from numpy import inf\n",
    "from sklearn.model_selection import GridSearchCV\n",
    "\n"
   ]
  },
  {
   "cell_type": "code",
   "execution_count": 10,
   "metadata": {},
   "outputs": [],
   "source": [
    "# Load the train and test datasets\n",
    "Xtrain_scaled = np.load('Xtrain_scaled.npy')\n",
    "Xtest_scaled = np.load('Xtest_scaled.npy')\n",
    "Xtrainb_scaled = np.load('Xtrainb_scaled.npy')\n",
    "Xtestb_scaled = np.load('Xtestb_scaled.npy')\n",
    "ytrain = np.load('ytrain.npy')\n",
    "ytest = np.load('ytest.npy')\n",
    "df_train = pd.read_csv('../paths_CYF_trainData.csv')\n",
    "df_test = pd.read_csv('../paths_CYF_testData.csv')\n"
   ]
  },
  {
   "cell_type": "code",
   "execution_count": 11,
   "metadata": {},
   "outputs": [],
   "source": [
    "# Initial variables for the model. \n",
    "# I focus exclusively on the pre services and loc plus demographics with less than 20% of missing data.\n",
    "\n",
    "id_cols = ['id', 'client_id']\n",
    "\n",
    "demo_cols = ['age', 'age_group','race','gender','dx_group','lang', 'substance','insurance','liv']\n",
    "\n",
    "ip_cols = ['as_loc', 'as_length_IP', 'IP_history', 'as_close']\n",
    "\n",
    "loc_pre_cols = ['loc1_pre', 'loc2_pre', 'loc3_pre', 'loc4_pre', 'loc5_pre']\n",
    "\n",
    "svc_total_pre_cols = ['svc_pre_all', 'svc_pre', 'svc_pre_sub']\n",
    "\n",
    "svc_CYF_timepoint_pre_cols = ['svc_op_7days_pre', 'svc_op_30days_pre', 'svc_op_60days_pre', 'svc_op_90days_pre',\n",
    "                     'svc_es_7days_pre', 'svc_es_30days_pre', 'svc_es_60days_pre', 'svc_es_90days_pre',\n",
    "                     'svc_dt_7days_pre', 'svc_dt_30days_pre', 'svc_dt_60days_pre', 'svc_dt_90days_pre',\n",
    "                     'svc_ip_7days_pre', 'svc_ip_30days_pre', 'svc_ip_60days_pre', 'svc_ip_90days_pre']\n",
    "\n",
    "output_col = ['svc_CYF_ip_90days_postdc_bi']\n",
    "\n",
    "drop_cols = ['']"
   ]
  },
  {
   "cell_type": "code",
   "execution_count": 12,
   "metadata": {},
   "outputs": [],
   "source": [
    "numerical_features = ['age', 'as_length_IP', 'IP_history', 'svc_pre_all', 'svc_pre', 'svc_pre_sub']\n",
    "numerical_features = numerical_features  + svc_CYF_timepoint_pre_cols\n",
    "dummy_vars = df_train.loc[:, 'age_group_12-15 Yrs':'loc5_pre_WRAP']\n",
    "dummy_vars = list(dummy_vars.columns)\n",
    "categorical_features = dummy_vars + ['substance', 'new','CWS', 'ADS', 'JJ']\n",
    "all_features = numerical_features + categorical_features\n",
    "\n",
    "boruta_features = ['as_length_IP', 'IP_history', 'svc_pre_all', 'svc_pre', 'svc_op_30days_pre', 'svc_es_30days_pre', 'svc_ip_7days_pre', 'svc_ip_30days_pre', 'as_loc_IPCAPS', 'as_loc_IPFFS', 'as_close_Home/Shelter/Self', 'loc2_pre_None']"
   ]
  },
  {
   "cell_type": "code",
   "execution_count": 13,
   "metadata": {},
   "outputs": [],
   "source": [
    "Xtrain = df_train[all_features]\n",
    "Xtrainb = df_train[boruta_features]"
   ]
  },
  {
   "cell_type": "code",
   "execution_count": 14,
   "metadata": {},
   "outputs": [],
   "source": [
    "# Set a seed for reproducibility\n",
    "SEED = 300\n",
    "np.random.seed(SEED)"
   ]
  },
  {
   "cell_type": "code",
   "execution_count": 15,
   "metadata": {},
   "outputs": [
    {
     "name": "stdout",
     "output_type": "stream",
     "text": [
      "False\n",
      "False\n"
     ]
    }
   ],
   "source": [
    "print(np.any(np.isnan(Xtrain_scaled)))\n",
    "print(np.any(np.isnan(ytrain)))\n",
    "#np.all(np.isfinite(Xtrain_scaled))"
   ]
  },
  {
   "cell_type": "code",
   "execution_count": 16,
   "metadata": {},
   "outputs": [
    {
     "name": "stdout",
     "output_type": "stream",
     "text": [
      "False\n",
      "False\n"
     ]
    }
   ],
   "source": [
    "print(np.any(np.isnan(Xtest_scaled)))\n",
    "print(np.any(np.isnan(ytest)))"
   ]
  },
  {
   "cell_type": "markdown",
   "metadata": {},
   "source": [
    "### Fit all variables into the models"
   ]
  },
  {
   "cell_type": "code",
   "execution_count": 17,
   "metadata": {},
   "outputs": [],
   "source": [
    "# import datetime\n",
    "from datetime import datetime\n",
    "\n",
    "# import a host of Scikit-learn models\n",
    "from sklearn.svm import SVC, LinearSVC\n",
    "from sklearn.naive_bayes import GaussianNB\n",
    "from sklearn.ensemble import RandomForestClassifier, GradientBoostingClassifier\n",
    "from sklearn.linear_model import LogisticRegression\n",
    "from sklearn.neighbors import KNeighborsClassifier\n",
    "from sklearn.neural_network import MLPClassifier\n",
    "from xgboost import XGBClassifier\n",
    "from sklearn.tree import DecisionTreeClassifier\n",
    "\n",
    "# import model metrics\n",
    "from sklearn.metrics import *\n",
    "\n",
    "\n",
    "def get_models():\n",
    "    \"\"\"Generate a library of base learners.\"\"\"\n",
    "    nb = GaussianNB()\n",
    "    knn = KNeighborsClassifier(n_neighbors=3)\n",
    "    lr = LogisticRegression(C=1, random_state=SEED, solver='liblinear', class_weight='balanced')\n",
    "    nn = MLPClassifier((100, 50), early_stopping=True, random_state=SEED, max_iter=400, activation='tanh')\n",
    "    dt = DecisionTreeClassifier(random_state=SEED, class_weight='balanced')\n",
    "    rf = RandomForestClassifier(n_estimators=100, random_state=SEED, class_weight='balanced')\n",
    "    gb = GradientBoostingClassifier(n_estimators=100, random_state=SEED)\n",
    "    \n",
    "    models = {'naive bayes': nb,\n",
    "              'knn': knn,\n",
    "              'logistic': lr,\n",
    "              'mlp-nn': nn,\n",
    "              'decision tree': dt,\n",
    "              'random forest': rf,\n",
    "              'gbm': gb\n",
    "             }\n",
    "\n",
    "    return models\n",
    "\n",
    "\n",
    "def train_predict(model_list, xtrain, ytrain, xtest):\n",
    "    \"\"\"Fit models in list on training set and return preds\"\"\"\n",
    "    P = np.zeros((ytest.shape[0], len(model_list)))\n",
    "    P = pd.DataFrame(P)\n",
    "    \n",
    "    S = np.zeros((ytest.shape[0], len(model_list)))\n",
    "    S = pd.DataFrame(S)\n",
    "    \n",
    "    print(\"Fitting models.\")\n",
    "    cols = list()\n",
    "    model_cvs = {}\n",
    "\n",
    "    for i, (name, m) in enumerate(models.items()):\n",
    "        current_time = datetime.now() \n",
    "        print(\"%s...\" % name, end=\" \", flush=False)\n",
    "        model_cvs[name] = m.fit(xtrain, ytrain)\n",
    "        m.fit(xtrain, ytrain)\n",
    "        P.iloc[:, i] = m.predict_proba(xtest)[:, 1]\n",
    "        S.iloc[:, i] = m.predict(xtest)\n",
    "        cols.append(name)\n",
    "        time_elapsed = datetime.now() - current_time\n",
    "        print(\"Time elapsed \", time_elapsed)\n",
    "        print(\"done\")\n",
    "\n",
    "    P.columns = cols\n",
    "    S.columns = cols\n",
    "    \n",
    "    print(\"Done.\\n\")\n",
    "    return P, S, model_cvs\n",
    "\n",
    "    \n",
    "def evaluate(y_true, S, P):\n",
    "    for m in P.columns:\n",
    "        y_pred = S.loc[:, m]\n",
    "        y_pred_proba = P.loc[:, m]\n",
    "        acc = accuracy_score(y_true, y_pred)\n",
    "        precision = precision_score(y_true, y_pred)\n",
    "        recall = recall_score(y_true, y_pred)\n",
    "        f1score = f1_score(y_true, y_pred)\n",
    "        auc = roc_auc_score(y_true, y_pred_proba)\n",
    "        ap = average_precision_score(y_true, y_pred_proba)\n",
    "        print (\"Accuracy : {:.4f}\".format(acc))\n",
    "        print(\"Precision : {:.4f}\".format(precision))\n",
    "        print(\"Recall : {:.4f}\".format(recall))\n",
    "        print(\"F1 score : {:.4f}\".format(f1score))\n",
    "        print(\"AUC score : {:.4f}\".format(auc))\n",
    "        print(\"AP score : {:.4f}\".format(ap))\n",
    "        print(\"\\nClassification report : \\n\", classification_report(y_true, y_pred))\n",
    "        print(\"\\nConfusion matrix : \\n\", confusion_matrix(y_true, y_pred))\n",
    "        print(\"done.\\n\")  \n",
    "    return acc, precision, recall, f1score, auc, ap"
   ]
  },
  {
   "cell_type": "code",
   "execution_count": 18,
   "metadata": {},
   "outputs": [
    {
     "name": "stdout",
     "output_type": "stream",
     "text": [
      "Fitting models.\n",
      "naive bayes... Time elapsed  0:00:00.167005\n",
      "done\n",
      "knn... Time elapsed  5:38:35.006368\n",
      "done\n",
      "logistic... Time elapsed  0:00:01.210999\n",
      "done\n",
      "mlp-nn... Time elapsed  0:00:33.221000\n",
      "done\n",
      "decision tree... Time elapsed  0:00:01.548002\n",
      "done\n",
      "random forest... Time elapsed  0:00:08.179005\n",
      "done\n",
      "gbm... Time elapsed  0:00:35.525993\n",
      "done\n",
      "Done.\n",
      "\n",
      "Accuracy : 0.6597\n",
      "Precision : 0.6854\n",
      "Recall : 0.2633\n",
      "F1 score : 0.3805\n",
      "AUC score : 0.6956\n",
      "AP score : 0.5900\n",
      "\n",
      "Classification report : \n",
      "               precision    recall  f1-score   support\n",
      "\n",
      "           0       0.66      0.92      0.77      1686\n",
      "           1       0.69      0.26      0.38      1109\n",
      "\n",
      "    accuracy                           0.66      2795\n",
      "   macro avg       0.67      0.59      0.57      2795\n",
      "weighted avg       0.67      0.66      0.61      2795\n",
      "\n",
      "\n",
      "Confusion matrix : \n",
      " [[1552  134]\n",
      " [ 817  292]]\n",
      "done.\n",
      "\n",
      "Accuracy : 0.6519\n",
      "Precision : 0.5495\n",
      "Recall : 0.6808\n",
      "F1 score : 0.6081\n",
      "AUC score : 0.6984\n",
      "AP score : 0.5503\n",
      "\n",
      "Classification report : \n",
      "               precision    recall  f1-score   support\n",
      "\n",
      "           0       0.75      0.63      0.69      1686\n",
      "           1       0.55      0.68      0.61      1109\n",
      "\n",
      "    accuracy                           0.65      2795\n",
      "   macro avg       0.65      0.66      0.65      2795\n",
      "weighted avg       0.67      0.65      0.66      2795\n",
      "\n",
      "\n",
      "Confusion matrix : \n",
      " [[1067  619]\n",
      " [ 354  755]]\n",
      "done.\n",
      "\n",
      "Accuracy : 0.7145\n",
      "Precision : 0.6317\n",
      "Recall : 0.6727\n",
      "F1 score : 0.6515\n",
      "AUC score : 0.7796\n",
      "AP score : 0.7090\n",
      "\n",
      "Classification report : \n",
      "               precision    recall  f1-score   support\n",
      "\n",
      "           0       0.78      0.74      0.76      1686\n",
      "           1       0.63      0.67      0.65      1109\n",
      "\n",
      "    accuracy                           0.71      2795\n",
      "   macro avg       0.70      0.71      0.70      2795\n",
      "weighted avg       0.72      0.71      0.72      2795\n",
      "\n",
      "\n",
      "Confusion matrix : \n",
      " [[1251  435]\n",
      " [ 363  746]]\n",
      "done.\n",
      "\n",
      "Accuracy : 0.7106\n",
      "Precision : 0.6230\n",
      "Recall : 0.6853\n",
      "F1 score : 0.6526\n",
      "AUC score : 0.7837\n",
      "AP score : 0.7092\n",
      "\n",
      "Classification report : \n",
      "               precision    recall  f1-score   support\n",
      "\n",
      "           0       0.78      0.73      0.75      1686\n",
      "           1       0.62      0.69      0.65      1109\n",
      "\n",
      "    accuracy                           0.71      2795\n",
      "   macro avg       0.70      0.71      0.70      2795\n",
      "weighted avg       0.72      0.71      0.71      2795\n",
      "\n",
      "\n",
      "Confusion matrix : \n",
      " [[1226  460]\n",
      " [ 349  760]]\n",
      "done.\n",
      "\n",
      "Accuracy : 0.6612\n",
      "Precision : 0.5685\n",
      "Recall : 0.6060\n",
      "F1 score : 0.5866\n",
      "AUC score : 0.6505\n",
      "AP score : 0.5012\n",
      "\n",
      "Classification report : \n",
      "               precision    recall  f1-score   support\n",
      "\n",
      "           0       0.73      0.70      0.71      1686\n",
      "           1       0.57      0.61      0.59      1109\n",
      "\n",
      "    accuracy                           0.66      2795\n",
      "   macro avg       0.65      0.65      0.65      2795\n",
      "weighted avg       0.67      0.66      0.66      2795\n",
      "\n",
      "\n",
      "Confusion matrix : \n",
      " [[1176  510]\n",
      " [ 437  672]]\n",
      "done.\n",
      "\n",
      "Accuracy : 0.7327\n",
      "Precision : 0.6761\n",
      "Recall : 0.6267\n",
      "F1 score : 0.6504\n",
      "AUC score : 0.7932\n",
      "AP score : 0.7209\n",
      "\n",
      "Classification report : \n",
      "               precision    recall  f1-score   support\n",
      "\n",
      "           0       0.77      0.80      0.78      1686\n",
      "           1       0.68      0.63      0.65      1109\n",
      "\n",
      "    accuracy                           0.73      2795\n",
      "   macro avg       0.72      0.71      0.72      2795\n",
      "weighted avg       0.73      0.73      0.73      2795\n",
      "\n",
      "\n",
      "Confusion matrix : \n",
      " [[1353  333]\n",
      " [ 414  695]]\n",
      "done.\n",
      "\n",
      "Accuracy : 0.7478\n",
      "Precision : 0.7049\n",
      "Recall : 0.6267\n",
      "F1 score : 0.6635\n",
      "AUC score : 0.8128\n",
      "AP score : 0.7624\n",
      "\n",
      "Classification report : \n",
      "               precision    recall  f1-score   support\n",
      "\n",
      "           0       0.77      0.83      0.80      1686\n",
      "           1       0.70      0.63      0.66      1109\n",
      "\n",
      "    accuracy                           0.75      2795\n",
      "   macro avg       0.74      0.73      0.73      2795\n",
      "weighted avg       0.74      0.75      0.74      2795\n",
      "\n",
      "\n",
      "Confusion matrix : \n",
      " [[1395  291]\n",
      " [ 414  695]]\n",
      "done.\n",
      "\n"
     ]
    },
    {
     "data": {
      "text/plain": [
       "(0.7477638640429338,\n",
       " 0.704868154158215,\n",
       " 0.6266907123534716,\n",
       " 0.6634844868735084,\n",
       " 0.8127530386025263,\n",
       " 0.7624249594967306)"
      ]
     },
     "execution_count": 18,
     "metadata": {},
     "output_type": "execute_result"
    }
   ],
   "source": [
    "models = get_models()\n",
    "P, S, model_cvs = train_predict(models, Xtrain_scaled, ytrain, Xtest_scaled)\n",
    "evaluate(ytest, S, P)"
   ]
  },
  {
   "cell_type": "code",
   "execution_count": 19,
   "metadata": {},
   "outputs": [
    {
     "data": {
      "image/png": "[encoded data removed]",
      "text/plain": [
       "<Figure size 864x288 with 2 Axes>"
      ]
     },
     "metadata": {
      "needs_background": "light"
     },
     "output_type": "display_data"
    }
   ],
   "source": [
    "fig, ax = plt.subplots(1, 2, figsize=(12,4))    \n",
    "for column in P.columns:\n",
    "    roc_auc = roc_auc_score(ytest, P[column])\n",
    "    fpr, tpr, _ = roc_curve(ytest, P[column])\n",
    "    ax[0].plot(fpr, tpr, label='%s: %0.3f' % (column, roc_auc))\n",
    "\n",
    "    precision, recall, _ = precision_recall_curve(ytest, P[column])\n",
    "    ave_prec_rec = average_precision_score(ytest, P[column])\n",
    "    ax[1].plot(recall, precision, label='%s: %0.3f' % (column, ave_prec_rec))  \n",
    "\n",
    "    ax[0].set_xlim([0.0, 1.0])\n",
    "    ax[0].set_ylim([0.0, 1.05])\n",
    "    ax[0].set_xlabel('False Positive Rate')\n",
    "    ax[0].set_ylabel('True Positive Rate')\n",
    "    ax[0].set_title('Receiver operating characteristic')\n",
    "    ax[0].legend(loc=\"lower right\", title=\"Model: AUROC\")\n",
    "\n",
    "    ax[1].set_xlim([0.0, 1.0])\n",
    "    ax[1].set_ylim([0.0, 1.05])\n",
    "    ax[1].set_xlabel('Recall')\n",
    "    ax[1].set_ylabel('Precision')\n",
    "    ax[1].set_title('Precision-Recall curve')\n",
    "    ax[1].legend(loc=\"upper right\", title=\"Model: AP\")\n",
    "   \n",
    "#plt.savefig('mult_models_after_feat_select.png', format='png')"
   ]
  },
  {
   "cell_type": "code",
   "execution_count": 20,
   "metadata": {},
   "outputs": [
    {
     "name": "stdout",
     "output_type": "stream",
     "text": [
      "Top 15 features\n",
      "svc_ip_60days_pre                   2.668672\n",
      "svc_ip_90days_pre                   2.477471\n",
      "IP_history                          2.053283\n",
      "svc_ip_30days_pre                   1.658656\n",
      "loc5_pre_CR                         1.577583\n",
      "as_close_Psychiatric Hospital       1.518364\n",
      "svc_es_90days_pre                   1.468350\n",
      "dx_group_Other/ Excluded            0.966001\n",
      "loc1_pre_CM                         0.854964\n",
      "loc2_pre_DTCTF                      0.809817\n",
      "dx_group_Schizophrenic Disorders    0.802817\n",
      "as_close_Unknown                    0.768030\n",
      "as_close_Medical Hospital           0.754779\n",
      "loc5_pre_PREV                       0.742491\n",
      "svc_dt_30days_pre                   0.725448\n",
      "Name: LR, dtype: float64\n"
     ]
    }
   ],
   "source": [
    "lr_importances = pd.Series(model_cvs['logistic'].coef_[0], index=Xtrain.columns, name = 'LR')\n",
    "lr_importances_abs = pd.Series(abs(model_cvs['logistic'].coef_[0]), index=Xtrain.columns, name = 'LR')\n",
    "print(\"Top 15 features\")\n",
    "print(lr_importances.nlargest(15))"
   ]
  },
  {
   "cell_type": "code",
   "execution_count": 21,
   "metadata": {},
   "outputs": [
    {
     "name": "stdout",
     "output_type": "stream",
     "text": [
      "Top 15 features\n",
      "IP_history           0.151489\n",
      "as_length_IP         0.129877\n",
      "svc_pre_all          0.049380\n",
      "svc_ip_60days_pre    0.044546\n",
      "age                  0.038225\n",
      "svc_pre              0.032116\n",
      "as_loc_IPFFS         0.028677\n",
      "svc_es_90days_pre    0.028606\n",
      "svc_op_90days_pre    0.026964\n",
      "svc_op_60days_pre    0.025426\n",
      "svc_op_30days_pre    0.024046\n",
      "svc_op_7days_pre     0.020144\n",
      "svc_ip_7days_pre     0.017032\n",
      "as_loc_IPCAPS        0.015486\n",
      "svc_es_30days_pre    0.014448\n",
      "Name: DT, dtype: float64\n"
     ]
    }
   ],
   "source": [
    "dt_importances = pd.Series(model_cvs['decision tree'].feature_importances_, index=Xtrain.columns, name = 'DT')\n",
    "print(\"Top 15 features\")\n",
    "print(dt_importances.nlargest(15))"
   ]
  },
  {
   "cell_type": "code",
   "execution_count": 22,
   "metadata": {},
   "outputs": [
    {
     "name": "stdout",
     "output_type": "stream",
     "text": [
      "Top 15 features\n",
      "as_length_IP         0.078702\n",
      "IP_history           0.058355\n",
      "svc_pre_all          0.042175\n",
      "age                  0.037652\n",
      "svc_pre              0.037272\n",
      "svc_ip_90days_pre    0.037077\n",
      "svc_op_90days_pre    0.033296\n",
      "svc_op_60days_pre    0.030365\n",
      "svc_es_90days_pre    0.027819\n",
      "svc_op_30days_pre    0.027233\n",
      "svc_es_60days_pre    0.026638\n",
      "svc_ip_60days_pre    0.024895\n",
      "as_loc_IPFFS         0.024767\n",
      "svc_ip_30days_pre    0.023544\n",
      "svc_op_7days_pre     0.023316\n",
      "Name: RF, dtype: float64\n"
     ]
    }
   ],
   "source": [
    "rf_importances = pd.Series(model_cvs['random forest'].feature_importances_, index=Xtrain.columns, name = 'RF')\n",
    "print(\"Top 15 features\")\n",
    "print(rf_importances.nlargest(15))"
   ]
  },
  {
   "cell_type": "code",
   "execution_count": 23,
   "metadata": {},
   "outputs": [
    {
     "name": "stdout",
     "output_type": "stream",
     "text": [
      "Top 15 features\n",
      "IP_history                    0.320899\n",
      "as_length_IP                  0.165567\n",
      "svc_ip_90days_pre             0.093611\n",
      "as_loc_IPFFS                  0.080643\n",
      "as_loc_IPCAPS                 0.051938\n",
      "svc_ip_60days_pre             0.041282\n",
      "age                           0.031794\n",
      "svc_ip_7days_pre              0.025058\n",
      "as_close_Home/Shelter/Self    0.019683\n",
      "svc_es_90days_pre             0.019099\n",
      "svc_pre_sub                   0.014231\n",
      "svc_op_90days_pre             0.012528\n",
      "svc_es_60days_pre             0.011830\n",
      "svc_op_7days_pre              0.011744\n",
      "liv_House or Apartment        0.010152\n",
      "Name: GBM, dtype: float64\n"
     ]
    }
   ],
   "source": [
    "gbm_importances = pd.Series(model_cvs['gbm'].feature_importances_, index=Xtrain.columns, name = 'GBM')\n",
    "print(\"Top 15 features\")\n",
    "print(gbm_importances.nlargest(15))"
   ]
  },
  {
   "cell_type": "code",
   "execution_count": 24,
   "metadata": {},
   "outputs": [
    {
     "data": {
      "text/html": [
       "<div>\n",
       "<style scoped>\n",
       "    .dataframe tbody tr th:only-of-type {\n",
       "        vertical-align: middle;\n",
       "    }\n",
       "\n",
       "    .dataframe tbody tr th {\n",
       "        vertical-align: top;\n",
       "    }\n",
       "\n",
       "    .dataframe thead th {\n",
       "        text-align: right;\n",
       "    }\n",
       "</style>\n",
       "<table border=\"1\" class=\"dataframe\">\n",
       "  <thead>\n",
       "    <tr style=\"text-align: right;\">\n",
       "      <th></th>\n",
       "      <th>Variable</th>\n",
       "      <th>LR</th>\n",
       "      <th>DT</th>\n",
       "      <th>RF</th>\n",
       "      <th>GBM</th>\n",
       "      <th>avg</th>\n",
       "    </tr>\n",
       "  </thead>\n",
       "  <tbody>\n",
       "    <tr>\n",
       "      <th>0</th>\n",
       "      <td>IP_history</td>\n",
       "      <td>2.053283</td>\n",
       "      <td>0.151489</td>\n",
       "      <td>0.058355</td>\n",
       "      <td>0.320899</td>\n",
       "      <td>0.176915</td>\n",
       "    </tr>\n",
       "    <tr>\n",
       "      <th>1</th>\n",
       "      <td>as_length_IP</td>\n",
       "      <td>-0.401236</td>\n",
       "      <td>0.129877</td>\n",
       "      <td>0.078702</td>\n",
       "      <td>0.165567</td>\n",
       "      <td>0.124715</td>\n",
       "    </tr>\n",
       "    <tr>\n",
       "      <th>2</th>\n",
       "      <td>svc_ip_90days_pre</td>\n",
       "      <td>2.477471</td>\n",
       "      <td>0.008337</td>\n",
       "      <td>0.037077</td>\n",
       "      <td>0.093611</td>\n",
       "      <td>0.046342</td>\n",
       "    </tr>\n",
       "    <tr>\n",
       "      <th>3</th>\n",
       "      <td>as_loc_IPFFS</td>\n",
       "      <td>-2.269884</td>\n",
       "      <td>0.028677</td>\n",
       "      <td>0.024767</td>\n",
       "      <td>0.080643</td>\n",
       "      <td>0.044695</td>\n",
       "    </tr>\n",
       "    <tr>\n",
       "      <th>4</th>\n",
       "      <td>svc_ip_60days_pre</td>\n",
       "      <td>2.668672</td>\n",
       "      <td>0.044546</td>\n",
       "      <td>0.024895</td>\n",
       "      <td>0.041282</td>\n",
       "      <td>0.036908</td>\n",
       "    </tr>\n",
       "    <tr>\n",
       "      <th>5</th>\n",
       "      <td>age</td>\n",
       "      <td>-0.592695</td>\n",
       "      <td>0.038225</td>\n",
       "      <td>0.037652</td>\n",
       "      <td>0.031794</td>\n",
       "      <td>0.035890</td>\n",
       "    </tr>\n",
       "    <tr>\n",
       "      <th>6</th>\n",
       "      <td>svc_pre_all</td>\n",
       "      <td>0.084994</td>\n",
       "      <td>0.049380</td>\n",
       "      <td>0.042175</td>\n",
       "      <td>0.000335</td>\n",
       "      <td>0.030630</td>\n",
       "    </tr>\n",
       "    <tr>\n",
       "      <th>7</th>\n",
       "      <td>as_loc_IPCAPS</td>\n",
       "      <td>-2.042154</td>\n",
       "      <td>0.015486</td>\n",
       "      <td>0.017378</td>\n",
       "      <td>0.051938</td>\n",
       "      <td>0.028268</td>\n",
       "    </tr>\n",
       "    <tr>\n",
       "      <th>8</th>\n",
       "      <td>svc_es_90days_pre</td>\n",
       "      <td>1.468350</td>\n",
       "      <td>0.028606</td>\n",
       "      <td>0.027819</td>\n",
       "      <td>0.019099</td>\n",
       "      <td>0.025175</td>\n",
       "    </tr>\n",
       "    <tr>\n",
       "      <th>9</th>\n",
       "      <td>svc_op_90days_pre</td>\n",
       "      <td>0.525020</td>\n",
       "      <td>0.026964</td>\n",
       "      <td>0.033296</td>\n",
       "      <td>0.012528</td>\n",
       "      <td>0.024263</td>\n",
       "    </tr>\n",
       "    <tr>\n",
       "      <th>10</th>\n",
       "      <td>svc_pre</td>\n",
       "      <td>-0.760310</td>\n",
       "      <td>0.032116</td>\n",
       "      <td>0.037272</td>\n",
       "      <td>0.000375</td>\n",
       "      <td>0.023254</td>\n",
       "    </tr>\n",
       "    <tr>\n",
       "      <th>11</th>\n",
       "      <td>svc_op_60days_pre</td>\n",
       "      <td>0.633807</td>\n",
       "      <td>0.025426</td>\n",
       "      <td>0.030365</td>\n",
       "      <td>0.005679</td>\n",
       "      <td>0.020490</td>\n",
       "    </tr>\n",
       "    <tr>\n",
       "      <th>12</th>\n",
       "      <td>svc_op_30days_pre</td>\n",
       "      <td>0.396787</td>\n",
       "      <td>0.024046</td>\n",
       "      <td>0.027233</td>\n",
       "      <td>0.005115</td>\n",
       "      <td>0.018798</td>\n",
       "    </tr>\n",
       "    <tr>\n",
       "      <th>13</th>\n",
       "      <td>svc_op_7days_pre</td>\n",
       "      <td>-0.116739</td>\n",
       "      <td>0.020144</td>\n",
       "      <td>0.023316</td>\n",
       "      <td>0.011744</td>\n",
       "      <td>0.018401</td>\n",
       "    </tr>\n",
       "    <tr>\n",
       "      <th>14</th>\n",
       "      <td>svc_ip_7days_pre</td>\n",
       "      <td>-1.711906</td>\n",
       "      <td>0.017032</td>\n",
       "      <td>0.009654</td>\n",
       "      <td>0.025058</td>\n",
       "      <td>0.017248</td>\n",
       "    </tr>\n",
       "  </tbody>\n",
       "</table>\n",
       "</div>"
      ],
      "text/plain": [
       "             Variable        LR        DT        RF       GBM       avg\n",
       "0          IP_history  2.053283  0.151489  0.058355  0.320899  0.176915\n",
       "1        as_length_IP -0.401236  0.129877  0.078702  0.165567  0.124715\n",
       "2   svc_ip_90days_pre  2.477471  0.008337  0.037077  0.093611  0.046342\n",
       "3        as_loc_IPFFS -2.269884  0.028677  0.024767  0.080643  0.044695\n",
       "4   svc_ip_60days_pre  2.668672  0.044546  0.024895  0.041282  0.036908\n",
       "5                 age -0.592695  0.038225  0.037652  0.031794  0.035890\n",
       "6         svc_pre_all  0.084994  0.049380  0.042175  0.000335  0.030630\n",
       "7       as_loc_IPCAPS -2.042154  0.015486  0.017378  0.051938  0.028268\n",
       "8   svc_es_90days_pre  1.468350  0.028606  0.027819  0.019099  0.025175\n",
       "9   svc_op_90days_pre  0.525020  0.026964  0.033296  0.012528  0.024263\n",
       "10            svc_pre -0.760310  0.032116  0.037272  0.000375  0.023254\n",
       "11  svc_op_60days_pre  0.633807  0.025426  0.030365  0.005679  0.020490\n",
       "12  svc_op_30days_pre  0.396787  0.024046  0.027233  0.005115  0.018798\n",
       "13   svc_op_7days_pre -0.116739  0.020144  0.023316  0.011744  0.018401\n",
       "14   svc_ip_7days_pre -1.711906  0.017032  0.009654  0.025058  0.017248"
      ]
     },
     "execution_count": 24,
     "metadata": {},
     "output_type": "execute_result"
    }
   ],
   "source": [
    "importances_df = pd.concat([lr_importances, dt_importances, rf_importances, gbm_importances], axis=1)\n",
    "importances_df['avg'] = importances_df[['DT', 'RF', 'GBM']].mean(axis=1)\n",
    "importances_df = importances_df.sort_values(by='avg', ascending=False)\n",
    "importances_df.reset_index(inplace=True)\n",
    "importances_df = importances_df.rename(columns = {'index':'Variable'})\n",
    "importances_df.head(15)"
   ]
  },
  {
   "cell_type": "code",
   "execution_count": 25,
   "metadata": {},
   "outputs": [
    {
     "data": {
      "text/plain": [
       "['IP_history',\n",
       " 'as_length_IP',\n",
       " 'svc_ip_90days_pre',\n",
       " 'as_loc_IPFFS',\n",
       " 'svc_ip_60days_pre',\n",
       " 'age',\n",
       " 'svc_pre_all',\n",
       " 'as_loc_IPCAPS',\n",
       " 'svc_es_90days_pre',\n",
       " 'svc_op_90days_pre',\n",
       " 'svc_pre',\n",
       " 'svc_op_60days_pre',\n",
       " 'svc_op_30days_pre',\n",
       " 'svc_op_7days_pre',\n",
       " 'svc_ip_7days_pre']"
      ]
     },
     "execution_count": 25,
     "metadata": {},
     "output_type": "execute_result"
    }
   ],
   "source": [
    "# Select the top 15 variables\n",
    "important_vars = list(importances_df.iloc[0:15,0])\n",
    "important_vars"
   ]
  },
  {
   "cell_type": "markdown",
   "metadata": {},
   "source": [
    "### Fit Boruta-select variables into the models"
   ]
  },
  {
   "cell_type": "code",
   "execution_count": 26,
   "metadata": {},
   "outputs": [
    {
     "name": "stdout",
     "output_type": "stream",
     "text": [
      "Fitting models.\n",
      "naive bayes... Time elapsed  0:00:00.024997\n",
      "done\n",
      "knn... Time elapsed  0:00:00.815002\n",
      "done\n",
      "logistic... Time elapsed  0:00:00.081995\n",
      "done\n",
      "mlp-nn... Time elapsed  0:00:06.128002\n",
      "done\n",
      "decision tree... Time elapsed  0:00:00.215001\n",
      "done\n",
      "random forest... Time elapsed  0:00:03.702001\n",
      "done\n",
      "gbm... Time elapsed  0:00:03.507006\n",
      "done\n",
      "Done.\n",
      "\n",
      "Accuracy : 0.6769\n",
      "Precision : 0.6247\n",
      "Recall : 0.4653\n",
      "F1 score : 0.5333\n",
      "AUC score : 0.7269\n",
      "AP score : 0.6305\n",
      "\n",
      "Classification report : \n",
      "               precision    recall  f1-score   support\n",
      "\n",
      "           0       0.70      0.82      0.75      1686\n",
      "           1       0.62      0.47      0.53      1109\n",
      "\n",
      "    accuracy                           0.68      2795\n",
      "   macro avg       0.66      0.64      0.64      2795\n",
      "weighted avg       0.67      0.68      0.67      2795\n",
      "\n",
      "\n",
      "Confusion matrix : \n",
      " [[1376  310]\n",
      " [ 593  516]]\n",
      "done.\n",
      "\n",
      "Accuracy : 0.6597\n",
      "Precision : 0.5636\n",
      "Recall : 0.6312\n",
      "F1 score : 0.5955\n",
      "AUC score : 0.6994\n",
      "AP score : 0.5646\n",
      "\n",
      "Classification report : \n",
      "               precision    recall  f1-score   support\n",
      "\n",
      "           0       0.74      0.68      0.71      1686\n",
      "           1       0.56      0.63      0.60      1109\n",
      "\n",
      "    accuracy                           0.66      2795\n",
      "   macro avg       0.65      0.65      0.65      2795\n",
      "weighted avg       0.67      0.66      0.66      2795\n",
      "\n",
      "\n",
      "Confusion matrix : \n",
      " [[1144  542]\n",
      " [ 409  700]]\n",
      "done.\n",
      "\n",
      "Accuracy : 0.7077\n",
      "Precision : 0.6306\n",
      "Recall : 0.6357\n",
      "F1 score : 0.6331\n",
      "AUC score : 0.7596\n",
      "AP score : 0.6739\n",
      "\n",
      "Classification report : \n",
      "               precision    recall  f1-score   support\n",
      "\n",
      "           0       0.76      0.76      0.76      1686\n",
      "           1       0.63      0.64      0.63      1109\n",
      "\n",
      "    accuracy                           0.71      2795\n",
      "   macro avg       0.69      0.70      0.70      2795\n",
      "weighted avg       0.71      0.71      0.71      2795\n",
      "\n",
      "\n",
      "Confusion matrix : \n",
      " [[1273  413]\n",
      " [ 404  705]]\n",
      "done.\n",
      "\n",
      "Accuracy : 0.7084\n",
      "Precision : 0.6320\n",
      "Recall : 0.6348\n",
      "F1 score : 0.6334\n",
      "AUC score : 0.7611\n",
      "AP score : 0.6758\n",
      "\n",
      "Classification report : \n",
      "               precision    recall  f1-score   support\n",
      "\n",
      "           0       0.76      0.76      0.76      1686\n",
      "           1       0.63      0.63      0.63      1109\n",
      "\n",
      "    accuracy                           0.71      2795\n",
      "   macro avg       0.70      0.70      0.70      2795\n",
      "weighted avg       0.71      0.71      0.71      2795\n",
      "\n",
      "\n",
      "Confusion matrix : \n",
      " [[1276  410]\n",
      " [ 405  704]]\n",
      "done.\n",
      "\n",
      "Accuracy : 0.6694\n",
      "Precision : 0.5828\n",
      "Recall : 0.5870\n",
      "F1 score : 0.5849\n",
      "AUC score : 0.6322\n",
      "AP score : 0.5116\n",
      "\n",
      "Classification report : \n",
      "               precision    recall  f1-score   support\n",
      "\n",
      "           0       0.73      0.72      0.73      1686\n",
      "           1       0.58      0.59      0.58      1109\n",
      "\n",
      "    accuracy                           0.67      2795\n",
      "   macro avg       0.65      0.66      0.66      2795\n",
      "weighted avg       0.67      0.67      0.67      2795\n",
      "\n",
      "\n",
      "Confusion matrix : \n",
      " [[1220  466]\n",
      " [ 458  651]]\n",
      "done.\n",
      "\n",
      "Accuracy : 0.7159\n",
      "Precision : 0.6452\n",
      "Recall : 0.6312\n",
      "F1 score : 0.6381\n",
      "AUC score : 0.7782\n",
      "AP score : 0.7183\n",
      "\n",
      "Classification report : \n",
      "               precision    recall  f1-score   support\n",
      "\n",
      "           0       0.76      0.77      0.77      1686\n",
      "           1       0.65      0.63      0.64      1109\n",
      "\n",
      "    accuracy                           0.72      2795\n",
      "   macro avg       0.70      0.70      0.70      2795\n",
      "weighted avg       0.71      0.72      0.72      2795\n",
      "\n",
      "\n",
      "Confusion matrix : \n",
      " [[1301  385]\n",
      " [ 409  700]]\n",
      "done.\n",
      "\n",
      "Accuracy : 0.7342\n",
      "Precision : 0.6655\n",
      "Recall : 0.6637\n",
      "F1 score : 0.6646\n",
      "AUC score : 0.8018\n",
      "AP score : 0.7554\n",
      "\n",
      "Classification report : \n",
      "               precision    recall  f1-score   support\n",
      "\n",
      "           0       0.78      0.78      0.78      1686\n",
      "           1       0.67      0.66      0.66      1109\n",
      "\n",
      "    accuracy                           0.73      2795\n",
      "   macro avg       0.72      0.72      0.72      2795\n",
      "weighted avg       0.73      0.73      0.73      2795\n",
      "\n",
      "\n",
      "Confusion matrix : \n",
      " [[1316  370]\n",
      " [ 373  736]]\n",
      "done.\n",
      "\n"
     ]
    },
    {
     "data": {
      "text/plain": [
       "(0.7341681574239713,\n",
       " 0.6654611211573237,\n",
       " 0.6636609558160504,\n",
       " 0.6645598194130925,\n",
       " 0.8017969016576335,\n",
       " 0.755379450347563)"
      ]
     },
     "execution_count": 26,
     "metadata": {},
     "output_type": "execute_result"
    }
   ],
   "source": [
    "models = get_models()\n",
    "Pb, Sb, model_cvsb = train_predict(models, Xtrainb_scaled, ytrain, Xtestb_scaled)\n",
    "evaluate(ytest, Sb, Pb)"
   ]
  },
  {
   "cell_type": "code",
   "execution_count": 27,
   "metadata": {},
   "outputs": [
    {
     "data": {
      "image/png": "[encoded data removed]",
      "text/plain": [
       "<Figure size 864x288 with 2 Axes>"
      ]
     },
     "metadata": {
      "needs_background": "light"
     },
     "output_type": "display_data"
    }
   ],
   "source": [
    "fig, ax = plt.subplots(1, 2, figsize=(12,4))    \n",
    "for column in Pb.columns:\n",
    "    roc_auc = roc_auc_score(ytest, Pb[column])\n",
    "    fpr, tpr, _ = roc_curve(ytest, Pb[column])\n",
    "    ax[0].plot(fpr, tpr, label='%s: %0.3f' % (column, roc_auc))\n",
    "\n",
    "    precision, recall, _ = precision_recall_curve(ytest, Pb[column])\n",
    "    ave_prec_rec = average_precision_score(ytest, Pb[column])\n",
    "    ax[1].plot(recall, precision, label='%s: %0.3f' % (column, ave_prec_rec))  \n",
    "\n",
    "    ax[0].set_xlim([0.0, 1.0])\n",
    "    ax[0].set_ylim([0.0, 1.05])\n",
    "    ax[0].set_xlabel('False Positive Rate')\n",
    "    ax[0].set_ylabel('True Positive Rate')\n",
    "    ax[0].set_title('Receiver operating characteristic')\n",
    "    ax[0].legend(loc=\"lower right\", title=\"Model: AUROC\")\n",
    "\n",
    "    ax[1].set_xlim([0.0, 1.0])\n",
    "    ax[1].set_ylim([0.0, 1.05])\n",
    "    ax[1].set_xlabel('Recall')\n",
    "    ax[1].set_ylabel('Precision')\n",
    "    ax[1].set_title('Precision-Recall curve')\n",
    "    ax[1].legend(loc=\"upper right\", title=\"Model: AP\")\n",
    "   \n",
    "#plt.savefig('mult_models_after_feat_select.png', format='png')"
   ]
  },
  {
   "cell_type": "markdown",
   "metadata": {},
   "source": [
    "### Fit important variables into the models"
   ]
  },
  {
   "cell_type": "code",
   "execution_count": 28,
   "metadata": {},
   "outputs": [],
   "source": [
    "Xtrain2 = df_train[important_vars]\n",
    "Xtest2 = df_test[important_vars]\n",
    "ytrain_original = df_train['svc_CYF_ip_90days_postdc_bi']\n"
   ]
  },
  {
   "cell_type": "code",
   "execution_count": 29,
   "metadata": {},
   "outputs": [],
   "source": [
    "from sklearn.preprocessing import MinMaxScaler\n",
    "scaler = MinMaxScaler()\n",
    "Xtrain2_scaled = scaler.fit_transform(Xtrain2)\n",
    "Xtest2_scaled = scaler.fit_transform(Xtest2)"
   ]
  },
  {
   "cell_type": "code",
   "execution_count": 30,
   "metadata": {},
   "outputs": [],
   "source": [
    "# Class Imbalance Processing: Using re-sampling method\n",
    "from imblearn.over_sampling import SMOTE\n",
    "sm = SMOTE(random_state=SEED)\n",
    "Xtrain2_scaled, ytrain = sm.fit_sample(Xtrain2_scaled, ytrain_original)"
   ]
  },
  {
   "cell_type": "code",
   "execution_count": 31,
   "metadata": {},
   "outputs": [
    {
     "name": "stdout",
     "output_type": "stream",
     "text": [
      "Fitting models.\n",
      "naive bayes... Time elapsed  0:00:00.020998\n",
      "done\n",
      "knn... Time elapsed  0:00:00.866001\n",
      "done\n",
      "logistic... Time elapsed  0:00:00.078000\n",
      "done\n",
      "mlp-nn... Time elapsed  0:00:06.523004\n",
      "done\n",
      "decision tree... Time elapsed  0:00:00.259005\n",
      "done\n",
      "random forest... Time elapsed  0:00:04.303994\n",
      "done\n",
      "gbm... Time elapsed  0:00:04.908008\n",
      "done\n",
      "Done.\n",
      "\n",
      "Accuracy : 0.6844\n",
      "Precision : 0.6495\n",
      "Recall : 0.4445\n",
      "F1 score : 0.5278\n",
      "AUC score : 0.6900\n",
      "AP score : 0.6187\n",
      "\n",
      "Classification report : \n",
      "               precision    recall  f1-score   support\n",
      "\n",
      "           0       0.70      0.84      0.76      1686\n",
      "           1       0.65      0.44      0.53      1109\n",
      "\n",
      "    accuracy                           0.68      2795\n",
      "   macro avg       0.67      0.64      0.65      2795\n",
      "weighted avg       0.68      0.68      0.67      2795\n",
      "\n",
      "\n",
      "Confusion matrix : \n",
      " [[1420  266]\n",
      " [ 616  493]]\n",
      "done.\n",
      "\n",
      "Accuracy : 0.6125\n",
      "Precision : 0.5089\n",
      "Recall : 0.6682\n",
      "F1 score : 0.5778\n",
      "AUC score : 0.6668\n",
      "AP score : 0.5280\n",
      "\n",
      "Classification report : \n",
      "               precision    recall  f1-score   support\n",
      "\n",
      "           0       0.73      0.58      0.64      1686\n",
      "           1       0.51      0.67      0.58      1109\n",
      "\n",
      "    accuracy                           0.61      2795\n",
      "   macro avg       0.62      0.62      0.61      2795\n",
      "weighted avg       0.64      0.61      0.62      2795\n",
      "\n",
      "\n",
      "Confusion matrix : \n",
      " [[971 715]\n",
      " [368 741]]\n",
      "done.\n",
      "\n",
      "Accuracy : 0.7102\n",
      "Precision : 0.6313\n",
      "Recall : 0.6483\n",
      "F1 score : 0.6397\n",
      "AUC score : 0.7636\n",
      "AP score : 0.6874\n",
      "\n",
      "Classification report : \n",
      "               precision    recall  f1-score   support\n",
      "\n",
      "           0       0.76      0.75      0.76      1686\n",
      "           1       0.63      0.65      0.64      1109\n",
      "\n",
      "    accuracy                           0.71      2795\n",
      "   macro avg       0.70      0.70      0.70      2795\n",
      "weighted avg       0.71      0.71      0.71      2795\n",
      "\n",
      "\n",
      "Confusion matrix : \n",
      " [[1266  420]\n",
      " [ 390  719]]\n",
      "done.\n",
      "\n",
      "Accuracy : 0.7059\n",
      "Precision : 0.6133\n",
      "Recall : 0.7006\n",
      "F1 score : 0.6540\n",
      "AUC score : 0.7661\n",
      "AP score : 0.6888\n",
      "\n",
      "Classification report : \n",
      "               precision    recall  f1-score   support\n",
      "\n",
      "           0       0.78      0.71      0.74      1686\n",
      "           1       0.61      0.70      0.65      1109\n",
      "\n",
      "    accuracy                           0.71      2795\n",
      "   macro avg       0.70      0.71      0.70      2795\n",
      "weighted avg       0.72      0.71      0.71      2795\n",
      "\n",
      "\n",
      "Confusion matrix : \n",
      " [[1196  490]\n",
      " [ 332  777]]\n",
      "done.\n",
      "\n",
      "Accuracy : 0.4791\n",
      "Precision : 0.4106\n",
      "Recall : 0.7187\n",
      "F1 score : 0.5226\n",
      "AUC score : 0.5206\n",
      "AP score : 0.4079\n",
      "\n",
      "Classification report : \n",
      "               precision    recall  f1-score   support\n",
      "\n",
      "           0       0.63      0.32      0.43      1686\n",
      "           1       0.41      0.72      0.52      1109\n",
      "\n",
      "    accuracy                           0.48      2795\n",
      "   macro avg       0.52      0.52      0.47      2795\n",
      "weighted avg       0.55      0.48      0.46      2795\n",
      "\n",
      "\n",
      "Confusion matrix : \n",
      " [[ 542 1144]\n",
      " [ 312  797]]\n",
      "done.\n",
      "\n",
      "Accuracy : 0.5925\n",
      "Precision : 0.4913\n",
      "Recall : 0.7647\n",
      "F1 score : 0.5982\n",
      "AUC score : 0.6837\n",
      "AP score : 0.5711\n",
      "\n",
      "Classification report : \n",
      "               precision    recall  f1-score   support\n",
      "\n",
      "           0       0.76      0.48      0.59      1686\n",
      "           1       0.49      0.76      0.60      1109\n",
      "\n",
      "    accuracy                           0.59      2795\n",
      "   macro avg       0.62      0.62      0.59      2795\n",
      "weighted avg       0.65      0.59      0.59      2795\n",
      "\n",
      "\n",
      "Confusion matrix : \n",
      " [[808 878]\n",
      " [261 848]]\n",
      "done.\n",
      "\n",
      "Accuracy : 0.5231\n",
      "Precision : 0.4502\n",
      "Recall : 0.9125\n",
      "F1 score : 0.6029\n",
      "AUC score : 0.7443\n",
      "AP score : 0.6990\n",
      "\n",
      "Classification report : \n",
      "               precision    recall  f1-score   support\n",
      "\n",
      "           0       0.82      0.27      0.40      1686\n",
      "           1       0.45      0.91      0.60      1109\n",
      "\n",
      "    accuracy                           0.52      2795\n",
      "   macro avg       0.64      0.59      0.50      2795\n",
      "weighted avg       0.67      0.52      0.48      2795\n",
      "\n",
      "\n",
      "Confusion matrix : \n",
      " [[ 450 1236]\n",
      " [  97 1012]]\n",
      "done.\n",
      "\n"
     ]
    },
    {
     "data": {
      "text/plain": [
       "(0.5230769230769231,\n",
       " 0.4501779359430605,\n",
       " 0.9125338142470695,\n",
       " 0.60291927316056,\n",
       " 0.7442645474800698,\n",
       " 0.6989904641692695)"
      ]
     },
     "execution_count": 31,
     "metadata": {},
     "output_type": "execute_result"
    }
   ],
   "source": [
    "models = get_models()\n",
    "Pm, Sm, model_cvsm = train_predict(models, Xtrain2_scaled, ytrain, Xtest2_scaled)\n",
    "evaluate(ytest, Sm, Pm)"
   ]
  },
  {
   "cell_type": "code",
   "execution_count": 32,
   "metadata": {},
   "outputs": [
    {
     "data": {
      "image/png": "[encoded data removed]",
      "text/plain": [
       "<Figure size 864x288 with 2 Axes>"
      ]
     },
     "metadata": {
      "needs_background": "light"
     },
     "output_type": "display_data"
    }
   ],
   "source": [
    "fig, ax = plt.subplots(1, 2, figsize=(12,4))    \n",
    "for column in Pm.columns:\n",
    "    roc_auc = roc_auc_score(ytest, Pm[column])\n",
    "    fpr, tpr, _ = roc_curve(ytest, Pm[column])\n",
    "    ax[0].plot(fpr, tpr, label='%s: %0.3f' % (column, roc_auc))\n",
    "\n",
    "    precision, recall, _ = precision_recall_curve(ytest, Pm[column])\n",
    "    ave_prec_rec = average_precision_score(ytest, Pm[column])\n",
    "    ax[1].plot(recall, precision, label='%s: %0.3f' % (column, ave_prec_rec))  \n",
    "\n",
    "    ax[0].set_xlim([0.0, 1.0])\n",
    "    ax[0].set_ylim([0.0, 1.05])\n",
    "    ax[0].set_xlabel('False Positive Rate')\n",
    "    ax[0].set_ylabel('True Positive Rate')\n",
    "    ax[0].set_title('Receiver operating characteristic')\n",
    "    ax[0].legend(loc=\"lower right\", title=\"Model: AUROC\")\n",
    "\n",
    "    ax[1].set_xlim([0.0, 1.0])\n",
    "    ax[1].set_ylim([0.0, 1.05])\n",
    "    ax[1].set_xlabel('Recall')\n",
    "    ax[1].set_ylabel('Precision')\n",
    "    ax[1].set_title('Precision-Recall curve')\n",
    "    ax[1].legend(loc=\"upper right\", title=\"Model: AP\")\n",
    "   \n",
    "#plt.savefig('mult_models_after_feat_select.png', format='png')"
   ]
  },
  {
   "cell_type": "markdown",
   "metadata": {},
   "source": [
    "From the above results, I selected Gradient Boosting as my main model and the set of variables from the Boruta algorithms"
   ]
  },
  {
   "cell_type": "markdown",
   "metadata": {},
   "source": [
    "## GBM tuning"
   ]
  },
  {
   "cell_type": "code",
   "execution_count": 33,
   "metadata": {},
   "outputs": [
    {
     "name": "stderr",
     "output_type": "stream",
     "text": [
      "C:\\Users\\Anh Tran\\anaconda3\\lib\\site-packages\\sklearn\\model_selection\\_search.py:847: FutureWarning: The parameter 'iid' is deprecated in 0.22 and will be removed in 0.24.\n",
      "  warnings.warn(\n"
     ]
    },
    {
     "data": {
      "text/plain": [
       "GridSearchCV(cv=5,\n",
       "             estimator=GradientBoostingClassifier(max_depth=4,\n",
       "                                                  max_features='sqrt',\n",
       "                                                  random_state=300,\n",
       "                                                  subsample=1),\n",
       "             iid=False, n_jobs=-1,\n",
       "             param_grid={'learning_rate': [1, 0.1, 0.01, 0.001],\n",
       "                         'n_estimators': [100, 500, 1000, 1500]},\n",
       "             scoring='accuracy')"
      ]
     },
     "execution_count": 33,
     "metadata": {},
     "output_type": "execute_result"
    }
   ],
   "source": [
    "param1 = {\n",
    "    \"n_estimators\":[100,500,1000,1500],\n",
    "    \"learning_rate\":[1, 0.1, 0.01, 0.001]\n",
    "}\n",
    "\n",
    "tuning = GridSearchCV(estimator =GradientBoostingClassifier(max_depth=4, min_samples_split=2, min_samples_leaf=1, subsample=1, max_features='sqrt', random_state=SEED), \n",
    "            param_grid = param1, scoring='accuracy',n_jobs=-1, iid=False, cv=5)\n",
    "tuning.fit(Xtrainb_scaled,ytrain)\n"
   ]
  },
  {
   "cell_type": "code",
   "execution_count": 34,
   "metadata": {},
   "outputs": [
    {
     "data": {
      "text/plain": [
       "({'learning_rate': 0.1, 'n_estimators': 1000}, 0.7369868872876666)"
      ]
     },
     "execution_count": 34,
     "metadata": {},
     "output_type": "execute_result"
    }
   ],
   "source": [
    "tuning.best_params_, tuning.best_score_"
   ]
  },
  {
   "cell_type": "code",
   "execution_count": 35,
   "metadata": {},
   "outputs": [
    {
     "name": "stderr",
     "output_type": "stream",
     "text": [
      "C:\\Users\\Anh Tran\\anaconda3\\lib\\site-packages\\sklearn\\model_selection\\_search.py:847: FutureWarning: The parameter 'iid' is deprecated in 0.22 and will be removed in 0.24.\n",
      "  warnings.warn(\n"
     ]
    },
    {
     "data": {
      "text/plain": [
       "({'max_depth': 7}, 0.7371335223553152)"
      ]
     },
     "execution_count": 35,
     "metadata": {},
     "output_type": "execute_result"
    }
   ],
   "source": [
    "param2 = {\n",
    "   'max_depth':[2,3,4,5,6,7]\n",
    "}\n",
    "\n",
    "tuning = GridSearchCV(estimator =GradientBoostingClassifier(learning_rate=0.01,n_estimators=1000, min_samples_split=2, min_samples_leaf=1, subsample=1, max_features='sqrt', random_state=SEED), \n",
    "            param_grid = param2, scoring='accuracy',n_jobs=-1, iid=False, cv=5)\n",
    "tuning.fit(Xtrainb_scaled,ytrain)\n",
    "tuning.best_params_, tuning.best_score_"
   ]
  },
  {
   "cell_type": "code",
   "execution_count": 36,
   "metadata": {},
   "outputs": [
    {
     "data": {
      "text/plain": [
       "GradientBoostingClassifier(max_depth=7, max_features='sqrt', n_estimators=1000,\n",
       "                           random_state=300)"
      ]
     },
     "execution_count": 36,
     "metadata": {},
     "output_type": "execute_result"
    }
   ],
   "source": [
    "new=GradientBoostingClassifier(learning_rate=0.1, n_estimators=1000, max_depth=7, max_features='sqrt' , random_state=SEED)\n",
    "new.fit(Xtrainb_scaled,ytrain)\n"
   ]
  },
  {
   "cell_type": "code",
   "execution_count": 37,
   "metadata": {},
   "outputs": [
    {
     "name": "stdout",
     "output_type": "stream",
     "text": [
      "Accuracy : 0.7174\n",
      "Precision : 0.6532\n",
      "Recall : 0.6132\n",
      "F1 score : 0.6326\n",
      "AUC score : 0.7583\n",
      "AP score : 0.7191\n",
      "\n",
      "Classification report : \n",
      "               precision    recall  f1-score   support\n",
      "\n",
      "           0       0.76      0.79      0.77      1686\n",
      "           1       0.65      0.61      0.63      1109\n",
      "\n",
      "    accuracy                           0.72      2795\n",
      "   macro avg       0.70      0.70      0.70      2795\n",
      "weighted avg       0.71      0.72      0.72      2795\n",
      "\n",
      "\n",
      "Confusion matrix : \n",
      " [[1325  361]\n",
      " [ 429  680]]\n"
     ]
    }
   ],
   "source": [
    "y_pred=new.predict(Xtestb_scaled)\n",
    "y_pred_proba = new.predict_proba(Xtestb_scaled)[:, 1]\n",
    "y_true = ytest\n",
    "acc = accuracy_score(y_true, y_pred)\n",
    "precision = precision_score(y_true, y_pred)\n",
    "recall = recall_score(y_true, y_pred)\n",
    "f1score = f1_score(y_true, y_pred)\n",
    "auc = roc_auc_score(y_true, y_pred_proba)\n",
    "ap = average_precision_score(y_true, y_pred_proba)\n",
    "print (\"Accuracy : {:.4f}\".format(acc))\n",
    "print(\"Precision : {:.4f}\".format(precision))\n",
    "print(\"Recall : {:.4f}\".format(recall))\n",
    "print(\"F1 score : {:.4f}\".format(f1score))\n",
    "print(\"AUC score : {:.4f}\".format(auc))\n",
    "print(\"AP score : {:.4f}\".format(ap))\n",
    "print(\"\\nClassification report : \\n\", classification_report(y_true, y_pred))\n",
    "print(\"\\nConfusion matrix : \\n\", confusion_matrix(y_true, y_pred))"
   ]
  },
  {
   "cell_type": "code",
   "execution_count": 38,
   "metadata": {},
   "outputs": [
    {
     "data": {
      "text/plain": [
       "array([0.22045364, 0.14388458, 0.12699116, 0.10976237, 0.1002051 ,\n",
       "       0.0832767 , 0.02020648, 0.06093945, 0.03783187, 0.0480024 ,\n",
       "       0.027585  , 0.02086124])"
      ]
     },
     "execution_count": 38,
     "metadata": {},
     "output_type": "execute_result"
    }
   ],
   "source": [
    "new.feature_importances_"
   ]
  },
  {
   "cell_type": "code",
   "execution_count": 39,
   "metadata": {},
   "outputs": [
    {
     "name": "stdout",
     "output_type": "stream",
     "text": [
      "as_length_IP                  0.220454\n",
      "IP_history                    0.143885\n",
      "svc_pre_all                   0.126991\n",
      "svc_pre                       0.109762\n",
      "svc_op_30days_pre             0.100205\n",
      "svc_es_30days_pre             0.083277\n",
      "svc_ip_30days_pre             0.060939\n",
      "as_loc_IPFFS                  0.048002\n",
      "as_loc_IPCAPS                 0.037832\n",
      "as_close_Home/Shelter/Self    0.027585\n",
      "loc2_pre_None                 0.020861\n",
      "svc_ip_7days_pre              0.020206\n",
      "dtype: float64\n"
     ]
    },
    {
     "data": {
      "text/plain": [
       "Text(0, 0.5, 'Feature Importance Score')"
      ]
     },
     "execution_count": 39,
     "metadata": {},
     "output_type": "execute_result"
    },
    {
     "data": {
      "image/png": "[encoded data removed]",
      "text/plain": [
       "<Figure size 432x288 with 1 Axes>"
      ]
     },
     "metadata": {
      "needs_background": "light"
     },
     "output_type": "display_data"
    }
   ],
   "source": [
    "feat_imp = pd.Series(new.feature_importances_, index=Xtrainb.columns).sort_values(ascending=False)\n",
    "print(feat_imp)\n",
    "feat_imp.plot(kind='bar', title='Importance of Features')\n",
    "plt.ylabel('Feature Importance Score')\n"
   ]
  },
  {
   "cell_type": "code",
   "execution_count": 40,
   "metadata": {},
   "outputs": [
    {
     "name": "stdout",
     "output_type": "stream",
     "text": [
      "Fitting models.\n",
      "naive bayes... Time elapsed  0:00:00.034000\n",
      "done\n",
      "knn... Time elapsed  0:00:00.831005\n",
      "done\n",
      "logistic... Time elapsed  0:00:00.088000\n",
      "done\n",
      "mlp-nn... Time elapsed  0:00:08.059993\n",
      "done\n",
      "decision tree... Time elapsed  0:00:00.251001\n",
      "done\n",
      "random forest... Time elapsed  0:00:05.321006\n",
      "done\n",
      "gbm... Time elapsed  0:00:05.024007\n",
      "done\n",
      "Done.\n",
      "\n",
      "as_length_IP                 -1.110309\n",
      "IP_history                    2.668832\n",
      "svc_pre_all                   0.384198\n",
      "svc_pre                      -0.631956\n",
      "svc_op_30days_pre             1.905521\n",
      "svc_es_30days_pre             1.157350\n",
      "svc_ip_7days_pre             -3.341092\n",
      "svc_ip_30days_pre             4.100226\n",
      "as_loc_IPCAPS                -1.236845\n",
      "as_loc_IPFFS                 -1.385462\n",
      "as_close_Home/Shelter/Self   -0.243241\n",
      "loc2_pre_None                -0.428993\n",
      "Name: LR, dtype: float64\n"
     ]
    }
   ],
   "source": [
    "models = get_models()\n",
    "Pb, Sb, model_cvsb = train_predict(models, Xtrainb_scaled, ytrain, Xtestb_scaled)\n",
    "lr_importances = pd.Series(model_cvsb['logistic'].coef_[0], index=Xtrainb.columns, name = 'LR')\n",
    "lr_importances_abs = pd.Series(abs(model_cvsb['logistic'].coef_[0]), index=Xtrainb.columns, name = 'LR')\n",
    "print(lr_importances)"
   ]
  },
  {
   "cell_type": "markdown",
   "metadata": {},
   "source": [
    "max_depth = 5 : This should be between 3-10. I’ve started with 5 but you can choose a different number as well. 4-6 can be good starting points.\\\n",
    "min_child_weight = 1 : A smaller value is chosen because it is a highly imbalanced class problem and leaf nodes can have smaller size groups.\\\n",
    "gamma = 0 : A smaller value like 0.1-0.2 can also be chosen for starting. This will anyways be tuned later.\\\n",
    "subsample, colsample_bytree = 0.8 : This is a commonly used used start value. Typical values range between 0.5-0.9.\\\n",
    "scale_pos_weight = 1: Because of high class imbalance."
   ]
  },
  {
   "cell_type": "markdown",
   "metadata": {},
   "source": [
    "### Archive codes"
   ]
  },
  {
   "cell_type": "code",
   "execution_count": null,
   "metadata": {},
   "outputs": [],
   "source": [
    "'''\n",
    "# impute missing values of categorical features with the most frequent object\n",
    "for col in categorical_features:\n",
    "    df[col].fillna(df[col].value_counts().index[0], inplace=True)\n",
    "'''"
   ]
  },
  {
   "cell_type": "code",
   "execution_count": null,
   "metadata": {},
   "outputs": [],
   "source": [
    "'''\n",
    "gsearch1 = GridSearchCV(estimator = XGBClassifier( learning_rate =0.1, n_estimators=140, max_depth=5,\n",
    " min_child_weight=1, gamma=0, subsample=0.8, colsample_bytree=0.8,\n",
    " objective= 'binary:logistic', nthread=4, scale_pos_weight=1, seed=27), \n",
    " param_grid = param_test1, scoring='roc_auc',n_jobs=4,iid=False, cv=5)\n",
    "'''"
   ]
  },
  {
   "cell_type": "code",
   "execution_count": null,
   "metadata": {},
   "outputs": [],
   "source": [
    "'''\n",
    "xgb = XGBClassifier(learning_rate=0.02, n_estimators=600, objective='binary:logistic',silent=True, nthread=4, \n",
    "                    scale_pos_weight=1, random_state=SEED)\n",
    "grid_search = GridSearchCV(xgb, param_grid = parameters, scoring='roc_auc', n_jobs=4, iid=False, cv=5)\n",
    "grid_search.fit(Xtrainb_scaled, ytrain)\n",
    "\n",
    "# retrieve the best parameter set from grid search\n",
    "print(\"\\nGrid Search Best parameters set :\")\n",
    "print(grid_search.best_params_)\n",
    "print(\"\\nBest score: %0.3f\" % grid_search.best_score_)\n",
    "time_elapsed = (time.monotonic()-start_time)/60\n",
    "print(\"Calculation took %.3f minutes\" % time_elapsed)\n",
    "\n",
    "'''"
   ]
  },
  {
   "cell_type": "code",
   "execution_count": null,
   "metadata": {},
   "outputs": [],
   "source": [
    "'''\n",
    "def score_models(P, y):\n",
    "    \"\"\"Score model in prediction DF\"\"\"\n",
    "    print(\"Scoring models.\")\n",
    "    for m in P.columns:\n",
    "        score = roc_auc_score(y, P.loc[:, m])\n",
    "        ap = average_precision_score(y, P.loc[:, m])\n",
    "        print(\"%-26s: %.3f, %.3f\" % (m, score, ap))\n",
    "    print(\"Done.\\n\")\n",
    "    \n",
    "def report_models(S, y):\n",
    "    \"\"\"Score model in prediction DF\"\"\"\n",
    "    print(\"Scoring models.\")\n",
    "    for m in P.columns:\n",
    "        report = classification_report(y, S.loc[:, m])\n",
    "        print(report)\n",
    "    print(\"Done.\\n\")\n",
    "\n",
    "'''"
   ]
  },
  {
   "cell_type": "code",
   "execution_count": null,
   "metadata": {},
   "outputs": [],
   "source": [
    "'''\n",
    "param3 = {\n",
    "   'min_samples_split':[4,8,10,20,40,60,80,100], \n",
    "    'min_samples_leaf':[1,3,5,7,9]\n",
    "}\n",
    "\n",
    "tuning = GridSearchCV(estimator =GradientBoostingClassifier(learning_rate=0.01, n_estimators=1500,max_depth=4, subsample=1,max_features='sqrt', random_state=SEED), \n",
    "            param_grid = param3, scoring='accuracy',n_jobs=-1, iid=False, cv=5)\n",
    "tuning.fit(X_train,y_train)\n",
    "tuning.grid_scores_, tuning.best_params_, tuning.best_score_\n",
    "\n",
    "'''"
   ]
  }
 ],
 "metadata": {
  "kernelspec": {
   "display_name": "Python 3",
   "language": "python",
   "name": "python3"
  },
  "language_info": {
   "codemirror_mode": {
    "name": "ipython",
    "version": 3
   },
   "file_extension": ".py",
   "mimetype": "text/x-python",
   "name": "python",
   "nbconvert_exporter": "python",
   "pygments_lexer": "ipython3",
   "version": "3.8.3"
  }
 },
 "nbformat": 4,
 "nbformat_minor": 4
}
