{
 "cells": [
  {
   "cell_type": "code",
   "execution_count": 7,
   "metadata": {},
   "outputs": [],
   "source": [
    "import pandas as pd\n",
    "import numpy as np\n",
    "import matplotlib.pyplot as plt\n",
    "import seaborn as sns\n",
    "import time\n",
    "from scipy.stats import chi2_contingency\n",
    "import math\n",
    "from collections import Counter\n",
    "from scipy.stats import entropy\n",
    "from sklearn.preprocessing import MinMaxScaler, StandardScaler\n",
    "from numpy import inf\n",
    "from sklearn.model_selection import GridSearchCV\n",
    "\n"
   ]
  },
  {
   "cell_type": "code",
   "execution_count": 8,
   "metadata": {},
   "outputs": [],
   "source": [
    "# Load the train and test datasets\n",
    "Xtrain_scaled = np.load('Xtrain_scaled.npy')\n",
    "Xtest_scaled = np.load('Xtest_scaled.npy')\n",
    "Xtrainb_scaled = np.load('Xtrainb_scaled.npy')\n",
    "Xtestb_scaled = np.load('Xtestb_scaled.npy')\n",
    "ytrain = np.load('ytrain.npy')\n",
    "ytest = np.load('ytest.npy')\n",
    "df_train = pd.read_csv('../paths_CYF_trainData.csv')\n",
    "df_test = pd.read_csv('../paths_CYF_testData.csv')\n"
   ]
  },
  {
   "cell_type": "code",
   "execution_count": 9,
   "metadata": {},
   "outputs": [],
   "source": [
    "# Initial variables for the model. \n",
    "# I focus exclusively on the pre services and loc plus demographics with less than 20% of missing data.\n",
    "\n",
    "id_cols = ['id', 'client_id']\n",
    "\n",
    "demo_cols = ['age', 'age_group','race','gender','dx_group','lang', 'substance','insurance','liv']\n",
    "\n",
    "ip_cols = ['as_loc', 'as_length_IP', 'IP_history', 'as_close']\n",
    "\n",
    "loc_pre_cols = ['loc1_pre', 'loc2_pre', 'loc3_pre', 'loc4_pre', 'loc5_pre']\n",
    "\n",
    "svc_total_pre_cols = ['svc_pre_all', 'svc_pre', 'svc_pre_sub']\n",
    "\n",
    "svc_CYF_timepoint_pre_cols = ['svc_op_7days_pre', 'svc_op_30days_pre', 'svc_op_60days_pre', 'svc_op_90days_pre',\n",
    "                     'svc_es_7days_pre', 'svc_es_30days_pre', 'svc_es_60days_pre', 'svc_es_90days_pre',\n",
    "                     'svc_dt_7days_pre', 'svc_dt_30days_pre', 'svc_dt_60days_pre', 'svc_dt_90days_pre',\n",
    "                     'svc_ip_7days_pre', 'svc_ip_30days_pre', 'svc_ip_60days_pre', 'svc_ip_90days_pre']\n",
    "\n",
    "output_col = ['svc_CYF_ip_7days_postdc_bi']\n",
    "\n",
    "drop_cols = ['']"
   ]
  },
  {
   "cell_type": "code",
   "execution_count": 10,
   "metadata": {},
   "outputs": [],
   "source": [
    "numerical_features = ['age', 'as_length_IP', 'IP_history', 'svc_pre_all', 'svc_pre', 'svc_pre_sub']\n",
    "numerical_features = numerical_features  + svc_CYF_timepoint_pre_cols\n",
    "dummy_vars = df_train.loc[:, 'age_group_12-15 Yrs':'loc5_pre_WRAP']\n",
    "dummy_vars = list(dummy_vars.columns)\n",
    "categorical_features = dummy_vars + ['substance', 'new','CWS', 'ADS', 'JJ']\n",
    "all_features = numerical_features + categorical_features\n",
    "\n",
    "boruta_features = ['as_length_IP', 'IP_history', 'svc_pre_all', 'svc_pre', 'svc_ip_7days_pre', 'svc_ip_30days_pre', 'as_loc_IPCAPS', 'as_loc_IPFFS', 'as_close_Home/Shelter/Self']"
   ]
  },
  {
   "cell_type": "code",
   "execution_count": 11,
   "metadata": {},
   "outputs": [],
   "source": [
    "Xtrain = df_train[all_features]\n",
    "Xtrainb = df_train[boruta_features]"
   ]
  },
  {
   "cell_type": "code",
   "execution_count": 12,
   "metadata": {},
   "outputs": [],
   "source": [
    "# Set a seed for reproducibility\n",
    "SEED = 300\n",
    "np.random.seed(SEED)"
   ]
  },
  {
   "cell_type": "code",
   "execution_count": 13,
   "metadata": {},
   "outputs": [
    {
     "name": "stdout",
     "output_type": "stream",
     "text": [
      "False\n",
      "False\n"
     ]
    }
   ],
   "source": [
    "print(np.any(np.isnan(Xtrain_scaled)))\n",
    "print(np.any(np.isnan(ytrain)))\n",
    "#np.all(np.isfinite(Xtrain_scaled))"
   ]
  },
  {
   "cell_type": "code",
   "execution_count": 14,
   "metadata": {},
   "outputs": [
    {
     "name": "stdout",
     "output_type": "stream",
     "text": [
      "False\n",
      "False\n"
     ]
    }
   ],
   "source": [
    "print(np.any(np.isnan(Xtest_scaled)))\n",
    "print(np.any(np.isnan(ytest)))"
   ]
  },
  {
   "cell_type": "markdown",
   "metadata": {},
   "source": [
    "### Fit all variables into the models"
   ]
  },
  {
   "cell_type": "code",
   "execution_count": 15,
   "metadata": {},
   "outputs": [],
   "source": [
    "# import datetime\n",
    "from datetime import datetime\n",
    "\n",
    "# import a host of Scikit-learn models\n",
    "from sklearn.svm import SVC, LinearSVC\n",
    "from sklearn.naive_bayes import GaussianNB\n",
    "from sklearn.ensemble import RandomForestClassifier, GradientBoostingClassifier\n",
    "from sklearn.linear_model import LogisticRegression\n",
    "from sklearn.neighbors import KNeighborsClassifier\n",
    "from sklearn.neural_network import MLPClassifier\n",
    "from xgboost import XGBClassifier\n",
    "from sklearn.tree import DecisionTreeClassifier\n",
    "\n",
    "# import model metrics\n",
    "from sklearn.metrics import *\n",
    "\n",
    "\n",
    "def get_models():\n",
    "    \"\"\"Generate a library of base learners.\"\"\"\n",
    "    nb = GaussianNB()\n",
    "    knn = KNeighborsClassifier(n_neighbors=3)\n",
    "    lr = LogisticRegression(C=1, random_state=SEED, solver='liblinear', class_weight='balanced')\n",
    "    nn = MLPClassifier((100, 50), early_stopping=True, random_state=SEED, max_iter=400, activation='tanh')\n",
    "    dt = DecisionTreeClassifier(random_state=SEED, class_weight='balanced')\n",
    "    rf = RandomForestClassifier(n_estimators=100, random_state=SEED, class_weight='balanced')\n",
    "    gb = GradientBoostingClassifier(n_estimators=100, random_state=SEED)\n",
    "    \n",
    "    models = {'naive bayes': nb,\n",
    "              'knn': knn,\n",
    "              'logistic': lr,\n",
    "              'mlp-nn': nn,\n",
    "              'decision tree': dt,\n",
    "              'random forest': rf,\n",
    "              'gbm': gb\n",
    "             }\n",
    "\n",
    "    return models\n",
    "\n",
    "\n",
    "def train_predict(model_list, xtrain, ytrain, xtest):\n",
    "    \"\"\"Fit models in list on training set and return preds\"\"\"\n",
    "    P = np.zeros((ytest.shape[0], len(model_list)))\n",
    "    P = pd.DataFrame(P)\n",
    "    \n",
    "    S = np.zeros((ytest.shape[0], len(model_list)))\n",
    "    S = pd.DataFrame(S)\n",
    "    \n",
    "    print(\"Fitting models.\")\n",
    "    cols = list()\n",
    "    model_cvs = {}\n",
    "\n",
    "    for i, (name, m) in enumerate(models.items()):\n",
    "        current_time = datetime.now() \n",
    "        print(\"%s...\" % name, end=\" \", flush=False)\n",
    "        model_cvs[name] = m.fit(xtrain, ytrain)\n",
    "        m.fit(xtrain, ytrain)\n",
    "        P.iloc[:, i] = m.predict_proba(xtest)[:, 1]\n",
    "        S.iloc[:, i] = m.predict(xtest)\n",
    "        cols.append(name)\n",
    "        time_elapsed = datetime.now() - current_time\n",
    "        print(\"Time elapsed \", time_elapsed)\n",
    "        print(\"done\")\n",
    "\n",
    "    P.columns = cols\n",
    "    S.columns = cols\n",
    "    \n",
    "    print(\"Done.\\n\")\n",
    "    return P, S, model_cvs\n",
    "\n",
    "    \n",
    "def evaluate(y_true, S, P):\n",
    "    for m in P.columns:\n",
    "        y_pred = S.loc[:, m]\n",
    "        y_pred_proba = P.loc[:, m]\n",
    "        acc = accuracy_score(y_true, y_pred)\n",
    "        precision = precision_score(y_true, y_pred)\n",
    "        recall = recall_score(y_true, y_pred)\n",
    "        f1score = f1_score(y_true, y_pred)\n",
    "        auc = roc_auc_score(y_true, y_pred_proba)\n",
    "        ap = average_precision_score(y_true, y_pred_proba)\n",
    "        print (\"Accuracy : {:.4f}\".format(acc))\n",
    "        print(\"Precision : {:.4f}\".format(precision))\n",
    "        print(\"Recall : {:.4f}\".format(recall))\n",
    "        print(\"F1 score : {:.4f}\".format(f1score))\n",
    "        print(\"AUC score : {:.4f}\".format(auc))\n",
    "        print(\"AP score : {:.4f}\".format(ap))\n",
    "        print(\"\\nClassification report : \\n\", classification_report(y_true, y_pred))\n",
    "        print(\"\\nConfusion matrix : \\n\", confusion_matrix(y_true, y_pred))\n",
    "        print(\"done.\\n\")  \n",
    "    return acc, precision, recall, f1score, auc, ap"
   ]
  },
  {
   "cell_type": "code",
   "execution_count": 16,
   "metadata": {},
   "outputs": [
    {
     "name": "stdout",
     "output_type": "stream",
     "text": [
      "Fitting models.\n",
      "naive bayes... Time elapsed  0:00:00.223988\n",
      "done\n",
      "knn... Time elapsed  0:00:42.464004\n",
      "done\n",
      "logistic... Time elapsed  0:00:01.106000\n",
      "done\n",
      "mlp-nn... Time elapsed  0:01:00.340992\n",
      "done\n",
      "decision tree... Time elapsed  0:00:02.881002\n",
      "done\n",
      "random forest... Time elapsed  0:00:15.399989\n",
      "done\n",
      "gbm... Time elapsed  0:01:12.767005\n",
      "done\n",
      "Done.\n",
      "\n",
      "Accuracy : 0.2562\n",
      "Precision : 0.2108\n",
      "Recall : 0.9530\n",
      "F1 score : 0.3452\n",
      "AUC score : 0.5144\n",
      "AP score : 0.2107\n",
      "\n",
      "Classification report : \n",
      "               precision    recall  f1-score   support\n",
      "\n",
      "           0       0.86      0.08      0.14      2220\n",
      "           1       0.21      0.95      0.35       575\n",
      "\n",
      "    accuracy                           0.26      2795\n",
      "   macro avg       0.54      0.51      0.24      2795\n",
      "weighted avg       0.73      0.26      0.18      2795\n",
      "\n",
      "\n",
      "Confusion matrix : \n",
      " [[ 168 2052]\n",
      " [  27  548]]\n",
      "done.\n",
      "\n",
      "Accuracy : 0.7116\n",
      "Precision : 0.3842\n",
      "Recall : 0.6661\n",
      "F1 score : 0.4873\n",
      "AUC score : 0.7369\n",
      "AP score : 0.3793\n",
      "\n",
      "Classification report : \n",
      "               precision    recall  f1-score   support\n",
      "\n",
      "           0       0.89      0.72      0.80      2220\n",
      "           1       0.38      0.67      0.49       575\n",
      "\n",
      "    accuracy                           0.71      2795\n",
      "   macro avg       0.64      0.69      0.64      2795\n",
      "weighted avg       0.79      0.71      0.74      2795\n",
      "\n",
      "\n",
      "Confusion matrix : \n",
      " [[1606  614]\n",
      " [ 192  383]]\n",
      "done.\n",
      "\n",
      "Accuracy : 0.8200\n",
      "Precision : 0.5493\n",
      "Recall : 0.6974\n",
      "F1 score : 0.6146\n",
      "AUC score : 0.8379\n",
      "AP score : 0.6732\n",
      "\n",
      "Classification report : \n",
      "               precision    recall  f1-score   support\n",
      "\n",
      "           0       0.92      0.85      0.88      2220\n",
      "           1       0.55      0.70      0.61       575\n",
      "\n",
      "    accuracy                           0.82      2795\n",
      "   macro avg       0.73      0.77      0.75      2795\n",
      "weighted avg       0.84      0.82      0.83      2795\n",
      "\n",
      "\n",
      "Confusion matrix : \n",
      " [[1891  329]\n",
      " [ 174  401]]\n",
      "done.\n",
      "\n",
      "Accuracy : 0.8086\n",
      "Precision : 0.5306\n",
      "Recall : 0.6035\n",
      "F1 score : 0.5647\n",
      "AUC score : 0.7891\n",
      "AP score : 0.5993\n",
      "\n",
      "Classification report : \n",
      "               precision    recall  f1-score   support\n",
      "\n",
      "           0       0.89      0.86      0.88      2220\n",
      "           1       0.53      0.60      0.56       575\n",
      "\n",
      "    accuracy                           0.81      2795\n",
      "   macro avg       0.71      0.73      0.72      2795\n",
      "weighted avg       0.82      0.81      0.81      2795\n",
      "\n",
      "\n",
      "Confusion matrix : \n",
      " [[1913  307]\n",
      " [ 228  347]]\n",
      "done.\n",
      "\n",
      "Accuracy : 0.8118\n",
      "Precision : 0.5396\n",
      "Recall : 0.5809\n",
      "F1 score : 0.5595\n",
      "AUC score : 0.7256\n",
      "AP score : 0.3997\n",
      "\n",
      "Classification report : \n",
      "               precision    recall  f1-score   support\n",
      "\n",
      "           0       0.89      0.87      0.88      2220\n",
      "           1       0.54      0.58      0.56       575\n",
      "\n",
      "    accuracy                           0.81      2795\n",
      "   macro avg       0.71      0.73      0.72      2795\n",
      "weighted avg       0.82      0.81      0.81      2795\n",
      "\n",
      "\n",
      "Confusion matrix : \n",
      " [[1935  285]\n",
      " [ 241  334]]\n",
      "done.\n",
      "\n",
      "Accuracy : 0.8766\n",
      "Precision : 0.7602\n",
      "Recall : 0.5843\n",
      "F1 score : 0.6608\n",
      "AUC score : 0.8605\n",
      "AP score : 0.7022\n",
      "\n",
      "Classification report : \n",
      "               precision    recall  f1-score   support\n",
      "\n",
      "           0       0.90      0.95      0.92      2220\n",
      "           1       0.76      0.58      0.66       575\n",
      "\n",
      "    accuracy                           0.88      2795\n",
      "   macro avg       0.83      0.77      0.79      2795\n",
      "weighted avg       0.87      0.88      0.87      2795\n",
      "\n",
      "\n",
      "Confusion matrix : \n",
      " [[2114  106]\n",
      " [ 239  336]]\n",
      "done.\n",
      "\n",
      "Accuracy : 0.8794\n",
      "Precision : 0.7361\n",
      "Recall : 0.6452\n",
      "F1 score : 0.6877\n",
      "AUC score : 0.8689\n",
      "AP score : 0.7499\n",
      "\n",
      "Classification report : \n",
      "               precision    recall  f1-score   support\n",
      "\n",
      "           0       0.91      0.94      0.93      2220\n",
      "           1       0.74      0.65      0.69       575\n",
      "\n",
      "    accuracy                           0.88      2795\n",
      "   macro avg       0.82      0.79      0.81      2795\n",
      "weighted avg       0.87      0.88      0.88      2795\n",
      "\n",
      "\n",
      "Confusion matrix : \n",
      " [[2087  133]\n",
      " [ 204  371]]\n",
      "done.\n",
      "\n"
     ]
    },
    {
     "data": {
      "text/plain": [
       "(0.8794275491949911,\n",
       " 0.7361111111111112,\n",
       " 0.6452173913043479,\n",
       " 0.6876737720111216,\n",
       " 0.8689103016059537,\n",
       " 0.7499104623754755)"
      ]
     },
     "execution_count": 16,
     "metadata": {},
     "output_type": "execute_result"
    }
   ],
   "source": [
    "models = get_models()\n",
    "P, S, model_cvs = train_predict(models, Xtrain_scaled, ytrain, Xtest_scaled)\n",
    "evaluate(ytest, S, P)"
   ]
  },
  {
   "cell_type": "code",
   "execution_count": 17,
   "metadata": {},
   "outputs": [
    {
     "data": {
      "image/png": "[encoded data removed]",
      "text/plain": [
       "<Figure size 864x288 with 2 Axes>"
      ]
     },
     "metadata": {
      "needs_background": "light"
     },
     "output_type": "display_data"
    }
   ],
   "source": [
    "fig, ax = plt.subplots(1, 2, figsize=(12,4))    \n",
    "for column in P.columns:\n",
    "    roc_auc = roc_auc_score(ytest, P[column])\n",
    "    fpr, tpr, _ = roc_curve(ytest, P[column])\n",
    "    ax[0].plot(fpr, tpr, label='%s: %0.3f' % (column, roc_auc))\n",
    "\n",
    "    precision, recall, _ = precision_recall_curve(ytest, P[column])\n",
    "    ave_prec_rec = average_precision_score(ytest, P[column])\n",
    "    ax[1].plot(recall, precision, label='%s: %0.3f' % (column, ave_prec_rec))  \n",
    "\n",
    "    ax[0].set_xlim([0.0, 1.0])\n",
    "    ax[0].set_ylim([0.0, 1.05])\n",
    "    ax[0].set_xlabel('False Positive Rate')\n",
    "    ax[0].set_ylabel('True Positive Rate')\n",
    "    ax[0].set_title('Receiver operating characteristic')\n",
    "    ax[0].legend(loc=\"lower right\", title=\"Model: AUROC\")\n",
    "\n",
    "    ax[1].set_xlim([0.0, 1.0])\n",
    "    ax[1].set_ylim([0.0, 1.05])\n",
    "    ax[1].set_xlabel('Recall')\n",
    "    ax[1].set_ylabel('Precision')\n",
    "    ax[1].set_title('Precision-Recall curve')\n",
    "    ax[1].legend(loc=\"upper right\", title=\"Model: AP\")\n",
    "   \n",
    "#plt.savefig('mult_models_after_feat_select.png', format='png')"
   ]
  },
  {
   "cell_type": "code",
   "execution_count": 18,
   "metadata": {},
   "outputs": [
    {
     "name": "stdout",
     "output_type": "stream",
     "text": [
      "Top 15 features\n",
      "svc_ip_90days_pre                3.249275\n",
      "as_close_Psychiatric Hospital    2.159567\n",
      "svc_ip_30days_pre                2.091261\n",
      "as_close_Medical Hospital        1.938178\n",
      "IP_history                       1.853447\n",
      "svc_ip_60days_pre                1.682455\n",
      "svc_op_90days_pre                1.537590\n",
      "loc5_pre_PREV                    1.433495\n",
      "loc4_pre_CS                      1.132186\n",
      "as_close_Other                   1.100341\n",
      "loc5_pre_CR                      1.092210\n",
      "loc3_pre_ESU                     1.077016\n",
      "as_close_Homeless                0.940843\n",
      "loc4_pre_DTC                     0.913074\n",
      "loc3_pre_DTC                     0.855656\n",
      "Name: LR, dtype: float64\n"
     ]
    }
   ],
   "source": [
    "lr_importances = pd.Series(model_cvs['logistic'].coef_[0], index=Xtrain.columns, name = 'LR')\n",
    "lr_importances_abs = pd.Series(abs(model_cvs['logistic'].coef_[0]), index=Xtrain.columns, name = 'LR')\n",
    "print(\"Top 15 features\")\n",
    "print(lr_importances.nlargest(15))"
   ]
  },
  {
   "cell_type": "code",
   "execution_count": 19,
   "metadata": {},
   "outputs": [
    {
     "name": "stdout",
     "output_type": "stream",
     "text": [
      "Top 15 features\n",
      "as_length_IP                   0.282144\n",
      "svc_ip_90days_pre              0.148377\n",
      "as_loc_IPCAPS                  0.075185\n",
      "as_loc_IPFFS                   0.074214\n",
      "svc_ip_7days_pre               0.037167\n",
      "svc_pre_sub                    0.032608\n",
      "IP_history                     0.024362\n",
      "svc_pre_all                    0.020129\n",
      "svc_ip_30days_pre              0.013191\n",
      "age                            0.012817\n",
      "svc_op_7days_pre               0.011289\n",
      "svc_op_30days_pre              0.011217\n",
      "insurance_Uninsured/Unknown    0.011125\n",
      "svc_pre                        0.010273\n",
      "as_close_Other                 0.008915\n",
      "Name: DT, dtype: float64\n"
     ]
    }
   ],
   "source": [
    "dt_importances = pd.Series(model_cvs['decision tree'].feature_importances_, index=Xtrain.columns, name = 'DT')\n",
    "print(\"Top 15 features\")\n",
    "print(dt_importances.nlargest(15))"
   ]
  },
  {
   "cell_type": "code",
   "execution_count": 20,
   "metadata": {},
   "outputs": [
    {
     "name": "stdout",
     "output_type": "stream",
     "text": [
      "Top 15 features\n",
      "as_length_IP                                 0.104641\n",
      "as_loc_IPFFS                                 0.084568\n",
      "as_loc_IPCAPS                                0.047149\n",
      "svc_ip_90days_pre                            0.039176\n",
      "IP_history                                   0.034163\n",
      "as_close_Home/Shelter/Self                   0.032023\n",
      "svc_es_60days_pre                            0.031955\n",
      "svc_es_30days_pre                            0.028327\n",
      "svc_ip_30days_pre                            0.028306\n",
      "svc_es_7days_pre                             0.027068\n",
      "svc_ip_60days_pre                            0.026801\n",
      "svc_es_90days_pre                            0.026636\n",
      "as_close_Satisfactorily Achieved\\r\\nGoals    0.024341\n",
      "svc_pre_all                                  0.023997\n",
      "age                                          0.022905\n",
      "Name: RF, dtype: float64\n"
     ]
    }
   ],
   "source": [
    "rf_importances = pd.Series(model_cvs['random forest'].feature_importances_, index=Xtrain.columns, name = 'RF')\n",
    "print(\"Top 15 features\")\n",
    "print(rf_importances.nlargest(15))"
   ]
  },
  {
   "cell_type": "code",
   "execution_count": 21,
   "metadata": {},
   "outputs": [
    {
     "name": "stdout",
     "output_type": "stream",
     "text": [
      "Top 15 features\n",
      "as_length_IP                  0.309589\n",
      "as_loc_IPFFS                  0.162407\n",
      "as_loc_IPCAPS                 0.121421\n",
      "svc_ip_90days_pre             0.100216\n",
      "IP_history                    0.071875\n",
      "as_close_Home/Shelter/Self    0.036150\n",
      "svc_ip_7days_pre              0.034779\n",
      "svc_pre_sub                   0.025273\n",
      "svc_op_7days_pre              0.022123\n",
      "svc_ip_60days_pre             0.020684\n",
      "svc_ip_30days_pre             0.016105\n",
      "as_close_Other                0.011319\n",
      "svc_es_90days_pre             0.010805\n",
      "insurance_Other Insurance     0.008107\n",
      "liv_House or Apartment        0.006120\n",
      "Name: GBM, dtype: float64\n"
     ]
    }
   ],
   "source": [
    "gbm_importances = pd.Series(model_cvs['gbm'].feature_importances_, index=Xtrain.columns, name = 'GBM')\n",
    "print(\"Top 15 features\")\n",
    "print(gbm_importances.nlargest(15))"
   ]
  },
  {
   "cell_type": "code",
   "execution_count": 22,
   "metadata": {},
   "outputs": [
    {
     "data": {
      "text/html": [
       "<div>\n",
       "<style scoped>\n",
       "    .dataframe tbody tr th:only-of-type {\n",
       "        vertical-align: middle;\n",
       "    }\n",
       "\n",
       "    .dataframe tbody tr th {\n",
       "        vertical-align: top;\n",
       "    }\n",
       "\n",
       "    .dataframe thead th {\n",
       "        text-align: right;\n",
       "    }\n",
       "</style>\n",
       "<table border=\"1\" class=\"dataframe\">\n",
       "  <thead>\n",
       "    <tr style=\"text-align: right;\">\n",
       "      <th></th>\n",
       "      <th>Variable</th>\n",
       "      <th>LR</th>\n",
       "      <th>DT</th>\n",
       "      <th>RF</th>\n",
       "      <th>GBM</th>\n",
       "      <th>avg</th>\n",
       "    </tr>\n",
       "  </thead>\n",
       "  <tbody>\n",
       "    <tr>\n",
       "      <th>0</th>\n",
       "      <td>as_length_IP</td>\n",
       "      <td>-1.768141</td>\n",
       "      <td>0.282144</td>\n",
       "      <td>0.104641</td>\n",
       "      <td>0.309589</td>\n",
       "      <td>0.232125</td>\n",
       "    </tr>\n",
       "    <tr>\n",
       "      <th>1</th>\n",
       "      <td>as_loc_IPFFS</td>\n",
       "      <td>-3.934586</td>\n",
       "      <td>0.074214</td>\n",
       "      <td>0.084568</td>\n",
       "      <td>0.162407</td>\n",
       "      <td>0.107063</td>\n",
       "    </tr>\n",
       "    <tr>\n",
       "      <th>2</th>\n",
       "      <td>svc_ip_90days_pre</td>\n",
       "      <td>3.249275</td>\n",
       "      <td>0.148377</td>\n",
       "      <td>0.039176</td>\n",
       "      <td>0.100216</td>\n",
       "      <td>0.095923</td>\n",
       "    </tr>\n",
       "    <tr>\n",
       "      <th>3</th>\n",
       "      <td>as_loc_IPCAPS</td>\n",
       "      <td>-3.684691</td>\n",
       "      <td>0.075185</td>\n",
       "      <td>0.047149</td>\n",
       "      <td>0.121421</td>\n",
       "      <td>0.081251</td>\n",
       "    </tr>\n",
       "    <tr>\n",
       "      <th>4</th>\n",
       "      <td>IP_history</td>\n",
       "      <td>1.853447</td>\n",
       "      <td>0.024362</td>\n",
       "      <td>0.034163</td>\n",
       "      <td>0.071875</td>\n",
       "      <td>0.043467</td>\n",
       "    </tr>\n",
       "    <tr>\n",
       "      <th>5</th>\n",
       "      <td>svc_ip_7days_pre</td>\n",
       "      <td>-1.463342</td>\n",
       "      <td>0.037167</td>\n",
       "      <td>0.017648</td>\n",
       "      <td>0.034779</td>\n",
       "      <td>0.029865</td>\n",
       "    </tr>\n",
       "    <tr>\n",
       "      <th>6</th>\n",
       "      <td>svc_pre_sub</td>\n",
       "      <td>-0.578553</td>\n",
       "      <td>0.032608</td>\n",
       "      <td>0.020426</td>\n",
       "      <td>0.025273</td>\n",
       "      <td>0.026102</td>\n",
       "    </tr>\n",
       "    <tr>\n",
       "      <th>7</th>\n",
       "      <td>as_close_Home/Shelter/Self</td>\n",
       "      <td>-0.024123</td>\n",
       "      <td>0.001438</td>\n",
       "      <td>0.032023</td>\n",
       "      <td>0.036150</td>\n",
       "      <td>0.023203</td>\n",
       "    </tr>\n",
       "    <tr>\n",
       "      <th>8</th>\n",
       "      <td>svc_ip_30days_pre</td>\n",
       "      <td>2.091261</td>\n",
       "      <td>0.013191</td>\n",
       "      <td>0.028306</td>\n",
       "      <td>0.016105</td>\n",
       "      <td>0.019201</td>\n",
       "    </tr>\n",
       "    <tr>\n",
       "      <th>9</th>\n",
       "      <td>svc_ip_60days_pre</td>\n",
       "      <td>1.682455</td>\n",
       "      <td>0.008037</td>\n",
       "      <td>0.026801</td>\n",
       "      <td>0.020684</td>\n",
       "      <td>0.018507</td>\n",
       "    </tr>\n",
       "    <tr>\n",
       "      <th>10</th>\n",
       "      <td>svc_op_7days_pre</td>\n",
       "      <td>-0.518187</td>\n",
       "      <td>0.011289</td>\n",
       "      <td>0.018759</td>\n",
       "      <td>0.022123</td>\n",
       "      <td>0.017390</td>\n",
       "    </tr>\n",
       "    <tr>\n",
       "      <th>11</th>\n",
       "      <td>svc_pre_all</td>\n",
       "      <td>-0.388148</td>\n",
       "      <td>0.020129</td>\n",
       "      <td>0.023997</td>\n",
       "      <td>0.000073</td>\n",
       "      <td>0.014733</td>\n",
       "    </tr>\n",
       "    <tr>\n",
       "      <th>12</th>\n",
       "      <td>svc_es_90days_pre</td>\n",
       "      <td>0.793727</td>\n",
       "      <td>0.004968</td>\n",
       "      <td>0.026636</td>\n",
       "      <td>0.010805</td>\n",
       "      <td>0.014137</td>\n",
       "    </tr>\n",
       "    <tr>\n",
       "      <th>13</th>\n",
       "      <td>svc_es_60days_pre</td>\n",
       "      <td>0.358197</td>\n",
       "      <td>0.005726</td>\n",
       "      <td>0.031955</td>\n",
       "      <td>0.001073</td>\n",
       "      <td>0.012918</td>\n",
       "    </tr>\n",
       "    <tr>\n",
       "      <th>14</th>\n",
       "      <td>age</td>\n",
       "      <td>-0.302970</td>\n",
       "      <td>0.012817</td>\n",
       "      <td>0.022905</td>\n",
       "      <td>0.002596</td>\n",
       "      <td>0.012773</td>\n",
       "    </tr>\n",
       "  </tbody>\n",
       "</table>\n",
       "</div>"
      ],
      "text/plain": [
       "                      Variable        LR        DT        RF       GBM  \\\n",
       "0                 as_length_IP -1.768141  0.282144  0.104641  0.309589   \n",
       "1                 as_loc_IPFFS -3.934586  0.074214  0.084568  0.162407   \n",
       "2            svc_ip_90days_pre  3.249275  0.148377  0.039176  0.100216   \n",
       "3                as_loc_IPCAPS -3.684691  0.075185  0.047149  0.121421   \n",
       "4                   IP_history  1.853447  0.024362  0.034163  0.071875   \n",
       "5             svc_ip_7days_pre -1.463342  0.037167  0.017648  0.034779   \n",
       "6                  svc_pre_sub -0.578553  0.032608  0.020426  0.025273   \n",
       "7   as_close_Home/Shelter/Self -0.024123  0.001438  0.032023  0.036150   \n",
       "8            svc_ip_30days_pre  2.091261  0.013191  0.028306  0.016105   \n",
       "9            svc_ip_60days_pre  1.682455  0.008037  0.026801  0.020684   \n",
       "10            svc_op_7days_pre -0.518187  0.011289  0.018759  0.022123   \n",
       "11                 svc_pre_all -0.388148  0.020129  0.023997  0.000073   \n",
       "12           svc_es_90days_pre  0.793727  0.004968  0.026636  0.010805   \n",
       "13           svc_es_60days_pre  0.358197  0.005726  0.031955  0.001073   \n",
       "14                         age -0.302970  0.012817  0.022905  0.002596   \n",
       "\n",
       "         avg  \n",
       "0   0.232125  \n",
       "1   0.107063  \n",
       "2   0.095923  \n",
       "3   0.081251  \n",
       "4   0.043467  \n",
       "5   0.029865  \n",
       "6   0.026102  \n",
       "7   0.023203  \n",
       "8   0.019201  \n",
       "9   0.018507  \n",
       "10  0.017390  \n",
       "11  0.014733  \n",
       "12  0.014137  \n",
       "13  0.012918  \n",
       "14  0.012773  "
      ]
     },
     "execution_count": 22,
     "metadata": {},
     "output_type": "execute_result"
    }
   ],
   "source": [
    "importances_df = pd.concat([lr_importances, dt_importances, rf_importances, gbm_importances], axis=1)\n",
    "importances_df['avg'] = importances_df[['DT', 'RF', 'GBM']].mean(axis=1)\n",
    "importances_df = importances_df.sort_values(by='avg', ascending=False)\n",
    "importances_df.reset_index(inplace=True)\n",
    "importances_df = importances_df.rename(columns = {'index':'Variable'})\n",
    "importances_df.head(15)"
   ]
  },
  {
   "cell_type": "code",
   "execution_count": 23,
   "metadata": {},
   "outputs": [
    {
     "data": {
      "text/plain": [
       "['as_length_IP',\n",
       " 'as_loc_IPFFS',\n",
       " 'svc_ip_90days_pre',\n",
       " 'as_loc_IPCAPS',\n",
       " 'IP_history',\n",
       " 'svc_ip_7days_pre',\n",
       " 'svc_pre_sub',\n",
       " 'as_close_Home/Shelter/Self',\n",
       " 'svc_ip_30days_pre',\n",
       " 'svc_ip_60days_pre',\n",
       " 'svc_op_7days_pre',\n",
       " 'svc_pre_all',\n",
       " 'svc_es_90days_pre',\n",
       " 'svc_es_60days_pre',\n",
       " 'age']"
      ]
     },
     "execution_count": 23,
     "metadata": {},
     "output_type": "execute_result"
    }
   ],
   "source": [
    "# Select the top 15 variables\n",
    "important_vars = list(importances_df.iloc[0:15,0])\n",
    "important_vars"
   ]
  },
  {
   "cell_type": "markdown",
   "metadata": {},
   "source": [
    "### Fit Boruta-select variables into the models"
   ]
  },
  {
   "cell_type": "code",
   "execution_count": 24,
   "metadata": {},
   "outputs": [
    {
     "name": "stdout",
     "output_type": "stream",
     "text": [
      "Fitting models.\n",
      "naive bayes... Time elapsed  0:00:00.028000\n",
      "done\n",
      "knn... Time elapsed  0:00:00.899004\n",
      "done\n",
      "logistic... Time elapsed  0:00:00.079997\n",
      "done\n",
      "mlp-nn... Time elapsed  0:00:09.828003\n",
      "done\n",
      "decision tree... Time elapsed  0:00:00.233000\n",
      "done\n",
      "random forest... Time elapsed  0:00:06.358003\n",
      "done\n",
      "gbm... Time elapsed  0:00:06.054006\n",
      "done\n",
      "Done.\n",
      "\n",
      "Accuracy : 0.7896\n",
      "Precision : 0.4921\n",
      "Recall : 0.7061\n",
      "F1 score : 0.5800\n",
      "AUC score : 0.7670\n",
      "AP score : 0.4874\n",
      "\n",
      "Classification report : \n",
      "               precision    recall  f1-score   support\n",
      "\n",
      "           0       0.91      0.81      0.86      2220\n",
      "           1       0.49      0.71      0.58       575\n",
      "\n",
      "    accuracy                           0.79      2795\n",
      "   macro avg       0.70      0.76      0.72      2795\n",
      "weighted avg       0.83      0.79      0.80      2795\n",
      "\n",
      "\n",
      "Confusion matrix : \n",
      " [[1801  419]\n",
      " [ 169  406]]\n",
      "done.\n",
      "\n",
      "Accuracy : 0.7775\n",
      "Precision : 0.4712\n",
      "Recall : 0.6678\n",
      "F1 score : 0.5525\n",
      "AUC score : 0.7712\n",
      "AP score : 0.4645\n",
      "\n",
      "Classification report : \n",
      "               precision    recall  f1-score   support\n",
      "\n",
      "           0       0.90      0.81      0.85      2220\n",
      "           1       0.47      0.67      0.55       575\n",
      "\n",
      "    accuracy                           0.78      2795\n",
      "   macro avg       0.69      0.74      0.70      2795\n",
      "weighted avg       0.81      0.78      0.79      2795\n",
      "\n",
      "\n",
      "Confusion matrix : \n",
      " [[1789  431]\n",
      " [ 191  384]]\n",
      "done.\n",
      "\n",
      "Accuracy : 0.8114\n",
      "Precision : 0.5326\n",
      "Recall : 0.6817\n",
      "F1 score : 0.5980\n",
      "AUC score : 0.8173\n",
      "AP score : 0.5932\n",
      "\n",
      "Classification report : \n",
      "               precision    recall  f1-score   support\n",
      "\n",
      "           0       0.91      0.85      0.88      2220\n",
      "           1       0.53      0.68      0.60       575\n",
      "\n",
      "    accuracy                           0.81      2795\n",
      "   macro avg       0.72      0.76      0.74      2795\n",
      "weighted avg       0.83      0.81      0.82      2795\n",
      "\n",
      "\n",
      "Confusion matrix : \n",
      " [[1876  344]\n",
      " [ 183  392]]\n",
      "done.\n",
      "\n",
      "Accuracy : 0.7979\n",
      "Precision : 0.5063\n",
      "Recall : 0.6974\n",
      "F1 score : 0.5867\n",
      "AUC score : 0.8203\n",
      "AP score : 0.6028\n",
      "\n",
      "Classification report : \n",
      "               precision    recall  f1-score   support\n",
      "\n",
      "           0       0.91      0.82      0.87      2220\n",
      "           1       0.51      0.70      0.59       575\n",
      "\n",
      "    accuracy                           0.80      2795\n",
      "   macro avg       0.71      0.76      0.73      2795\n",
      "weighted avg       0.83      0.80      0.81      2795\n",
      "\n",
      "\n",
      "Confusion matrix : \n",
      " [[1829  391]\n",
      " [ 174  401]]\n",
      "done.\n",
      "\n",
      "Accuracy : 0.8143\n",
      "Precision : 0.5435\n",
      "Recall : 0.6087\n",
      "F1 score : 0.5742\n",
      "AUC score : 0.7200\n",
      "AP score : 0.4155\n",
      "\n",
      "Classification report : \n",
      "               precision    recall  f1-score   support\n",
      "\n",
      "           0       0.90      0.87      0.88      2220\n",
      "           1       0.54      0.61      0.57       575\n",
      "\n",
      "    accuracy                           0.81      2795\n",
      "   macro avg       0.72      0.74      0.73      2795\n",
      "weighted avg       0.82      0.81      0.82      2795\n",
      "\n",
      "\n",
      "Confusion matrix : \n",
      " [[1926  294]\n",
      " [ 225  350]]\n",
      "done.\n",
      "\n",
      "Accuracy : 0.8565\n",
      "Precision : 0.6611\n",
      "Recall : 0.6209\n",
      "F1 score : 0.6404\n",
      "AUC score : 0.8384\n",
      "AP score : 0.6968\n",
      "\n",
      "Classification report : \n",
      "               precision    recall  f1-score   support\n",
      "\n",
      "           0       0.90      0.92      0.91      2220\n",
      "           1       0.66      0.62      0.64       575\n",
      "\n",
      "    accuracy                           0.86      2795\n",
      "   macro avg       0.78      0.77      0.78      2795\n",
      "weighted avg       0.85      0.86      0.85      2795\n",
      "\n",
      "\n",
      "Confusion matrix : \n",
      " [[2037  183]\n",
      " [ 218  357]]\n",
      "done.\n",
      "\n",
      "Accuracy : 0.8644\n",
      "Precision : 0.6769\n",
      "Recall : 0.6522\n",
      "F1 score : 0.6643\n",
      "AUC score : 0.8552\n",
      "AP score : 0.7362\n",
      "\n",
      "Classification report : \n",
      "               precision    recall  f1-score   support\n",
      "\n",
      "           0       0.91      0.92      0.92      2220\n",
      "           1       0.68      0.65      0.66       575\n",
      "\n",
      "    accuracy                           0.86      2795\n",
      "   macro avg       0.79      0.79      0.79      2795\n",
      "weighted avg       0.86      0.86      0.86      2795\n",
      "\n",
      "\n",
      "Confusion matrix : \n",
      " [[2041  179]\n",
      " [ 200  375]]\n",
      "done.\n",
      "\n"
     ]
    },
    {
     "data": {
      "text/plain": [
       "(0.8644007155635063,\n",
       " 0.6768953068592057,\n",
       " 0.6521739130434783,\n",
       " 0.6643046944198404,\n",
       " 0.8551970231100665,\n",
       " 0.7361999486104855)"
      ]
     },
     "execution_count": 24,
     "metadata": {},
     "output_type": "execute_result"
    }
   ],
   "source": [
    "models = get_models()\n",
    "Pb, Sb, model_cvsb = train_predict(models, Xtrainb_scaled, ytrain, Xtestb_scaled)\n",
    "evaluate(ytest, Sb, Pb)"
   ]
  },
  {
   "cell_type": "code",
   "execution_count": 25,
   "metadata": {},
   "outputs": [
    {
     "data": {
      "image/png": "[encoded data removed]",
      "text/plain": [
       "<Figure size 864x288 with 2 Axes>"
      ]
     },
     "metadata": {
      "needs_background": "light"
     },
     "output_type": "display_data"
    }
   ],
   "source": [
    "fig, ax = plt.subplots(1, 2, figsize=(12,4))    \n",
    "for column in Pb.columns:\n",
    "    roc_auc = roc_auc_score(ytest, Pb[column])\n",
    "    fpr, tpr, _ = roc_curve(ytest, Pb[column])\n",
    "    ax[0].plot(fpr, tpr, label='%s: %0.3f' % (column, roc_auc))\n",
    "\n",
    "    precision, recall, _ = precision_recall_curve(ytest, Pb[column])\n",
    "    ave_prec_rec = average_precision_score(ytest, Pb[column])\n",
    "    ax[1].plot(recall, precision, label='%s: %0.3f' % (column, ave_prec_rec))  \n",
    "\n",
    "    ax[0].set_xlim([0.0, 1.0])\n",
    "    ax[0].set_ylim([0.0, 1.05])\n",
    "    ax[0].set_xlabel('False Positive Rate')\n",
    "    ax[0].set_ylabel('True Positive Rate')\n",
    "    ax[0].set_title('Receiver operating characteristic')\n",
    "    ax[0].legend(loc=\"lower right\", title=\"Model: AUROC\")\n",
    "\n",
    "    ax[1].set_xlim([0.0, 1.0])\n",
    "    ax[1].set_ylim([0.0, 1.05])\n",
    "    ax[1].set_xlabel('Recall')\n",
    "    ax[1].set_ylabel('Precision')\n",
    "    ax[1].set_title('Precision-Recall curve')\n",
    "    ax[1].legend(loc=\"upper right\", title=\"Model: AP\")\n",
    "   \n",
    "#plt.savefig('mult_models_after_feat_select.png', format='png')"
   ]
  },
  {
   "cell_type": "markdown",
   "metadata": {},
   "source": [
    "### Fit important variables into the models"
   ]
  },
  {
   "cell_type": "code",
   "execution_count": 26,
   "metadata": {},
   "outputs": [],
   "source": [
    "Xtrain2 = df_train[important_vars]\n",
    "Xtest2 = df_test[important_vars]\n",
    "ytrain_original = df_train['svc_CYF_ip_7days_postdc_bi']\n"
   ]
  },
  {
   "cell_type": "code",
   "execution_count": 27,
   "metadata": {},
   "outputs": [],
   "source": [
    "from sklearn.preprocessing import MinMaxScaler\n",
    "scaler = MinMaxScaler()\n",
    "Xtrain2_scaled = scaler.fit_transform(Xtrain2)\n",
    "Xtest2_scaled = scaler.fit_transform(Xtest2)"
   ]
  },
  {
   "cell_type": "code",
   "execution_count": 28,
   "metadata": {},
   "outputs": [],
   "source": [
    "# Class Imbalance Processing: Using re-sampling method\n",
    "from imblearn.over_sampling import SMOTE\n",
    "sm = SMOTE(random_state=SEED)\n",
    "Xtrain2_scaled, ytrain = sm.fit_sample(Xtrain2_scaled, ytrain_original)"
   ]
  },
  {
   "cell_type": "code",
   "execution_count": 29,
   "metadata": {},
   "outputs": [
    {
     "name": "stdout",
     "output_type": "stream",
     "text": [
      "Fitting models.\n",
      "naive bayes... Time elapsed  0:00:00.032000\n",
      "done\n",
      "knn... Time elapsed  0:00:02.035997\n",
      "done\n",
      "logistic... Time elapsed  0:00:00.218002\n",
      "done\n",
      "mlp-nn... Time elapsed  0:00:14.916999\n",
      "done\n",
      "decision tree... Time elapsed  0:00:00.347006\n",
      "done\n",
      "random forest... Time elapsed  0:00:06.600008\n",
      "done\n",
      "gbm... Time elapsed  0:00:09.294991\n",
      "done\n",
      "Done.\n",
      "\n",
      "Accuracy : 0.7986\n",
      "Precision : 0.5123\n",
      "Recall : 0.4330\n",
      "F1 score : 0.4694\n",
      "AUC score : 0.7533\n",
      "AP score : 0.5039\n",
      "\n",
      "Classification report : \n",
      "               precision    recall  f1-score   support\n",
      "\n",
      "           0       0.86      0.89      0.88      2220\n",
      "           1       0.51      0.43      0.47       575\n",
      "\n",
      "    accuracy                           0.80      2795\n",
      "   macro avg       0.69      0.66      0.67      2795\n",
      "weighted avg       0.79      0.80      0.79      2795\n",
      "\n",
      "\n",
      "Confusion matrix : \n",
      " [[1983  237]\n",
      " [ 326  249]]\n",
      "done.\n",
      "\n",
      "Accuracy : 0.7413\n",
      "Precision : 0.4183\n",
      "Recall : 0.6591\n",
      "F1 score : 0.5118\n",
      "AUC score : 0.7530\n",
      "AP score : 0.4248\n",
      "\n",
      "Classification report : \n",
      "               precision    recall  f1-score   support\n",
      "\n",
      "           0       0.90      0.76      0.82      2220\n",
      "           1       0.42      0.66      0.51       575\n",
      "\n",
      "    accuracy                           0.74      2795\n",
      "   macro avg       0.66      0.71      0.67      2795\n",
      "weighted avg       0.80      0.74      0.76      2795\n",
      "\n",
      "\n",
      "Confusion matrix : \n",
      " [[1693  527]\n",
      " [ 196  379]]\n",
      "done.\n",
      "\n",
      "Accuracy : 0.8147\n",
      "Precision : 0.5385\n",
      "Recall : 0.6939\n",
      "F1 score : 0.6064\n",
      "AUC score : 0.8178\n",
      "AP score : 0.6099\n",
      "\n",
      "Classification report : \n",
      "               precision    recall  f1-score   support\n",
      "\n",
      "           0       0.91      0.85      0.88      2220\n",
      "           1       0.54      0.69      0.61       575\n",
      "\n",
      "    accuracy                           0.81      2795\n",
      "   macro avg       0.73      0.77      0.74      2795\n",
      "weighted avg       0.84      0.81      0.82      2795\n",
      "\n",
      "\n",
      "Confusion matrix : \n",
      " [[1878  342]\n",
      " [ 176  399]]\n",
      "done.\n",
      "\n",
      "Accuracy : 0.7971\n",
      "Precision : 0.5050\n",
      "Recall : 0.7096\n",
      "F1 score : 0.5900\n",
      "AUC score : 0.8279\n",
      "AP score : 0.6377\n",
      "\n",
      "Classification report : \n",
      "               precision    recall  f1-score   support\n",
      "\n",
      "           0       0.92      0.82      0.87      2220\n",
      "           1       0.50      0.71      0.59       575\n",
      "\n",
      "    accuracy                           0.80      2795\n",
      "   macro avg       0.71      0.76      0.73      2795\n",
      "weighted avg       0.83      0.80      0.81      2795\n",
      "\n",
      "\n",
      "Confusion matrix : \n",
      " [[1820  400]\n",
      " [ 167  408]]\n",
      "done.\n",
      "\n",
      "Accuracy : 0.5560\n",
      "Precision : 0.2729\n",
      "Recall : 0.6957\n",
      "F1 score : 0.3920\n",
      "AUC score : 0.6076\n",
      "AP score : 0.2524\n",
      "\n",
      "Classification report : \n",
      "               precision    recall  f1-score   support\n",
      "\n",
      "           0       0.87      0.52      0.65      2220\n",
      "           1       0.27      0.70      0.39       575\n",
      "\n",
      "    accuracy                           0.56      2795\n",
      "   macro avg       0.57      0.61      0.52      2795\n",
      "weighted avg       0.75      0.56      0.60      2795\n",
      "\n",
      "\n",
      "Confusion matrix : \n",
      " [[1154 1066]\n",
      " [ 175  400]]\n",
      "done.\n",
      "\n",
      "Accuracy : 0.6934\n",
      "Precision : 0.3754\n",
      "Recall : 0.7391\n",
      "F1 score : 0.4979\n",
      "AUC score : 0.7859\n",
      "AP score : 0.5675\n",
      "\n",
      "Classification report : \n",
      "               precision    recall  f1-score   support\n",
      "\n",
      "           0       0.91      0.68      0.78      2220\n",
      "           1       0.38      0.74      0.50       575\n",
      "\n",
      "    accuracy                           0.69      2795\n",
      "   macro avg       0.64      0.71      0.64      2795\n",
      "weighted avg       0.80      0.69      0.72      2795\n",
      "\n",
      "\n",
      "Confusion matrix : \n",
      " [[1513  707]\n",
      " [ 150  425]]\n",
      "done.\n",
      "\n",
      "Accuracy : 0.5631\n",
      "Precision : 0.3050\n",
      "Recall : 0.8783\n",
      "F1 score : 0.4527\n",
      "AUC score : 0.8177\n",
      "AP score : 0.6471\n",
      "\n",
      "Classification report : \n",
      "               precision    recall  f1-score   support\n",
      "\n",
      "           0       0.94      0.48      0.64      2220\n",
      "           1       0.30      0.88      0.45       575\n",
      "\n",
      "    accuracy                           0.56      2795\n",
      "   macro avg       0.62      0.68      0.54      2795\n",
      "weighted avg       0.81      0.56      0.60      2795\n",
      "\n",
      "\n",
      "Confusion matrix : \n",
      " [[1069 1151]\n",
      " [  70  505]]\n",
      "done.\n",
      "\n"
     ]
    },
    {
     "data": {
      "text/plain": [
       "(0.5631484794275492,\n",
       " 0.30495169082125606,\n",
       " 0.8782608695652174,\n",
       " 0.4527117884356791,\n",
       " 0.8176568742655699,\n",
       " 0.6470669957142513)"
      ]
     },
     "execution_count": 29,
     "metadata": {},
     "output_type": "execute_result"
    }
   ],
   "source": [
    "models = get_models()\n",
    "Pm, Sm, model_cvsm = train_predict(models, Xtrain2_scaled, ytrain, Xtest2_scaled)\n",
    "evaluate(ytest, Sm, Pm)"
   ]
  },
  {
   "cell_type": "code",
   "execution_count": 30,
   "metadata": {},
   "outputs": [
    {
     "data": {
      "image/png": "[encoded data removed]",
      "text/plain": [
       "<Figure size 864x288 with 2 Axes>"
      ]
     },
     "metadata": {
      "needs_background": "light"
     },
     "output_type": "display_data"
    }
   ],
   "source": [
    "fig, ax = plt.subplots(1, 2, figsize=(12,4))    \n",
    "for column in Pm.columns:\n",
    "    roc_auc = roc_auc_score(ytest, Pm[column])\n",
    "    fpr, tpr, _ = roc_curve(ytest, Pm[column])\n",
    "    ax[0].plot(fpr, tpr, label='%s: %0.3f' % (column, roc_auc))\n",
    "\n",
    "    precision, recall, _ = precision_recall_curve(ytest, Pm[column])\n",
    "    ave_prec_rec = average_precision_score(ytest, Pm[column])\n",
    "    ax[1].plot(recall, precision, label='%s: %0.3f' % (column, ave_prec_rec))  \n",
    "\n",
    "    ax[0].set_xlim([0.0, 1.0])\n",
    "    ax[0].set_ylim([0.0, 1.05])\n",
    "    ax[0].set_xlabel('False Positive Rate')\n",
    "    ax[0].set_ylabel('True Positive Rate')\n",
    "    ax[0].set_title('Receiver operating characteristic')\n",
    "    ax[0].legend(loc=\"lower right\", title=\"Model: AUROC\")\n",
    "\n",
    "    ax[1].set_xlim([0.0, 1.0])\n",
    "    ax[1].set_ylim([0.0, 1.05])\n",
    "    ax[1].set_xlabel('Recall')\n",
    "    ax[1].set_ylabel('Precision')\n",
    "    ax[1].set_title('Precision-Recall curve')\n",
    "    ax[1].legend(loc=\"upper right\", title=\"Model: AP\")\n",
    "   \n",
    "#plt.savefig('mult_models_after_feat_select.png', format='png')"
   ]
  },
  {
   "cell_type": "markdown",
   "metadata": {},
   "source": [
    "From the above results, I selected Gradient Boosting as my main model and the set of variables from the Boruta algorithms"
   ]
  },
  {
   "cell_type": "markdown",
   "metadata": {},
   "source": [
    "## GBM tuning"
   ]
  },
  {
   "cell_type": "code",
   "execution_count": 31,
   "metadata": {},
   "outputs": [
    {
     "name": "stderr",
     "output_type": "stream",
     "text": [
      "C:\\Users\\Anh Tran\\anaconda3\\lib\\site-packages\\sklearn\\model_selection\\_search.py:847: FutureWarning: The parameter 'iid' is deprecated in 0.22 and will be removed in 0.24.\n",
      "  warnings.warn(\n"
     ]
    },
    {
     "data": {
      "text/plain": [
       "GridSearchCV(cv=5,\n",
       "             estimator=GradientBoostingClassifier(max_depth=4,\n",
       "                                                  max_features='sqrt',\n",
       "                                                  random_state=300,\n",
       "                                                  subsample=1),\n",
       "             iid=False, n_jobs=-1,\n",
       "             param_grid={'learning_rate': [1, 0.1, 0.01, 0.001],\n",
       "                         'n_estimators': [100, 500, 1000, 1500]},\n",
       "             scoring='roc_auc')"
      ]
     },
     "execution_count": 31,
     "metadata": {},
     "output_type": "execute_result"
    }
   ],
   "source": [
    "param1 = {\n",
    "    \"n_estimators\":[100,500,1000,1500],\n",
    "    \"learning_rate\":[1, 0.1, 0.01, 0.001]\n",
    "}\n",
    "\n",
    "tuning = GridSearchCV(estimator =GradientBoostingClassifier(max_depth=4, min_samples_split=2, min_samples_leaf=1, subsample=1, max_features='sqrt', random_state=SEED), \n",
    "            param_grid = param1, scoring='roc_auc',n_jobs=-1, iid=False, cv=5)\n",
    "tuning.fit(Xtrainb_scaled,ytrain)\n"
   ]
  },
  {
   "cell_type": "code",
   "execution_count": 32,
   "metadata": {},
   "outputs": [
    {
     "data": {
      "text/plain": [
       "({'learning_rate': 0.1, 'n_estimators': 1000}, 0.945112889066644)"
      ]
     },
     "execution_count": 32,
     "metadata": {},
     "output_type": "execute_result"
    }
   ],
   "source": [
    "tuning.best_params_, tuning.best_score_"
   ]
  },
  {
   "cell_type": "code",
   "execution_count": 33,
   "metadata": {},
   "outputs": [
    {
     "name": "stderr",
     "output_type": "stream",
     "text": [
      "C:\\Users\\Anh Tran\\anaconda3\\lib\\site-packages\\sklearn\\model_selection\\_search.py:847: FutureWarning: The parameter 'iid' is deprecated in 0.22 and will be removed in 0.24.\n",
      "  warnings.warn(\n"
     ]
    },
    {
     "data": {
      "text/plain": [
       "({'max_depth': 7}, 0.947087670573373)"
      ]
     },
     "execution_count": 33,
     "metadata": {},
     "output_type": "execute_result"
    }
   ],
   "source": [
    "param2 = {\n",
    "   'max_depth':[2,3,4,5,6,7]\n",
    "}\n",
    "\n",
    "tuning = GridSearchCV(estimator =GradientBoostingClassifier(learning_rate=0.1,n_estimators=1000, min_samples_split=2, min_samples_leaf=1, subsample=1, max_features='sqrt', random_state=SEED), \n",
    "            param_grid = param2, scoring='roc_auc',n_jobs=-1, iid=False, cv=5)\n",
    "tuning.fit(Xtrainb_scaled,ytrain)\n",
    "tuning.best_params_, tuning.best_score_"
   ]
  },
  {
   "cell_type": "code",
   "execution_count": 35,
   "metadata": {},
   "outputs": [
    {
     "data": {
      "text/plain": [
       "GradientBoostingClassifier(max_depth=7, max_features='sqrt', n_estimators=1000,\n",
       "                           random_state=300, subsample=1)"
      ]
     },
     "execution_count": 35,
     "metadata": {},
     "output_type": "execute_result"
    }
   ],
   "source": [
    "new=GradientBoostingClassifier(learning_rate=0.1, n_estimators=1000, max_depth=7, min_samples_split=2, min_samples_leaf=1, subsample=1, max_features='sqrt' , random_state=SEED)\n",
    "new.fit(Xtrainb_scaled,ytrain)\n"
   ]
  },
  {
   "cell_type": "code",
   "execution_count": 36,
   "metadata": {},
   "outputs": [
    {
     "name": "stdout",
     "output_type": "stream",
     "text": [
      "Accuracy : 0.8680\n",
      "Precision : 0.7111\n",
      "Recall : 0.6035\n",
      "F1 score : 0.6529\n",
      "AUC score : 0.8090\n",
      "AP score : 0.6952\n",
      "\n",
      "Classification report : \n",
      "               precision    recall  f1-score   support\n",
      "\n",
      "           0       0.90      0.94      0.92      2220\n",
      "           1       0.71      0.60      0.65       575\n",
      "\n",
      "    accuracy                           0.87      2795\n",
      "   macro avg       0.81      0.77      0.79      2795\n",
      "weighted avg       0.86      0.87      0.86      2795\n",
      "\n",
      "\n",
      "Confusion matrix : \n",
      " [[2079  141]\n",
      " [ 228  347]]\n"
     ]
    }
   ],
   "source": [
    "y_pred=new.predict(Xtestb_scaled)\n",
    "y_pred_proba = new.predict_proba(Xtestb_scaled)[:, 1]\n",
    "y_true = ytest\n",
    "acc = accuracy_score(y_true, y_pred)\n",
    "precision = precision_score(y_true, y_pred)\n",
    "recall = recall_score(y_true, y_pred)\n",
    "f1score = f1_score(y_true, y_pred)\n",
    "auc = roc_auc_score(y_true, y_pred_proba)\n",
    "ap = average_precision_score(y_true, y_pred_proba)\n",
    "print (\"Accuracy : {:.4f}\".format(acc))\n",
    "print(\"Precision : {:.4f}\".format(precision))\n",
    "print(\"Recall : {:.4f}\".format(recall))\n",
    "print(\"F1 score : {:.4f}\".format(f1score))\n",
    "print(\"AUC score : {:.4f}\".format(auc))\n",
    "print(\"AP score : {:.4f}\".format(ap))\n",
    "print(\"\\nClassification report : \\n\", classification_report(y_true, y_pred))\n",
    "print(\"\\nConfusion matrix : \\n\", confusion_matrix(y_true, y_pred))"
   ]
  },
  {
   "cell_type": "code",
   "execution_count": 37,
   "metadata": {},
   "outputs": [
    {
     "name": "stdout",
     "output_type": "stream",
     "text": [
      "as_length_IP                  0.400746\n",
      "as_loc_IPFFS                  0.117788\n",
      "IP_history                    0.099979\n",
      "svc_pre_all                   0.088270\n",
      "svc_pre                       0.086440\n",
      "svc_ip_30days_pre             0.074926\n",
      "as_loc_IPCAPS                 0.060249\n",
      "as_close_Home/Shelter/Self    0.045435\n",
      "svc_ip_7days_pre              0.026167\n",
      "dtype: float64\n"
     ]
    },
    {
     "data": {
      "text/plain": [
       "Text(0, 0.5, 'Feature Importance Score')"
      ]
     },
     "execution_count": 37,
     "metadata": {},
     "output_type": "execute_result"
    },
    {
     "data": {
      "image/png": "[encoded data removed]",
      "text/plain": [
       "<Figure size 432x288 with 1 Axes>"
      ]
     },
     "metadata": {
      "needs_background": "light"
     },
     "output_type": "display_data"
    }
   ],
   "source": [
    "feat_imp = pd.Series(new.feature_importances_, index=Xtrainb.columns).sort_values(ascending=False)\n",
    "print(feat_imp)\n",
    "feat_imp.plot(kind='bar', title='Importance of Features')\n",
    "plt.ylabel('Feature Importance Score')\n"
   ]
  },
  {
   "cell_type": "code",
   "execution_count": 40,
   "metadata": {},
   "outputs": [
    {
     "name": "stdout",
     "output_type": "stream",
     "text": [
      "Fitting models.\n",
      "naive bayes... Time elapsed  0:00:00.041025\n",
      "done\n",
      "knn... Time elapsed  0:00:00.938980\n",
      "done\n",
      "logistic... Time elapsed  0:00:00.094002\n",
      "done\n",
      "mlp-nn... Time elapsed  0:00:12.590005\n",
      "done\n",
      "decision tree... Time elapsed  0:00:00.277005\n",
      "done\n",
      "random forest... Time elapsed  0:00:06.728000\n",
      "done\n",
      "gbm... Time elapsed  0:00:05.894009\n",
      "done\n",
      "Done.\n",
      "\n",
      "as_length_IP                 -2.954058\n",
      "IP_history                    2.304024\n",
      "svc_pre_all                   0.396693\n",
      "svc_pre                      -0.015104\n",
      "svc_ip_7days_pre             -3.492471\n",
      "svc_ip_30days_pre             3.799367\n",
      "as_loc_IPCAPS                -2.148970\n",
      "as_loc_IPFFS                 -2.421381\n",
      "as_close_Home/Shelter/Self   -0.491407\n",
      "Name: LR, dtype: float64\n"
     ]
    }
   ],
   "source": [
    "models = get_models()\n",
    "Pb, Sb, model_cvsb = train_predict(models, Xtrainb_scaled, ytrain, Xtestb_scaled)\n",
    "lr_importances = pd.Series(model_cvsb['logistic'].coef_[0], index=Xtrainb.columns, name = 'LR')\n",
    "lr_importances_abs = pd.Series(abs(model_cvsb['logistic'].coef_[0]), index=Xtrainb.columns, name = 'LR')\n",
    "print(lr_importances.sort_values(ascending=False))"
   ]
  },
  {
   "cell_type": "code",
   "execution_count": 41,
   "metadata": {
    "scrolled": false
   },
   "outputs": [
    {
     "name": "stdout",
     "output_type": "stream",
     "text": [
      "svc_ip_30days_pre             3.799367\n",
      "IP_history                    2.304024\n",
      "svc_pre_all                   0.396693\n",
      "svc_pre                      -0.015104\n",
      "as_close_Home/Shelter/Self   -0.491407\n",
      "as_loc_IPCAPS                -2.148970\n",
      "as_loc_IPFFS                 -2.421381\n",
      "as_length_IP                 -2.954058\n",
      "svc_ip_7days_pre             -3.492471\n",
      "Name: LR, dtype: float64\n"
     ]
    }
   ],
   "source": [
    "print(lr_importances.sort_values(ascending=False))"
   ]
  },
  {
   "cell_type": "markdown",
   "metadata": {},
   "source": [
    "max_depth = 5 : This should be between 3-10. I’ve started with 5 but you can choose a different number as well. 4-6 can be good starting points.\\\n",
    "min_child_weight = 1 : A smaller value is chosen because it is a highly imbalanced class problem and leaf nodes can have smaller size groups.\\\n",
    "gamma = 0 : A smaller value like 0.1-0.2 can also be chosen for starting. This will anyways be tuned later.\\\n",
    "subsample, colsample_bytree = 0.8 : This is a commonly used used start value. Typical values range between 0.5-0.9.\\\n",
    "scale_pos_weight = 1: Because of high class imbalance."
   ]
  },
  {
   "cell_type": "markdown",
   "metadata": {},
   "source": [
    "### Archive codes"
   ]
  },
  {
   "cell_type": "code",
   "execution_count": 31,
   "metadata": {},
   "outputs": [
    {
     "data": {
      "text/plain": [
       "'\\n# impute missing values of categorical features with the most frequent object\\nfor col in categorical_features:\\n    df[col].fillna(df[col].value_counts().index[0], inplace=True)\\n'"
      ]
     },
     "execution_count": 31,
     "metadata": {},
     "output_type": "execute_result"
    }
   ],
   "source": [
    "'''\n",
    "# impute missing values of categorical features with the most frequent object\n",
    "for col in categorical_features:\n",
    "    df[col].fillna(df[col].value_counts().index[0], inplace=True)\n",
    "'''"
   ]
  },
  {
   "cell_type": "code",
   "execution_count": 32,
   "metadata": {},
   "outputs": [
    {
     "data": {
      "text/plain": [
       "\"\\ngsearch1 = GridSearchCV(estimator = XGBClassifier( learning_rate =0.1, n_estimators=140, max_depth=5,\\n min_child_weight=1, gamma=0, subsample=0.8, colsample_bytree=0.8,\\n objective= 'binary:logistic', nthread=4, scale_pos_weight=1, seed=27), \\n param_grid = param_test1, scoring='roc_auc',n_jobs=4,iid=False, cv=5)\\n\""
      ]
     },
     "execution_count": 32,
     "metadata": {},
     "output_type": "execute_result"
    }
   ],
   "source": [
    "'''\n",
    "gsearch1 = GridSearchCV(estimator = XGBClassifier( learning_rate =0.1, n_estimators=140, max_depth=5,\n",
    " min_child_weight=1, gamma=0, subsample=0.8, colsample_bytree=0.8,\n",
    " objective= 'binary:logistic', nthread=4, scale_pos_weight=1, seed=27), \n",
    " param_grid = param_test1, scoring='roc_auc',n_jobs=4,iid=False, cv=5)\n",
    "'''"
   ]
  },
  {
   "cell_type": "code",
   "execution_count": 33,
   "metadata": {},
   "outputs": [
    {
     "data": {
      "text/plain": [
       "'\\nxgb = XGBClassifier(learning_rate=0.02, n_estimators=600, objective=\\'binary:logistic\\',silent=True, nthread=4, \\n                    scale_pos_weight=1, random_state=SEED)\\ngrid_search = GridSearchCV(xgb, param_grid = parameters, scoring=\\'roc_auc\\', n_jobs=4, iid=False, cv=5)\\ngrid_search.fit(Xtrainb_scaled, ytrain)\\n\\n# retrieve the best parameter set from grid search\\nprint(\"\\nGrid Search Best parameters set :\")\\nprint(grid_search.best_params_)\\nprint(\"\\nBest score: %0.3f\" % grid_search.best_score_)\\ntime_elapsed = (time.monotonic()-start_time)/60\\nprint(\"Calculation took %.3f minutes\" % time_elapsed)\\n\\n'"
      ]
     },
     "execution_count": 33,
     "metadata": {},
     "output_type": "execute_result"
    }
   ],
   "source": [
    "'''\n",
    "xgb = XGBClassifier(learning_rate=0.02, n_estimators=600, objective='binary:logistic',silent=True, nthread=4, \n",
    "                    scale_pos_weight=1, random_state=SEED)\n",
    "grid_search = GridSearchCV(xgb, param_grid = parameters, scoring='roc_auc', n_jobs=4, iid=False, cv=5)\n",
    "grid_search.fit(Xtrainb_scaled, ytrain)\n",
    "\n",
    "# retrieve the best parameter set from grid search\n",
    "print(\"\\nGrid Search Best parameters set :\")\n",
    "print(grid_search.best_params_)\n",
    "print(\"\\nBest score: %0.3f\" % grid_search.best_score_)\n",
    "time_elapsed = (time.monotonic()-start_time)/60\n",
    "print(\"Calculation took %.3f minutes\" % time_elapsed)\n",
    "\n",
    "'''"
   ]
  },
  {
   "cell_type": "code",
   "execution_count": 34,
   "metadata": {},
   "outputs": [
    {
     "data": {
      "text/plain": [
       "'\\ndef score_models(P, y):\\n    \"\"\"Score model in prediction DF\"\"\"\\n    print(\"Scoring models.\")\\n    for m in P.columns:\\n        score = roc_auc_score(y, P.loc[:, m])\\n        ap = average_precision_score(y, P.loc[:, m])\\n        print(\"%-26s: %.3f, %.3f\" % (m, score, ap))\\n    print(\"Done.\\n\")\\n    \\ndef report_models(S, y):\\n    \"\"\"Score model in prediction DF\"\"\"\\n    print(\"Scoring models.\")\\n    for m in P.columns:\\n        report = classification_report(y, S.loc[:, m])\\n        print(report)\\n    print(\"Done.\\n\")\\n\\n'"
      ]
     },
     "execution_count": 34,
     "metadata": {},
     "output_type": "execute_result"
    }
   ],
   "source": [
    "'''\n",
    "def score_models(P, y):\n",
    "    \"\"\"Score model in prediction DF\"\"\"\n",
    "    print(\"Scoring models.\")\n",
    "    for m in P.columns:\n",
    "        score = roc_auc_score(y, P.loc[:, m])\n",
    "        ap = average_precision_score(y, P.loc[:, m])\n",
    "        print(\"%-26s: %.3f, %.3f\" % (m, score, ap))\n",
    "    print(\"Done.\\n\")\n",
    "    \n",
    "def report_models(S, y):\n",
    "    \"\"\"Score model in prediction DF\"\"\"\n",
    "    print(\"Scoring models.\")\n",
    "    for m in P.columns:\n",
    "        report = classification_report(y, S.loc[:, m])\n",
    "        print(report)\n",
    "    print(\"Done.\\n\")\n",
    "\n",
    "'''"
   ]
  },
  {
   "cell_type": "code",
   "execution_count": 35,
   "metadata": {},
   "outputs": [
    {
     "data": {
      "text/plain": [
       "\"\\nparam3 = {\\n   'min_samples_split':[4,8,10,20,40,60,80,100], \\n    'min_samples_leaf':[1,3,5,7,9]\\n}\\n\\ntuning = GridSearchCV(estimator =GradientBoostingClassifier(learning_rate=0.01, n_estimators=1500,max_depth=4, subsample=1,max_features='sqrt', random_state=SEED), \\n            param_grid = param3, scoring='accuracy',n_jobs=-1, iid=False, cv=5)\\ntuning.fit(X_train,y_train)\\ntuning.grid_scores_, tuning.best_params_, tuning.best_score_\\n\\n\""
      ]
     },
     "execution_count": 35,
     "metadata": {},
     "output_type": "execute_result"
    }
   ],
   "source": [
    "'''\n",
    "param3 = {\n",
    "   'min_samples_split':[4,8,10,20,40,60,80,100], \n",
    "    'min_samples_leaf':[1,3,5,7,9]\n",
    "}\n",
    "\n",
    "tuning = GridSearchCV(estimator =GradientBoostingClassifier(learning_rate=0.01, n_estimators=1500,max_depth=4, subsample=1,max_features='sqrt', random_state=SEED), \n",
    "            param_grid = param3, scoring='accuracy',n_jobs=-1, iid=False, cv=5)\n",
    "tuning.fit(X_train,y_train)\n",
    "tuning.grid_scores_, tuning.best_params_, tuning.best_score_\n",
    "\n",
    "'''"
   ]
  }
 ],
 "metadata": {
  "kernelspec": {
   "display_name": "Python 3",
   "language": "python",
   "name": "python3"
  },
  "language_info": {
   "codemirror_mode": {
    "name": "ipython",
    "version": 3
   },
   "file_extension": ".py",
   "mimetype": "text/x-python",
   "name": "python",
   "nbconvert_exporter": "python",
   "pygments_lexer": "ipython3",
   "version": "3.8.3"
  }
 },
 "nbformat": 4,
 "nbformat_minor": 4
}
