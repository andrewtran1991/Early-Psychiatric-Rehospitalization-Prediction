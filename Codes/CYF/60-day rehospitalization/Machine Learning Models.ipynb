{
 "cells": [
  {
   "cell_type": "code",
   "execution_count": 13,
   "metadata": {},
   "outputs": [],
   "source": [
    "import pandas as pd\n",
    "import numpy as np\n",
    "import matplotlib.pyplot as plt\n",
    "import seaborn as sns\n",
    "import time\n",
    "from scipy.stats import chi2_contingency\n",
    "import math\n",
    "from collections import Counter\n",
    "from scipy.stats import entropy\n",
    "from sklearn.preprocessing import MinMaxScaler, StandardScaler\n",
    "from numpy import inf\n",
    "from sklearn.model_selection import GridSearchCV\n",
    "\n"
   ]
  },
  {
   "cell_type": "code",
   "execution_count": 14,
   "metadata": {},
   "outputs": [],
   "source": [
    "# Load the train and test datasets\n",
    "Xtrain_scaled = np.load('Xtrain_scaled.npy')\n",
    "Xtest_scaled = np.load('Xtest_scaled.npy')\n",
    "Xtrainb_scaled = np.load('Xtrainb_scaled.npy')\n",
    "Xtestb_scaled = np.load('Xtestb_scaled.npy')\n",
    "ytrain = np.load('ytrain.npy')\n",
    "ytest = np.load('ytest.npy')\n",
    "df_train = pd.read_csv('../paths_CYF_trainData.csv')\n",
    "df_test = pd.read_csv('../paths_CYF_testData.csv')\n"
   ]
  },
  {
   "cell_type": "code",
   "execution_count": 15,
   "metadata": {},
   "outputs": [],
   "source": [
    "# Initial variables for the model. \n",
    "# I focus exclusively on the pre services and loc plus demographics with less than 20% of missing data.\n",
    "\n",
    "id_cols = ['id', 'client_id']\n",
    "\n",
    "demo_cols = ['age', 'age_group','race','gender','dx_group','lang', 'substance','insurance','liv']\n",
    "\n",
    "ip_cols = ['as_loc', 'as_length_IP', 'IP_history', 'as_close']\n",
    "\n",
    "loc_pre_cols = ['loc1_pre', 'loc2_pre', 'loc3_pre', 'loc4_pre', 'loc5_pre']\n",
    "\n",
    "svc_total_pre_cols = ['svc_pre_all', 'svc_pre', 'svc_pre_sub']\n",
    "\n",
    "svc_CYF_timepoint_pre_cols = ['svc_op_7days_pre', 'svc_op_30days_pre', 'svc_op_60days_pre', 'svc_op_90days_pre',\n",
    "                     'svc_es_7days_pre', 'svc_es_30days_pre', 'svc_es_60days_pre', 'svc_es_90days_pre',\n",
    "                     'svc_dt_7days_pre', 'svc_dt_30days_pre', 'svc_dt_60days_pre', 'svc_dt_90days_pre',\n",
    "                     'svc_ip_7days_pre', 'svc_ip_30days_pre', 'svc_ip_60days_pre', 'svc_ip_90days_pre']\n",
    "\n",
    "output_col = ['svc_CYF_ip_60days_postdc_bi']\n",
    "\n",
    "drop_cols = ['']"
   ]
  },
  {
   "cell_type": "code",
   "execution_count": 16,
   "metadata": {},
   "outputs": [],
   "source": [
    "numerical_features = ['age', 'as_length_IP', 'IP_history', 'svc_pre_all', 'svc_pre', 'svc_pre_sub']\n",
    "numerical_features = numerical_features  + svc_CYF_timepoint_pre_cols\n",
    "dummy_vars = df_train.loc[:, 'age_group_12-15 Yrs':'loc5_pre_WRAP']\n",
    "dummy_vars = list(dummy_vars.columns)\n",
    "categorical_features = dummy_vars + ['substance', 'new','CWS', 'ADS', 'JJ']\n",
    "all_features = numerical_features + categorical_features\n",
    "\n",
    "boruta_features = ['as_length_IP', 'IP_history', 'svc_pre_all', 'svc_pre', 'svc_op_30days_pre', 'svc_es_30days_pre', 'svc_ip_7days_pre', 'svc_ip_30days_pre', 'liv_House or Apartment', 'as_loc_IPCAPS', 'as_loc_IPFFS', 'as_close_Home/Shelter/Self']"
   ]
  },
  {
   "cell_type": "code",
   "execution_count": 17,
   "metadata": {},
   "outputs": [],
   "source": [
    "Xtrain = df_train[all_features]\n",
    "Xtrainb = df_train[boruta_features]"
   ]
  },
  {
   "cell_type": "code",
   "execution_count": 18,
   "metadata": {},
   "outputs": [],
   "source": [
    "# Set a seed for reproducibility\n",
    "SEED = 300\n",
    "np.random.seed(SEED)"
   ]
  },
  {
   "cell_type": "code",
   "execution_count": 19,
   "metadata": {},
   "outputs": [
    {
     "name": "stdout",
     "output_type": "stream",
     "text": [
      "False\n",
      "False\n"
     ]
    }
   ],
   "source": [
    "print(np.any(np.isnan(Xtrain_scaled)))\n",
    "print(np.any(np.isnan(ytrain)))\n",
    "#np.all(np.isfinite(Xtrain_scaled))"
   ]
  },
  {
   "cell_type": "code",
   "execution_count": 20,
   "metadata": {},
   "outputs": [
    {
     "name": "stdout",
     "output_type": "stream",
     "text": [
      "False\n",
      "False\n"
     ]
    }
   ],
   "source": [
    "print(np.any(np.isnan(Xtest_scaled)))\n",
    "print(np.any(np.isnan(ytest)))"
   ]
  },
  {
   "cell_type": "markdown",
   "metadata": {},
   "source": [
    "### Fit all variables into the models"
   ]
  },
  {
   "cell_type": "code",
   "execution_count": 21,
   "metadata": {},
   "outputs": [],
   "source": [
    "# import datetime\n",
    "from datetime import datetime\n",
    "\n",
    "# import a host of Scikit-learn models\n",
    "from sklearn.svm import SVC, LinearSVC\n",
    "from sklearn.naive_bayes import GaussianNB\n",
    "from sklearn.ensemble import RandomForestClassifier, GradientBoostingClassifier\n",
    "from sklearn.linear_model import LogisticRegression\n",
    "from sklearn.neighbors import KNeighborsClassifier\n",
    "from sklearn.neural_network import MLPClassifier\n",
    "from xgboost import XGBClassifier\n",
    "from sklearn.tree import DecisionTreeClassifier\n",
    "\n",
    "# import model metrics\n",
    "from sklearn.metrics import *\n",
    "\n",
    "\n",
    "def get_models():\n",
    "    \"\"\"Generate a library of base learners.\"\"\"\n",
    "    nb = GaussianNB()\n",
    "    knn = KNeighborsClassifier(n_neighbors=3)\n",
    "    lr = LogisticRegression(C=1, random_state=SEED, solver='liblinear', class_weight='balanced')\n",
    "    nn = MLPClassifier((100, 50), early_stopping=True, random_state=SEED, max_iter=400, activation='tanh')\n",
    "    dt = DecisionTreeClassifier(random_state=SEED, class_weight='balanced')\n",
    "    rf = RandomForestClassifier(n_estimators=100, random_state=SEED, class_weight='balanced')\n",
    "    gb = GradientBoostingClassifier(n_estimators=100, random_state=SEED)\n",
    "    \n",
    "    models = {'naive bayes': nb,\n",
    "              'knn': knn,\n",
    "              'logistic': lr,\n",
    "              'mlp-nn': nn,\n",
    "              'decision tree': dt,\n",
    "              'random forest': rf,\n",
    "              'gbm': gb\n",
    "             }\n",
    "\n",
    "    return models\n",
    "\n",
    "\n",
    "def train_predict(model_list, xtrain, ytrain, xtest):\n",
    "    \"\"\"Fit models in list on training set and return preds\"\"\"\n",
    "    P = np.zeros((ytest.shape[0], len(model_list)))\n",
    "    P = pd.DataFrame(P)\n",
    "    \n",
    "    S = np.zeros((ytest.shape[0], len(model_list)))\n",
    "    S = pd.DataFrame(S)\n",
    "    \n",
    "    print(\"Fitting models.\")\n",
    "    cols = list()\n",
    "    model_cvs = {}\n",
    "\n",
    "    for i, (name, m) in enumerate(models.items()):\n",
    "        current_time = datetime.now() \n",
    "        print(\"%s...\" % name, end=\" \", flush=False)\n",
    "        model_cvs[name] = m.fit(xtrain, ytrain)\n",
    "        m.fit(xtrain, ytrain)\n",
    "        P.iloc[:, i] = m.predict_proba(xtest)[:, 1]\n",
    "        S.iloc[:, i] = m.predict(xtest)\n",
    "        cols.append(name)\n",
    "        time_elapsed = datetime.now() - current_time\n",
    "        print(\"Time elapsed \", time_elapsed)\n",
    "        print(\"done\")\n",
    "\n",
    "    P.columns = cols\n",
    "    S.columns = cols\n",
    "    \n",
    "    print(\"Done.\\n\")\n",
    "    return P, S, model_cvs\n",
    "\n",
    "    \n",
    "def evaluate(y_true, S, P):\n",
    "    for m in P.columns:\n",
    "        y_pred = S.loc[:, m]\n",
    "        y_pred_proba = P.loc[:, m]\n",
    "        acc = accuracy_score(y_true, y_pred)\n",
    "        precision = precision_score(y_true, y_pred)\n",
    "        recall = recall_score(y_true, y_pred)\n",
    "        f1score = f1_score(y_true, y_pred)\n",
    "        auc = roc_auc_score(y_true, y_pred_proba)\n",
    "        ap = average_precision_score(y_true, y_pred_proba)\n",
    "        print (\"Accuracy : {:.4f}\".format(acc))\n",
    "        print(\"Precision : {:.4f}\".format(precision))\n",
    "        print(\"Recall : {:.4f}\".format(recall))\n",
    "        print(\"F1 score : {:.4f}\".format(f1score))\n",
    "        print(\"AUC score : {:.4f}\".format(auc))\n",
    "        print(\"AP score : {:.4f}\".format(ap))\n",
    "        print(\"\\nClassification report : \\n\", classification_report(y_true, y_pred))\n",
    "        print(\"\\nConfusion matrix : \\n\", confusion_matrix(y_true, y_pred))\n",
    "        print(\"done.\\n\")  \n",
    "    return acc, precision, recall, f1score, auc, ap"
   ]
  },
  {
   "cell_type": "code",
   "execution_count": 22,
   "metadata": {},
   "outputs": [
    {
     "name": "stdout",
     "output_type": "stream",
     "text": [
      "Fitting models.\n",
      "naive bayes... Time elapsed  0:00:00.233991\n",
      "done\n",
      "knn... Time elapsed  0:00:37.116999\n",
      "done\n",
      "logistic... Time elapsed  0:00:01.065004\n",
      "done\n",
      "mlp-nn... Time elapsed  0:00:25.005006\n",
      "done\n",
      "decision tree... Time elapsed  0:00:01.785000\n",
      "done\n",
      "random forest... Time elapsed  0:00:12.419999\n",
      "done\n",
      "gbm... Time elapsed  0:00:53.400994\n",
      "done\n",
      "Done.\n",
      "\n",
      "Accuracy : 0.6866\n",
      "Precision : 0.6236\n",
      "Recall : 0.2882\n",
      "F1 score : 0.3942\n",
      "AUC score : 0.6873\n",
      "AP score : 0.5356\n",
      "\n",
      "Classification report : \n",
      "               precision    recall  f1-score   support\n",
      "\n",
      "           0       0.70      0.90      0.79      1806\n",
      "           1       0.62      0.29      0.39       989\n",
      "\n",
      "    accuracy                           0.69      2795\n",
      "   macro avg       0.66      0.60      0.59      2795\n",
      "weighted avg       0.67      0.69      0.65      2795\n",
      "\n",
      "\n",
      "Confusion matrix : \n",
      " [[1634  172]\n",
      " [ 704  285]]\n",
      "done.\n",
      "\n",
      "Accuracy : 0.6436\n",
      "Precision : 0.4974\n",
      "Recall : 0.6684\n",
      "F1 score : 0.5703\n",
      "AUC score : 0.6859\n",
      "AP score : 0.4956\n",
      "\n",
      "Classification report : \n",
      "               precision    recall  f1-score   support\n",
      "\n",
      "           0       0.78      0.63      0.70      1806\n",
      "           1       0.50      0.67      0.57       989\n",
      "\n",
      "    accuracy                           0.64      2795\n",
      "   macro avg       0.64      0.65      0.63      2795\n",
      "weighted avg       0.68      0.64      0.65      2795\n",
      "\n",
      "\n",
      "Confusion matrix : \n",
      " [[1138  668]\n",
      " [ 328  661]]\n",
      "done.\n",
      "\n",
      "Accuracy : 0.7281\n",
      "Precision : 0.6046\n",
      "Recall : 0.6694\n",
      "F1 score : 0.6353\n",
      "AUC score : 0.7844\n",
      "AP score : 0.6843\n",
      "\n",
      "Classification report : \n",
      "               precision    recall  f1-score   support\n",
      "\n",
      "           0       0.81      0.76      0.78      1806\n",
      "           1       0.60      0.67      0.64       989\n",
      "\n",
      "    accuracy                           0.73      2795\n",
      "   macro avg       0.71      0.71      0.71      2795\n",
      "weighted avg       0.74      0.73      0.73      2795\n",
      "\n",
      "\n",
      "Confusion matrix : \n",
      " [[1373  433]\n",
      " [ 327  662]]\n",
      "done.\n",
      "\n",
      "Accuracy : 0.7299\n",
      "Precision : 0.6083\n",
      "Recall : 0.6643\n",
      "F1 score : 0.6351\n",
      "AUC score : 0.7867\n",
      "AP score : 0.6850\n",
      "\n",
      "Classification report : \n",
      "               precision    recall  f1-score   support\n",
      "\n",
      "           0       0.81      0.77      0.79      1806\n",
      "           1       0.61      0.66      0.64       989\n",
      "\n",
      "    accuracy                           0.73      2795\n",
      "   macro avg       0.71      0.72      0.71      2795\n",
      "weighted avg       0.74      0.73      0.73      2795\n",
      "\n",
      "\n",
      "Confusion matrix : \n",
      " [[1383  423]\n",
      " [ 332  657]]\n",
      "done.\n",
      "\n",
      "Accuracy : 0.6784\n",
      "Precision : 0.5425\n",
      "Recall : 0.5814\n",
      "F1 score : 0.5612\n",
      "AUC score : 0.6551\n",
      "AP score : 0.4637\n",
      "\n",
      "Classification report : \n",
      "               precision    recall  f1-score   support\n",
      "\n",
      "           0       0.76      0.73      0.75      1806\n",
      "           1       0.54      0.58      0.56       989\n",
      "\n",
      "    accuracy                           0.68      2795\n",
      "   macro avg       0.65      0.66      0.65      2795\n",
      "weighted avg       0.68      0.68      0.68      2795\n",
      "\n",
      "\n",
      "Confusion matrix : \n",
      " [[1321  485]\n",
      " [ 414  575]]\n",
      "done.\n",
      "\n",
      "Accuracy : 0.7560\n",
      "Precision : 0.6758\n",
      "Recall : 0.5966\n",
      "F1 score : 0.6337\n",
      "AUC score : 0.8073\n",
      "AP score : 0.7128\n",
      "\n",
      "Classification report : \n",
      "               precision    recall  f1-score   support\n",
      "\n",
      "           0       0.79      0.84      0.82      1806\n",
      "           1       0.68      0.60      0.63       989\n",
      "\n",
      "    accuracy                           0.76      2795\n",
      "   macro avg       0.73      0.72      0.73      2795\n",
      "weighted avg       0.75      0.76      0.75      2795\n",
      "\n",
      "\n",
      "Confusion matrix : \n",
      " [[1523  283]\n",
      " [ 399  590]]\n",
      "done.\n",
      "\n",
      "Accuracy : 0.7667\n",
      "Precision : 0.6895\n",
      "Recall : 0.6198\n",
      "F1 score : 0.6528\n",
      "AUC score : 0.8171\n",
      "AP score : 0.7417\n",
      "\n",
      "Classification report : \n",
      "               precision    recall  f1-score   support\n",
      "\n",
      "           0       0.80      0.85      0.82      1806\n",
      "           1       0.69      0.62      0.65       989\n",
      "\n",
      "    accuracy                           0.77      2795\n",
      "   macro avg       0.75      0.73      0.74      2795\n",
      "weighted avg       0.76      0.77      0.76      2795\n",
      "\n",
      "\n",
      "Confusion matrix : \n",
      " [[1530  276]\n",
      " [ 376  613]]\n",
      "done.\n",
      "\n"
     ]
    },
    {
     "data": {
      "text/plain": [
       "(0.7667262969588551,\n",
       " 0.6895388076490439,\n",
       " 0.6198179979777553,\n",
       " 0.6528221512247071,\n",
       " 0.8171313014589051,\n",
       " 0.7416519353292818)"
      ]
     },
     "execution_count": 22,
     "metadata": {},
     "output_type": "execute_result"
    }
   ],
   "source": [
    "models = get_models()\n",
    "P, S, model_cvs = train_predict(models, Xtrain_scaled, ytrain, Xtest_scaled)\n",
    "evaluate(ytest, S, P)"
   ]
  },
  {
   "cell_type": "code",
   "execution_count": 23,
   "metadata": {},
   "outputs": [
    {
     "data": {
      "image/png": "[encoded data removed]",
      "text/plain": [
       "<Figure size 864x288 with 2 Axes>"
      ]
     },
     "metadata": {
      "needs_background": "light"
     },
     "output_type": "display_data"
    }
   ],
   "source": [
    "fig, ax = plt.subplots(1, 2, figsize=(12,4))    \n",
    "for column in P.columns:\n",
    "    roc_auc = roc_auc_score(ytest, P[column])\n",
    "    fpr, tpr, _ = roc_curve(ytest, P[column])\n",
    "    ax[0].plot(fpr, tpr, label='%s: %0.3f' % (column, roc_auc))\n",
    "\n",
    "    precision, recall, _ = precision_recall_curve(ytest, P[column])\n",
    "    ave_prec_rec = average_precision_score(ytest, P[column])\n",
    "    ax[1].plot(recall, precision, label='%s: %0.3f' % (column, ave_prec_rec))  \n",
    "\n",
    "    ax[0].set_xlim([0.0, 1.0])\n",
    "    ax[0].set_ylim([0.0, 1.05])\n",
    "    ax[0].set_xlabel('False Positive Rate')\n",
    "    ax[0].set_ylabel('True Positive Rate')\n",
    "    ax[0].set_title('Receiver operating characteristic')\n",
    "    ax[0].legend(loc=\"lower right\", title=\"Model: AUROC\")\n",
    "\n",
    "    ax[1].set_xlim([0.0, 1.0])\n",
    "    ax[1].set_ylim([0.0, 1.05])\n",
    "    ax[1].set_xlabel('Recall')\n",
    "    ax[1].set_ylabel('Precision')\n",
    "    ax[1].set_title('Precision-Recall curve')\n",
    "    ax[1].legend(loc=\"upper right\", title=\"Model: AP\")\n",
    "   \n",
    "#plt.savefig('mult_models_after_feat_select.png', format='png')"
   ]
  },
  {
   "cell_type": "code",
   "execution_count": 24,
   "metadata": {},
   "outputs": [
    {
     "name": "stdout",
     "output_type": "stream",
     "text": [
      "Top 15 features\n",
      "svc_ip_90days_pre                           2.573655\n",
      "svc_ip_60days_pre                           2.440285\n",
      "loc5_pre_CR                                 1.753611\n",
      "svc_ip_30days_pre                           1.647717\n",
      "IP_history                                  1.642547\n",
      "loc2_pre_DTCTF                              1.476262\n",
      "as_close_Psychiatric Hospital               1.370454\n",
      "svc_es_90days_pre                           1.248902\n",
      "dx_group_Other/ Excluded                    0.880487\n",
      "as_close_Homeless                           0.860188\n",
      "loc1_pre_CM                                 0.845455\n",
      "as_close_Required Lower Level\\r\\nof Care    0.797077\n",
      "loc4_pre_CS                                 0.767572\n",
      "as_close_Unknown                            0.728524\n",
      "svc_es_60days_pre                           0.674692\n",
      "Name: LR, dtype: float64\n"
     ]
    }
   ],
   "source": [
    "lr_importances = pd.Series(model_cvs['logistic'].coef_[0], index=Xtrain.columns, name = 'LR')\n",
    "lr_importances_abs = pd.Series(abs(model_cvs['logistic'].coef_[0]), index=Xtrain.columns, name = 'LR')\n",
    "print(\"Top 15 features\")\n",
    "print(lr_importances.nlargest(15))"
   ]
  },
  {
   "cell_type": "code",
   "execution_count": 25,
   "metadata": {},
   "outputs": [
    {
     "name": "stdout",
     "output_type": "stream",
     "text": [
      "Top 15 features\n",
      "IP_history           0.151874\n",
      "as_length_IP         0.139518\n",
      "svc_pre_all          0.050365\n",
      "svc_ip_60days_pre    0.041814\n",
      "svc_es_90days_pre    0.038716\n",
      "as_loc_IPFFS         0.033458\n",
      "age                  0.032634\n",
      "as_loc_IPCAPS        0.030017\n",
      "svc_pre              0.028867\n",
      "svc_op_90days_pre    0.022133\n",
      "svc_pre_sub          0.021207\n",
      "svc_op_30days_pre    0.020647\n",
      "svc_op_60days_pre    0.018747\n",
      "svc_op_7days_pre     0.017202\n",
      "svc_ip_7days_pre     0.014950\n",
      "Name: DT, dtype: float64\n"
     ]
    }
   ],
   "source": [
    "dt_importances = pd.Series(model_cvs['decision tree'].feature_importances_, index=Xtrain.columns, name = 'DT')\n",
    "print(\"Top 15 features\")\n",
    "print(dt_importances.nlargest(15))"
   ]
  },
  {
   "cell_type": "code",
   "execution_count": 26,
   "metadata": {},
   "outputs": [
    {
     "name": "stdout",
     "output_type": "stream",
     "text": [
      "Top 15 features\n",
      "as_length_IP         0.080980\n",
      "IP_history           0.053304\n",
      "svc_pre_all          0.040129\n",
      "svc_ip_90days_pre    0.038030\n",
      "age                  0.036089\n",
      "svc_pre              0.034402\n",
      "svc_op_90days_pre    0.030922\n",
      "as_loc_IPFFS         0.030873\n",
      "svc_ip_60days_pre    0.030017\n",
      "svc_op_60days_pre    0.029492\n",
      "svc_es_60days_pre    0.027682\n",
      "svc_op_30days_pre    0.027122\n",
      "svc_es_90days_pre    0.026562\n",
      "svc_es_30days_pre    0.025129\n",
      "svc_ip_30days_pre    0.022819\n",
      "Name: RF, dtype: float64\n"
     ]
    }
   ],
   "source": [
    "rf_importances = pd.Series(model_cvs['random forest'].feature_importances_, index=Xtrain.columns, name = 'RF')\n",
    "print(\"Top 15 features\")\n",
    "print(rf_importances.nlargest(15))"
   ]
  },
  {
   "cell_type": "code",
   "execution_count": 27,
   "metadata": {},
   "outputs": [
    {
     "name": "stdout",
     "output_type": "stream",
     "text": [
      "Top 15 features\n",
      "IP_history                    0.205693\n",
      "as_length_IP                  0.185614\n",
      "svc_ip_90days_pre             0.162465\n",
      "as_loc_IPFFS                  0.087928\n",
      "as_loc_IPCAPS                 0.078794\n",
      "age                           0.034917\n",
      "svc_ip_60days_pre             0.026601\n",
      "as_close_Home/Shelter/Self    0.023943\n",
      "svc_ip_7days_pre              0.022940\n",
      "svc_pre_sub                   0.020178\n",
      "svc_ip_30days_pre             0.017464\n",
      "svc_es_60days_pre             0.015970\n",
      "svc_op_7days_pre              0.015397\n",
      "insurance_Other Insurance     0.015183\n",
      "svc_op_90days_pre             0.008822\n",
      "Name: GBM, dtype: float64\n"
     ]
    }
   ],
   "source": [
    "gbm_importances = pd.Series(model_cvs['gbm'].feature_importances_, index=Xtrain.columns, name = 'GBM')\n",
    "print(\"Top 15 features\")\n",
    "print(gbm_importances.nlargest(15))"
   ]
  },
  {
   "cell_type": "code",
   "execution_count": 28,
   "metadata": {},
   "outputs": [
    {
     "data": {
      "text/html": [
       "<div>\n",
       "<style scoped>\n",
       "    .dataframe tbody tr th:only-of-type {\n",
       "        vertical-align: middle;\n",
       "    }\n",
       "\n",
       "    .dataframe tbody tr th {\n",
       "        vertical-align: top;\n",
       "    }\n",
       "\n",
       "    .dataframe thead th {\n",
       "        text-align: right;\n",
       "    }\n",
       "</style>\n",
       "<table border=\"1\" class=\"dataframe\">\n",
       "  <thead>\n",
       "    <tr style=\"text-align: right;\">\n",
       "      <th></th>\n",
       "      <th>Variable</th>\n",
       "      <th>LR</th>\n",
       "      <th>DT</th>\n",
       "      <th>RF</th>\n",
       "      <th>GBM</th>\n",
       "      <th>avg</th>\n",
       "    </tr>\n",
       "  </thead>\n",
       "  <tbody>\n",
       "    <tr>\n",
       "      <th>0</th>\n",
       "      <td>IP_history</td>\n",
       "      <td>1.642547</td>\n",
       "      <td>0.151874</td>\n",
       "      <td>0.053304</td>\n",
       "      <td>0.205693</td>\n",
       "      <td>0.136957</td>\n",
       "    </tr>\n",
       "    <tr>\n",
       "      <th>1</th>\n",
       "      <td>as_length_IP</td>\n",
       "      <td>-0.847320</td>\n",
       "      <td>0.139518</td>\n",
       "      <td>0.080980</td>\n",
       "      <td>0.185614</td>\n",
       "      <td>0.135371</td>\n",
       "    </tr>\n",
       "    <tr>\n",
       "      <th>2</th>\n",
       "      <td>svc_ip_90days_pre</td>\n",
       "      <td>2.573655</td>\n",
       "      <td>0.013321</td>\n",
       "      <td>0.038030</td>\n",
       "      <td>0.162465</td>\n",
       "      <td>0.071272</td>\n",
       "    </tr>\n",
       "    <tr>\n",
       "      <th>3</th>\n",
       "      <td>as_loc_IPFFS</td>\n",
       "      <td>-2.456569</td>\n",
       "      <td>0.033458</td>\n",
       "      <td>0.030873</td>\n",
       "      <td>0.087928</td>\n",
       "      <td>0.050753</td>\n",
       "    </tr>\n",
       "    <tr>\n",
       "      <th>4</th>\n",
       "      <td>as_loc_IPCAPS</td>\n",
       "      <td>-2.289948</td>\n",
       "      <td>0.030017</td>\n",
       "      <td>0.019802</td>\n",
       "      <td>0.078794</td>\n",
       "      <td>0.042871</td>\n",
       "    </tr>\n",
       "    <tr>\n",
       "      <th>5</th>\n",
       "      <td>age</td>\n",
       "      <td>-0.318951</td>\n",
       "      <td>0.032634</td>\n",
       "      <td>0.036089</td>\n",
       "      <td>0.034917</td>\n",
       "      <td>0.034547</td>\n",
       "    </tr>\n",
       "    <tr>\n",
       "      <th>6</th>\n",
       "      <td>svc_ip_60days_pre</td>\n",
       "      <td>2.440285</td>\n",
       "      <td>0.041814</td>\n",
       "      <td>0.030017</td>\n",
       "      <td>0.026601</td>\n",
       "      <td>0.032810</td>\n",
       "    </tr>\n",
       "    <tr>\n",
       "      <th>7</th>\n",
       "      <td>svc_pre_all</td>\n",
       "      <td>0.397761</td>\n",
       "      <td>0.050365</td>\n",
       "      <td>0.040129</td>\n",
       "      <td>0.001522</td>\n",
       "      <td>0.030672</td>\n",
       "    </tr>\n",
       "    <tr>\n",
       "      <th>8</th>\n",
       "      <td>svc_es_90days_pre</td>\n",
       "      <td>1.248902</td>\n",
       "      <td>0.038716</td>\n",
       "      <td>0.026562</td>\n",
       "      <td>0.006312</td>\n",
       "      <td>0.023863</td>\n",
       "    </tr>\n",
       "    <tr>\n",
       "      <th>9</th>\n",
       "      <td>svc_pre</td>\n",
       "      <td>-1.261721</td>\n",
       "      <td>0.028867</td>\n",
       "      <td>0.034402</td>\n",
       "      <td>0.001548</td>\n",
       "      <td>0.021606</td>\n",
       "    </tr>\n",
       "    <tr>\n",
       "      <th>10</th>\n",
       "      <td>svc_op_90days_pre</td>\n",
       "      <td>0.483645</td>\n",
       "      <td>0.022133</td>\n",
       "      <td>0.030922</td>\n",
       "      <td>0.008822</td>\n",
       "      <td>0.020626</td>\n",
       "    </tr>\n",
       "    <tr>\n",
       "      <th>11</th>\n",
       "      <td>svc_op_30days_pre</td>\n",
       "      <td>0.171609</td>\n",
       "      <td>0.020647</td>\n",
       "      <td>0.027122</td>\n",
       "      <td>0.007316</td>\n",
       "      <td>0.018362</td>\n",
       "    </tr>\n",
       "    <tr>\n",
       "      <th>12</th>\n",
       "      <td>svc_es_60days_pre</td>\n",
       "      <td>0.674692</td>\n",
       "      <td>0.011118</td>\n",
       "      <td>0.027682</td>\n",
       "      <td>0.015970</td>\n",
       "      <td>0.018257</td>\n",
       "    </tr>\n",
       "    <tr>\n",
       "      <th>13</th>\n",
       "      <td>svc_op_7days_pre</td>\n",
       "      <td>0.316166</td>\n",
       "      <td>0.017202</td>\n",
       "      <td>0.022141</td>\n",
       "      <td>0.015397</td>\n",
       "      <td>0.018247</td>\n",
       "    </tr>\n",
       "    <tr>\n",
       "      <th>14</th>\n",
       "      <td>as_close_Home/Shelter/Self</td>\n",
       "      <td>0.224644</td>\n",
       "      <td>0.013314</td>\n",
       "      <td>0.016424</td>\n",
       "      <td>0.023943</td>\n",
       "      <td>0.017894</td>\n",
       "    </tr>\n",
       "  </tbody>\n",
       "</table>\n",
       "</div>"
      ],
      "text/plain": [
       "                      Variable        LR        DT        RF       GBM  \\\n",
       "0                   IP_history  1.642547  0.151874  0.053304  0.205693   \n",
       "1                 as_length_IP -0.847320  0.139518  0.080980  0.185614   \n",
       "2            svc_ip_90days_pre  2.573655  0.013321  0.038030  0.162465   \n",
       "3                 as_loc_IPFFS -2.456569  0.033458  0.030873  0.087928   \n",
       "4                as_loc_IPCAPS -2.289948  0.030017  0.019802  0.078794   \n",
       "5                          age -0.318951  0.032634  0.036089  0.034917   \n",
       "6            svc_ip_60days_pre  2.440285  0.041814  0.030017  0.026601   \n",
       "7                  svc_pre_all  0.397761  0.050365  0.040129  0.001522   \n",
       "8            svc_es_90days_pre  1.248902  0.038716  0.026562  0.006312   \n",
       "9                      svc_pre -1.261721  0.028867  0.034402  0.001548   \n",
       "10           svc_op_90days_pre  0.483645  0.022133  0.030922  0.008822   \n",
       "11           svc_op_30days_pre  0.171609  0.020647  0.027122  0.007316   \n",
       "12           svc_es_60days_pre  0.674692  0.011118  0.027682  0.015970   \n",
       "13            svc_op_7days_pre  0.316166  0.017202  0.022141  0.015397   \n",
       "14  as_close_Home/Shelter/Self  0.224644  0.013314  0.016424  0.023943   \n",
       "\n",
       "         avg  \n",
       "0   0.136957  \n",
       "1   0.135371  \n",
       "2   0.071272  \n",
       "3   0.050753  \n",
       "4   0.042871  \n",
       "5   0.034547  \n",
       "6   0.032810  \n",
       "7   0.030672  \n",
       "8   0.023863  \n",
       "9   0.021606  \n",
       "10  0.020626  \n",
       "11  0.018362  \n",
       "12  0.018257  \n",
       "13  0.018247  \n",
       "14  0.017894  "
      ]
     },
     "execution_count": 28,
     "metadata": {},
     "output_type": "execute_result"
    }
   ],
   "source": [
    "importances_df = pd.concat([lr_importances, dt_importances, rf_importances, gbm_importances], axis=1)\n",
    "importances_df['avg'] = importances_df[['DT', 'RF', 'GBM']].mean(axis=1)\n",
    "importances_df = importances_df.sort_values(by='avg', ascending=False)\n",
    "importances_df.reset_index(inplace=True)\n",
    "importances_df = importances_df.rename(columns = {'index':'Variable'})\n",
    "importances_df.head(15)"
   ]
  },
  {
   "cell_type": "code",
   "execution_count": 29,
   "metadata": {},
   "outputs": [
    {
     "data": {
      "text/plain": [
       "['IP_history',\n",
       " 'as_length_IP',\n",
       " 'svc_ip_90days_pre',\n",
       " 'as_loc_IPFFS',\n",
       " 'as_loc_IPCAPS',\n",
       " 'age',\n",
       " 'svc_ip_60days_pre',\n",
       " 'svc_pre_all',\n",
       " 'svc_es_90days_pre',\n",
       " 'svc_pre',\n",
       " 'svc_op_90days_pre',\n",
       " 'svc_op_30days_pre',\n",
       " 'svc_es_60days_pre',\n",
       " 'svc_op_7days_pre',\n",
       " 'as_close_Home/Shelter/Self']"
      ]
     },
     "execution_count": 29,
     "metadata": {},
     "output_type": "execute_result"
    }
   ],
   "source": [
    "# Select the top 15 variables\n",
    "important_vars = list(importances_df.iloc[0:15,0])\n",
    "important_vars"
   ]
  },
  {
   "cell_type": "markdown",
   "metadata": {},
   "source": [
    "### Fit Boruta-select variables into the models"
   ]
  },
  {
   "cell_type": "code",
   "execution_count": 30,
   "metadata": {},
   "outputs": [
    {
     "name": "stdout",
     "output_type": "stream",
     "text": [
      "Fitting models.\n",
      "naive bayes... Time elapsed  0:00:00.026993\n",
      "done\n",
      "knn... Time elapsed  0:00:01.132005\n",
      "done\n",
      "logistic... Time elapsed  0:00:00.128998\n",
      "done\n",
      "mlp-nn... Time elapsed  0:00:15.026014\n",
      "done\n",
      "decision tree... Time elapsed  0:00:00.405000\n",
      "done\n",
      "random forest... Time elapsed  0:00:09.029000\n",
      "done\n",
      "gbm... Time elapsed  0:00:08.937998\n",
      "done\n",
      "Done.\n",
      "\n",
      "Accuracy : 0.6930\n",
      "Precision : 0.5755\n",
      "Recall : 0.5046\n",
      "F1 score : 0.5377\n",
      "AUC score : 0.7140\n",
      "AP score : 0.5861\n",
      "\n",
      "Classification report : \n",
      "               precision    recall  f1-score   support\n",
      "\n",
      "           0       0.75      0.80      0.77      1806\n",
      "           1       0.58      0.50      0.54       989\n",
      "\n",
      "    accuracy                           0.69      2795\n",
      "   macro avg       0.66      0.65      0.65      2795\n",
      "weighted avg       0.69      0.69      0.69      2795\n",
      "\n",
      "\n",
      "Confusion matrix : \n",
      " [[1438  368]\n",
      " [ 490  499]]\n",
      "done.\n",
      "\n",
      "Accuracy : 0.6887\n",
      "Precision : 0.5522\n",
      "Recall : 0.6360\n",
      "F1 score : 0.5912\n",
      "AUC score : 0.7144\n",
      "AP score : 0.5285\n",
      "\n",
      "Classification report : \n",
      "               precision    recall  f1-score   support\n",
      "\n",
      "           0       0.78      0.72      0.75      1806\n",
      "           1       0.55      0.64      0.59       989\n",
      "\n",
      "    accuracy                           0.69      2795\n",
      "   macro avg       0.67      0.68      0.67      2795\n",
      "weighted avg       0.70      0.69      0.69      2795\n",
      "\n",
      "\n",
      "Confusion matrix : \n",
      " [[1296  510]\n",
      " [ 360  629]]\n",
      "done.\n",
      "\n",
      "Accuracy : 0.7195\n",
      "Precision : 0.6026\n",
      "Recall : 0.6087\n",
      "F1 score : 0.6056\n",
      "AUC score : 0.7654\n",
      "AP score : 0.6518\n",
      "\n",
      "Classification report : \n",
      "               precision    recall  f1-score   support\n",
      "\n",
      "           0       0.78      0.78      0.78      1806\n",
      "           1       0.60      0.61      0.61       989\n",
      "\n",
      "    accuracy                           0.72      2795\n",
      "   macro avg       0.69      0.69      0.69      2795\n",
      "weighted avg       0.72      0.72      0.72      2795\n",
      "\n",
      "\n",
      "Confusion matrix : \n",
      " [[1409  397]\n",
      " [ 387  602]]\n",
      "done.\n",
      "\n",
      "Accuracy : 0.7166\n",
      "Precision : 0.5906\n",
      "Recall : 0.6491\n",
      "F1 score : 0.6185\n",
      "AUC score : 0.7700\n",
      "AP score : 0.6574\n",
      "\n",
      "Classification report : \n",
      "               precision    recall  f1-score   support\n",
      "\n",
      "           0       0.80      0.75      0.77      1806\n",
      "           1       0.59      0.65      0.62       989\n",
      "\n",
      "    accuracy                           0.72      2795\n",
      "   macro avg       0.69      0.70      0.70      2795\n",
      "weighted avg       0.72      0.72      0.72      2795\n",
      "\n",
      "\n",
      "Confusion matrix : \n",
      " [[1361  445]\n",
      " [ 347  642]]\n",
      "done.\n",
      "\n",
      "Accuracy : 0.6844\n",
      "Precision : 0.5527\n",
      "Recall : 0.5672\n",
      "F1 score : 0.5599\n",
      "AUC score : 0.6363\n",
      "AP score : 0.4733\n",
      "\n",
      "Classification report : \n",
      "               precision    recall  f1-score   support\n",
      "\n",
      "           0       0.76      0.75      0.75      1806\n",
      "           1       0.55      0.57      0.56       989\n",
      "\n",
      "    accuracy                           0.68      2795\n",
      "   macro avg       0.66      0.66      0.66      2795\n",
      "weighted avg       0.69      0.68      0.69      2795\n",
      "\n",
      "\n",
      "Confusion matrix : \n",
      " [[1352  454]\n",
      " [ 428  561]]\n",
      "done.\n",
      "\n",
      "Accuracy : 0.7403\n",
      "Precision : 0.6419\n",
      "Recall : 0.6016\n",
      "F1 score : 0.6211\n",
      "AUC score : 0.7917\n",
      "AP score : 0.7124\n",
      "\n",
      "Classification report : \n",
      "               precision    recall  f1-score   support\n",
      "\n",
      "           0       0.79      0.82      0.80      1806\n",
      "           1       0.64      0.60      0.62       989\n",
      "\n",
      "    accuracy                           0.74      2795\n",
      "   macro avg       0.72      0.71      0.71      2795\n",
      "weighted avg       0.74      0.74      0.74      2795\n",
      "\n",
      "\n",
      "Confusion matrix : \n",
      " [[1474  332]\n",
      " [ 394  595]]\n",
      "done.\n",
      "\n",
      "Accuracy : 0.7499\n",
      "Precision : 0.6495\n",
      "Recall : 0.6370\n",
      "F1 score : 0.6432\n",
      "AUC score : 0.8109\n",
      "AP score : 0.7436\n",
      "\n",
      "Classification report : \n",
      "               precision    recall  f1-score   support\n",
      "\n",
      "           0       0.80      0.81      0.81      1806\n",
      "           1       0.65      0.64      0.64       989\n",
      "\n",
      "    accuracy                           0.75      2795\n",
      "   macro avg       0.73      0.72      0.73      2795\n",
      "weighted avg       0.75      0.75      0.75      2795\n",
      "\n",
      "\n",
      "Confusion matrix : \n",
      " [[1466  340]\n",
      " [ 359  630]]\n",
      "done.\n",
      "\n"
     ]
    },
    {
     "data": {
      "text/plain": [
       "(0.7499105545617174,\n",
       " 0.6494845360824743,\n",
       " 0.6370070778564206,\n",
       " 0.6431852986217458,\n",
       " 0.8109478348209037,\n",
       " 0.7435704024276557)"
      ]
     },
     "execution_count": 30,
     "metadata": {},
     "output_type": "execute_result"
    }
   ],
   "source": [
    "models = get_models()\n",
    "Pb, Sb, model_cvsb = train_predict(models, Xtrainb_scaled, ytrain, Xtestb_scaled)\n",
    "evaluate(ytest, Sb, Pb)"
   ]
  },
  {
   "cell_type": "code",
   "execution_count": 31,
   "metadata": {},
   "outputs": [
    {
     "data": {
      "image/png": "[encoded data removed]",
      "text/plain": [
       "<Figure size 864x288 with 2 Axes>"
      ]
     },
     "metadata": {
      "needs_background": "light"
     },
     "output_type": "display_data"
    }
   ],
   "source": [
    "fig, ax = plt.subplots(1, 2, figsize=(12,4))    \n",
    "for column in Pb.columns:\n",
    "    roc_auc = roc_auc_score(ytest, Pb[column])\n",
    "    fpr, tpr, _ = roc_curve(ytest, Pb[column])\n",
    "    ax[0].plot(fpr, tpr, label='%s: %0.3f' % (column, roc_auc))\n",
    "\n",
    "    precision, recall, _ = precision_recall_curve(ytest, Pb[column])\n",
    "    ave_prec_rec = average_precision_score(ytest, Pb[column])\n",
    "    ax[1].plot(recall, precision, label='%s: %0.3f' % (column, ave_prec_rec))  \n",
    "\n",
    "    ax[0].set_xlim([0.0, 1.0])\n",
    "    ax[0].set_ylim([0.0, 1.05])\n",
    "    ax[0].set_xlabel('False Positive Rate')\n",
    "    ax[0].set_ylabel('True Positive Rate')\n",
    "    ax[0].set_title('Receiver operating characteristic')\n",
    "    ax[0].legend(loc=\"lower right\", title=\"Model: AUROC\")\n",
    "\n",
    "    ax[1].set_xlim([0.0, 1.0])\n",
    "    ax[1].set_ylim([0.0, 1.05])\n",
    "    ax[1].set_xlabel('Recall')\n",
    "    ax[1].set_ylabel('Precision')\n",
    "    ax[1].set_title('Precision-Recall curve')\n",
    "    ax[1].legend(loc=\"upper right\", title=\"Model: AP\")\n",
    "   \n",
    "#plt.savefig('mult_models_after_feat_select.png', format='png')"
   ]
  },
  {
   "cell_type": "markdown",
   "metadata": {},
   "source": [
    "### Fit important variables into the models"
   ]
  },
  {
   "cell_type": "code",
   "execution_count": 32,
   "metadata": {},
   "outputs": [],
   "source": [
    "Xtrain2 = df_train[important_vars]\n",
    "Xtest2 = df_test[important_vars]\n",
    "ytrain_original = df_train['svc_CYF_ip_60days_postdc_bi']\n"
   ]
  },
  {
   "cell_type": "code",
   "execution_count": 33,
   "metadata": {},
   "outputs": [],
   "source": [
    "from sklearn.preprocessing import MinMaxScaler\n",
    "scaler = MinMaxScaler()\n",
    "Xtrain2_scaled = scaler.fit_transform(Xtrain2)\n",
    "Xtest2_scaled = scaler.fit_transform(Xtest2)"
   ]
  },
  {
   "cell_type": "code",
   "execution_count": 34,
   "metadata": {},
   "outputs": [],
   "source": [
    "# Class Imbalance Processing: Using re-sampling method\n",
    "from imblearn.over_sampling import SMOTE\n",
    "sm = SMOTE(random_state=SEED)\n",
    "Xtrain2_scaled, ytrain = sm.fit_sample(Xtrain2_scaled, ytrain_original)"
   ]
  },
  {
   "cell_type": "code",
   "execution_count": 35,
   "metadata": {},
   "outputs": [
    {
     "name": "stdout",
     "output_type": "stream",
     "text": [
      "Fitting models.\n",
      "naive bayes... Time elapsed  0:00:00.050997\n",
      "done\n",
      "knn... Time elapsed  0:00:01.994014\n",
      "done\n",
      "logistic... Time elapsed  0:00:00.188987\n",
      "done\n",
      "mlp-nn... Time elapsed  0:00:26.217995\n",
      "done\n",
      "decision tree... Time elapsed  0:00:00.587992\n",
      "done\n",
      "random forest... Time elapsed  0:00:09.580000\n",
      "done\n",
      "gbm... Time elapsed  0:00:11.270012\n",
      "done\n",
      "Done.\n",
      "\n",
      "Accuracy : 0.6966\n",
      "Precision : 0.5989\n",
      "Recall : 0.4317\n",
      "F1 score : 0.5018\n",
      "AUC score : 0.6730\n",
      "AP score : 0.5634\n",
      "\n",
      "Classification report : \n",
      "               precision    recall  f1-score   support\n",
      "\n",
      "           0       0.73      0.84      0.78      1806\n",
      "           1       0.60      0.43      0.50       989\n",
      "\n",
      "    accuracy                           0.70      2795\n",
      "   macro avg       0.66      0.64      0.64      2795\n",
      "weighted avg       0.68      0.70      0.68      2795\n",
      "\n",
      "\n",
      "Confusion matrix : \n",
      " [[1520  286]\n",
      " [ 562  427]]\n",
      "done.\n",
      "\n",
      "Accuracy : 0.6336\n",
      "Precision : 0.4869\n",
      "Recall : 0.6582\n",
      "F1 score : 0.5598\n",
      "AUC score : 0.6780\n",
      "AP score : 0.4978\n",
      "\n",
      "Classification report : \n",
      "               precision    recall  f1-score   support\n",
      "\n",
      "           0       0.77      0.62      0.69      1806\n",
      "           1       0.49      0.66      0.56       989\n",
      "\n",
      "    accuracy                           0.63      2795\n",
      "   macro avg       0.63      0.64      0.62      2795\n",
      "weighted avg       0.67      0.63      0.64      2795\n",
      "\n",
      "\n",
      "Confusion matrix : \n",
      " [[1120  686]\n",
      " [ 338  651]]\n",
      "done.\n",
      "\n",
      "Accuracy : 0.7191\n",
      "Precision : 0.5948\n",
      "Recall : 0.6471\n",
      "F1 score : 0.6199\n",
      "AUC score : 0.7686\n",
      "AP score : 0.6498\n",
      "\n",
      "Classification report : \n",
      "               precision    recall  f1-score   support\n",
      "\n",
      "           0       0.80      0.76      0.78      1806\n",
      "           1       0.59      0.65      0.62       989\n",
      "\n",
      "    accuracy                           0.72      2795\n",
      "   macro avg       0.70      0.70      0.70      2795\n",
      "weighted avg       0.73      0.72      0.72      2795\n",
      "\n",
      "\n",
      "Confusion matrix : \n",
      " [[1370  436]\n",
      " [ 349  640]]\n",
      "done.\n",
      "\n",
      "Accuracy : 0.7091\n",
      "Precision : 0.5687\n",
      "Recall : 0.7361\n",
      "F1 score : 0.6417\n",
      "AUC score : 0.7746\n",
      "AP score : 0.6543\n",
      "\n",
      "Classification report : \n",
      "               precision    recall  f1-score   support\n",
      "\n",
      "           0       0.83      0.69      0.76      1806\n",
      "           1       0.57      0.74      0.64       989\n",
      "\n",
      "    accuracy                           0.71      2795\n",
      "   macro avg       0.70      0.72      0.70      2795\n",
      "weighted avg       0.74      0.71      0.72      2795\n",
      "\n",
      "\n",
      "Confusion matrix : \n",
      " [[1254  552]\n",
      " [ 261  728]]\n",
      "done.\n",
      "\n",
      "Accuracy : 0.5034\n",
      "Precision : 0.3895\n",
      "Recall : 0.7108\n",
      "F1 score : 0.5032\n",
      "AUC score : 0.5482\n",
      "AP score : 0.3792\n",
      "\n",
      "Classification report : \n",
      "               precision    recall  f1-score   support\n",
      "\n",
      "           0       0.71      0.39      0.50      1806\n",
      "           1       0.39      0.71      0.50       989\n",
      "\n",
      "    accuracy                           0.50      2795\n",
      "   macro avg       0.55      0.55      0.50      2795\n",
      "weighted avg       0.60      0.50      0.50      2795\n",
      "\n",
      "\n",
      "Confusion matrix : \n",
      " [[ 704 1102]\n",
      " [ 286  703]]\n",
      "done.\n",
      "\n",
      "Accuracy : 0.6268\n",
      "Precision : 0.4823\n",
      "Recall : 0.7422\n",
      "F1 score : 0.5846\n",
      "AUC score : 0.7180\n",
      "AP score : 0.5868\n",
      "\n",
      "Classification report : \n",
      "               precision    recall  f1-score   support\n",
      "\n",
      "           0       0.80      0.56      0.66      1806\n",
      "           1       0.48      0.74      0.58       989\n",
      "\n",
      "    accuracy                           0.63      2795\n",
      "   macro avg       0.64      0.65      0.62      2795\n",
      "weighted avg       0.69      0.63      0.63      2795\n",
      "\n",
      "\n",
      "Confusion matrix : \n",
      " [[1018  788]\n",
      " [ 255  734]]\n",
      "done.\n",
      "\n",
      "Accuracy : 0.4794\n",
      "Precision : 0.3977\n",
      "Recall : 0.9161\n",
      "F1 score : 0.5546\n",
      "AUC score : 0.7288\n",
      "AP score : 0.6304\n",
      "\n",
      "Classification report : \n",
      "               precision    recall  f1-score   support\n",
      "\n",
      "           0       0.84      0.24      0.37      1806\n",
      "           1       0.40      0.92      0.55       989\n",
      "\n",
      "    accuracy                           0.48      2795\n",
      "   macro avg       0.62      0.58      0.46      2795\n",
      "weighted avg       0.68      0.48      0.44      2795\n",
      "\n",
      "\n",
      "Confusion matrix : \n",
      " [[ 434 1372]\n",
      " [  83  906]]\n",
      "done.\n",
      "\n"
     ]
    },
    {
     "data": {
      "text/plain": [
       "(0.47942754919499103,\n",
       " 0.3977172958735733,\n",
       " 0.916076845298281,\n",
       " 0.5546372819100092,\n",
       " 0.7287787478431069,\n",
       " 0.6304194483048551)"
      ]
     },
     "execution_count": 35,
     "metadata": {},
     "output_type": "execute_result"
    }
   ],
   "source": [
    "models = get_models()\n",
    "Pm, Sm, model_cvsm = train_predict(models, Xtrain2_scaled, ytrain, Xtest2_scaled)\n",
    "evaluate(ytest, Sm, Pm)"
   ]
  },
  {
   "cell_type": "code",
   "execution_count": 36,
   "metadata": {},
   "outputs": [
    {
     "data": {
      "image/png": "[encoded data removed]",
      "text/plain": [
       "<Figure size 864x288 with 2 Axes>"
      ]
     },
     "metadata": {
      "needs_background": "light"
     },
     "output_type": "display_data"
    }
   ],
   "source": [
    "fig, ax = plt.subplots(1, 2, figsize=(12,4))    \n",
    "for column in Pm.columns:\n",
    "    roc_auc = roc_auc_score(ytest, Pm[column])\n",
    "    fpr, tpr, _ = roc_curve(ytest, Pm[column])\n",
    "    ax[0].plot(fpr, tpr, label='%s: %0.3f' % (column, roc_auc))\n",
    "\n",
    "    precision, recall, _ = precision_recall_curve(ytest, Pm[column])\n",
    "    ave_prec_rec = average_precision_score(ytest, Pm[column])\n",
    "    ax[1].plot(recall, precision, label='%s: %0.3f' % (column, ave_prec_rec))  \n",
    "\n",
    "    ax[0].set_xlim([0.0, 1.0])\n",
    "    ax[0].set_ylim([0.0, 1.05])\n",
    "    ax[0].set_xlabel('False Positive Rate')\n",
    "    ax[0].set_ylabel('True Positive Rate')\n",
    "    ax[0].set_title('Receiver operating characteristic')\n",
    "    ax[0].legend(loc=\"lower right\", title=\"Model: AUROC\")\n",
    "\n",
    "    ax[1].set_xlim([0.0, 1.0])\n",
    "    ax[1].set_ylim([0.0, 1.05])\n",
    "    ax[1].set_xlabel('Recall')\n",
    "    ax[1].set_ylabel('Precision')\n",
    "    ax[1].set_title('Precision-Recall curve')\n",
    "    ax[1].legend(loc=\"upper right\", title=\"Model: AP\")\n",
    "   \n",
    "#plt.savefig('mult_models_after_feat_select.png', format='png')"
   ]
  },
  {
   "cell_type": "markdown",
   "metadata": {},
   "source": [
    "From the above results, I selected Gradient Boosting as my main model and the set of variables from the Boruta algorithms"
   ]
  },
  {
   "cell_type": "markdown",
   "metadata": {},
   "source": [
    "## GBM tuning"
   ]
  },
  {
   "cell_type": "code",
   "execution_count": 37,
   "metadata": {},
   "outputs": [
    {
     "name": "stderr",
     "output_type": "stream",
     "text": [
      "C:\\Users\\Anh Tran\\anaconda3\\lib\\site-packages\\sklearn\\model_selection\\_search.py:847: FutureWarning: The parameter 'iid' is deprecated in 0.22 and will be removed in 0.24.\n",
      "  warnings.warn(\n"
     ]
    },
    {
     "data": {
      "text/plain": [
       "GridSearchCV(cv=5,\n",
       "             estimator=GradientBoostingClassifier(max_depth=4,\n",
       "                                                  max_features='sqrt',\n",
       "                                                  random_state=300,\n",
       "                                                  subsample=1),\n",
       "             iid=False, n_jobs=-1,\n",
       "             param_grid={'learning_rate': [1, 0.1, 0.01, 0.001],\n",
       "                         'n_estimators': [100, 500, 1000, 1500]},\n",
       "             scoring='roc_auc')"
      ]
     },
     "execution_count": 37,
     "metadata": {},
     "output_type": "execute_result"
    }
   ],
   "source": [
    "param1 = {\n",
    "    \"n_estimators\":[100,500,1000,1500],\n",
    "    \"learning_rate\":[1, 0.1, 0.01, 0.001]\n",
    "}\n",
    "\n",
    "tuning = GridSearchCV(estimator =GradientBoostingClassifier(max_depth=4, min_samples_split=2, min_samples_leaf=1, subsample=1, max_features='sqrt', random_state=SEED), \n",
    "            param_grid = param1, scoring='roc_auc',n_jobs=-1, iid=False, cv=5)\n",
    "tuning.fit(Xtrainb_scaled,ytrain)\n"
   ]
  },
  {
   "cell_type": "code",
   "execution_count": 38,
   "metadata": {},
   "outputs": [
    {
     "data": {
      "text/plain": [
       "({'learning_rate': 0.1, 'n_estimators': 500}, 0.8323697198933953)"
      ]
     },
     "execution_count": 38,
     "metadata": {},
     "output_type": "execute_result"
    }
   ],
   "source": [
    "tuning.best_params_, tuning.best_score_"
   ]
  },
  {
   "cell_type": "code",
   "execution_count": 39,
   "metadata": {},
   "outputs": [
    {
     "name": "stderr",
     "output_type": "stream",
     "text": [
      "C:\\Users\\Anh Tran\\anaconda3\\lib\\site-packages\\sklearn\\model_selection\\_search.py:847: FutureWarning: The parameter 'iid' is deprecated in 0.22 and will be removed in 0.24.\n",
      "  warnings.warn(\n"
     ]
    },
    {
     "data": {
      "text/plain": [
       "({'max_depth': 4}, 0.8323697198933953)"
      ]
     },
     "execution_count": 39,
     "metadata": {},
     "output_type": "execute_result"
    }
   ],
   "source": [
    "param2 = {\n",
    "   'max_depth':[2,3,4,5,6,7]\n",
    "}\n",
    "\n",
    "tuning = GridSearchCV(estimator =GradientBoostingClassifier(learning_rate=0.1,n_estimators=500, min_samples_split=2, min_samples_leaf=1, subsample=1, max_features='sqrt', random_state=SEED), \n",
    "            param_grid = param2, scoring='roc_auc',n_jobs=-1, iid=False, cv=5)\n",
    "tuning.fit(Xtrainb_scaled,ytrain)\n",
    "tuning.best_params_, tuning.best_score_"
   ]
  },
  {
   "cell_type": "code",
   "execution_count": 40,
   "metadata": {},
   "outputs": [
    {
     "data": {
      "text/plain": [
       "GradientBoostingClassifier(max_depth=4, max_features='sqrt', n_estimators=500,\n",
       "                           random_state=300, subsample=1)"
      ]
     },
     "execution_count": 40,
     "metadata": {},
     "output_type": "execute_result"
    }
   ],
   "source": [
    "new=GradientBoostingClassifier(learning_rate=0.1, n_estimators=500, max_depth=4, min_samples_split=2, min_samples_leaf=1, subsample=1, max_features='sqrt' , random_state=SEED)\n",
    "new.fit(Xtrainb_scaled,ytrain)\n"
   ]
  },
  {
   "cell_type": "code",
   "execution_count": 41,
   "metadata": {},
   "outputs": [
    {
     "name": "stdout",
     "output_type": "stream",
     "text": [
      "Accuracy : 0.7653\n",
      "Precision : 0.6980\n",
      "Recall : 0.5935\n",
      "F1 score : 0.6415\n",
      "AUC score : 0.8077\n",
      "AP score : 0.7462\n",
      "\n",
      "Classification report : \n",
      "               precision    recall  f1-score   support\n",
      "\n",
      "           0       0.79      0.86      0.83      1806\n",
      "           1       0.70      0.59      0.64       989\n",
      "\n",
      "    accuracy                           0.77      2795\n",
      "   macro avg       0.75      0.73      0.73      2795\n",
      "weighted avg       0.76      0.77      0.76      2795\n",
      "\n",
      "\n",
      "Confusion matrix : \n",
      " [[1552  254]\n",
      " [ 402  587]]\n"
     ]
    }
   ],
   "source": [
    "y_pred=new.predict(Xtestb_scaled)\n",
    "y_pred_proba = new.predict_proba(Xtestb_scaled)[:, 1]\n",
    "y_true = ytest\n",
    "acc = accuracy_score(y_true, y_pred)\n",
    "precision = precision_score(y_true, y_pred)\n",
    "recall = recall_score(y_true, y_pred)\n",
    "f1score = f1_score(y_true, y_pred)\n",
    "auc = roc_auc_score(y_true, y_pred_proba)\n",
    "ap = average_precision_score(y_true, y_pred_proba)\n",
    "print (\"Accuracy : {:.4f}\".format(acc))\n",
    "print(\"Precision : {:.4f}\".format(precision))\n",
    "print(\"Recall : {:.4f}\".format(recall))\n",
    "print(\"F1 score : {:.4f}\".format(f1score))\n",
    "print(\"AUC score : {:.4f}\".format(auc))\n",
    "print(\"AP score : {:.4f}\".format(ap))\n",
    "print(\"\\nClassification report : \\n\", classification_report(y_true, y_pred))\n",
    "print(\"\\nConfusion matrix : \\n\", confusion_matrix(y_true, y_pred))"
   ]
  },
  {
   "cell_type": "code",
   "execution_count": 42,
   "metadata": {},
   "outputs": [
    {
     "name": "stdout",
     "output_type": "stream",
     "text": [
      "as_length_IP                  0.310539\n",
      "IP_history                    0.177804\n",
      "svc_es_30days_pre             0.098291\n",
      "svc_op_30days_pre             0.070652\n",
      "svc_ip_30days_pre             0.067420\n",
      "as_loc_IPFFS                  0.060013\n",
      "svc_pre_all                   0.055301\n",
      "svc_pre                       0.053398\n",
      "as_loc_IPCAPS                 0.040956\n",
      "as_close_Home/Shelter/Self    0.034405\n",
      "svc_ip_7days_pre              0.021572\n",
      "liv_House or Apartment        0.009648\n",
      "dtype: float64\n"
     ]
    },
    {
     "data": {
      "text/plain": [
       "Text(0, 0.5, 'Feature Importance Score')"
      ]
     },
     "execution_count": 42,
     "metadata": {},
     "output_type": "execute_result"
    },
    {
     "data": {
      "image/png": "[encoded data removed]",
      "text/plain": [
       "<Figure size 432x288 with 1 Axes>"
      ]
     },
     "metadata": {
      "needs_background": "light"
     },
     "output_type": "display_data"
    }
   ],
   "source": [
    "feat_imp = pd.Series(new.feature_importances_, index=Xtrainb.columns).sort_values(ascending=False)\n",
    "print(feat_imp)\n",
    "feat_imp.plot(kind='bar', title='Importance of Features')\n",
    "plt.ylabel('Feature Importance Score')\n"
   ]
  },
  {
   "cell_type": "code",
   "execution_count": 43,
   "metadata": {},
   "outputs": [
    {
     "name": "stdout",
     "output_type": "stream",
     "text": [
      "Fitting models.\n",
      "naive bayes... Time elapsed  0:00:00.098251\n",
      "done\n",
      "knn... Time elapsed  0:00:00.905009\n",
      "done\n",
      "logistic... Time elapsed  0:00:00.142998\n",
      "done\n",
      "mlp-nn... Time elapsed  0:00:11.648002\n",
      "done\n",
      "decision tree... Time elapsed  0:00:00.265997\n",
      "done\n",
      "random forest... Time elapsed  0:00:05.672995\n",
      "done\n",
      "gbm... Time elapsed  0:00:05.559998\n",
      "done\n",
      "Done.\n",
      "\n",
      "as_length_IP                 -1.596086\n",
      "IP_history                    2.529734\n",
      "svc_pre_all                   0.404826\n",
      "svc_pre                      -1.314142\n",
      "svc_op_30days_pre             2.313307\n",
      "svc_es_30days_pre             1.367971\n",
      "svc_ip_7days_pre             -3.258150\n",
      "svc_ip_30days_pre             4.107667\n",
      "liv_House or Apartment       -0.304524\n",
      "as_loc_IPCAPS                -1.369292\n",
      "as_loc_IPFFS                 -1.567102\n",
      "as_close_Home/Shelter/Self   -0.226659\n",
      "Name: LR, dtype: float64\n"
     ]
    }
   ],
   "source": [
    "models = get_models()\n",
    "Pb, Sb, model_cvsb = train_predict(models, Xtrainb_scaled, ytrain, Xtestb_scaled)\n",
    "lr_importances = pd.Series(model_cvsb['logistic'].coef_[0], index=Xtrainb.columns, name = 'LR')\n",
    "lr_importances_abs = pd.Series(abs(model_cvsb['logistic'].coef_[0]), index=Xtrainb.columns, name = 'LR')\n",
    "print(lr_importances)"
   ]
  },
  {
   "cell_type": "markdown",
   "metadata": {},
   "source": [
    "max_depth = 5 : This should be between 3-10. I’ve started with 5 but you can choose a different number as well. 4-6 can be good starting points.\\\n",
    "min_child_weight = 1 : A smaller value is chosen because it is a highly imbalanced class problem and leaf nodes can have smaller size groups.\\\n",
    "gamma = 0 : A smaller value like 0.1-0.2 can also be chosen for starting. This will anyways be tuned later.\\\n",
    "subsample, colsample_bytree = 0.8 : This is a commonly used used start value. Typical values range between 0.5-0.9.\\\n",
    "scale_pos_weight = 1: Because of high class imbalance."
   ]
  },
  {
   "cell_type": "markdown",
   "metadata": {},
   "source": [
    "### Archive codes"
   ]
  },
  {
   "cell_type": "code",
   "execution_count": 74,
   "metadata": {},
   "outputs": [
    {
     "data": {
      "text/plain": [
       "'\\n# impute missing values of categorical features with the most frequent object\\nfor col in categorical_features:\\n    df[col].fillna(df[col].value_counts().index[0], inplace=True)\\n'"
      ]
     },
     "execution_count": 74,
     "metadata": {},
     "output_type": "execute_result"
    }
   ],
   "source": [
    "'''\n",
    "# impute missing values of categorical features with the most frequent object\n",
    "for col in categorical_features:\n",
    "    df[col].fillna(df[col].value_counts().index[0], inplace=True)\n",
    "'''"
   ]
  },
  {
   "cell_type": "code",
   "execution_count": 75,
   "metadata": {},
   "outputs": [
    {
     "data": {
      "text/plain": [
       "\"\\ngsearch1 = GridSearchCV(estimator = XGBClassifier( learning_rate =0.1, n_estimators=140, max_depth=5,\\n min_child_weight=1, gamma=0, subsample=0.8, colsample_bytree=0.8,\\n objective= 'binary:logistic', nthread=4, scale_pos_weight=1, seed=27), \\n param_grid = param_test1, scoring='roc_auc',n_jobs=4,iid=False, cv=5)\\n\""
      ]
     },
     "execution_count": 75,
     "metadata": {},
     "output_type": "execute_result"
    }
   ],
   "source": [
    "'''\n",
    "gsearch1 = GridSearchCV(estimator = XGBClassifier( learning_rate =0.1, n_estimators=140, max_depth=5,\n",
    " min_child_weight=1, gamma=0, subsample=0.8, colsample_bytree=0.8,\n",
    " objective= 'binary:logistic', nthread=4, scale_pos_weight=1, seed=27), \n",
    " param_grid = param_test1, scoring='roc_auc',n_jobs=4,iid=False, cv=5)\n",
    "'''"
   ]
  },
  {
   "cell_type": "code",
   "execution_count": 76,
   "metadata": {},
   "outputs": [
    {
     "data": {
      "text/plain": [
       "'\\nxgb = XGBClassifier(learning_rate=0.02, n_estimators=600, objective=\\'binary:logistic\\',silent=True, nthread=4, \\n                    scale_pos_weight=1, random_state=SEED)\\ngrid_search = GridSearchCV(xgb, param_grid = parameters, scoring=\\'roc_auc\\', n_jobs=4, iid=False, cv=5)\\ngrid_search.fit(Xtrainb_scaled, ytrain)\\n\\n# retrieve the best parameter set from grid search\\nprint(\"\\nGrid Search Best parameters set :\")\\nprint(grid_search.best_params_)\\nprint(\"\\nBest score: %0.3f\" % grid_search.best_score_)\\ntime_elapsed = (time.monotonic()-start_time)/60\\nprint(\"Calculation took %.3f minutes\" % time_elapsed)\\n\\n'"
      ]
     },
     "execution_count": 76,
     "metadata": {},
     "output_type": "execute_result"
    }
   ],
   "source": [
    "'''\n",
    "xgb = XGBClassifier(learning_rate=0.02, n_estimators=600, objective='binary:logistic',silent=True, nthread=4, \n",
    "                    scale_pos_weight=1, random_state=SEED)\n",
    "grid_search = GridSearchCV(xgb, param_grid = parameters, scoring='roc_auc', n_jobs=4, iid=False, cv=5)\n",
    "grid_search.fit(Xtrainb_scaled, ytrain)\n",
    "\n",
    "# retrieve the best parameter set from grid search\n",
    "print(\"\\nGrid Search Best parameters set :\")\n",
    "print(grid_search.best_params_)\n",
    "print(\"\\nBest score: %0.3f\" % grid_search.best_score_)\n",
    "time_elapsed = (time.monotonic()-start_time)/60\n",
    "print(\"Calculation took %.3f minutes\" % time_elapsed)\n",
    "\n",
    "'''"
   ]
  },
  {
   "cell_type": "code",
   "execution_count": 77,
   "metadata": {},
   "outputs": [
    {
     "data": {
      "text/plain": [
       "'\\ndef score_models(P, y):\\n    \"\"\"Score model in prediction DF\"\"\"\\n    print(\"Scoring models.\")\\n    for m in P.columns:\\n        score = roc_auc_score(y, P.loc[:, m])\\n        ap = average_precision_score(y, P.loc[:, m])\\n        print(\"%-26s: %.3f, %.3f\" % (m, score, ap))\\n    print(\"Done.\\n\")\\n    \\ndef report_models(S, y):\\n    \"\"\"Score model in prediction DF\"\"\"\\n    print(\"Scoring models.\")\\n    for m in P.columns:\\n        report = classification_report(y, S.loc[:, m])\\n        print(report)\\n    print(\"Done.\\n\")\\n\\n'"
      ]
     },
     "execution_count": 77,
     "metadata": {},
     "output_type": "execute_result"
    }
   ],
   "source": [
    "'''\n",
    "def score_models(P, y):\n",
    "    \"\"\"Score model in prediction DF\"\"\"\n",
    "    print(\"Scoring models.\")\n",
    "    for m in P.columns:\n",
    "        score = roc_auc_score(y, P.loc[:, m])\n",
    "        ap = average_precision_score(y, P.loc[:, m])\n",
    "        print(\"%-26s: %.3f, %.3f\" % (m, score, ap))\n",
    "    print(\"Done.\\n\")\n",
    "    \n",
    "def report_models(S, y):\n",
    "    \"\"\"Score model in prediction DF\"\"\"\n",
    "    print(\"Scoring models.\")\n",
    "    for m in P.columns:\n",
    "        report = classification_report(y, S.loc[:, m])\n",
    "        print(report)\n",
    "    print(\"Done.\\n\")\n",
    "\n",
    "'''"
   ]
  },
  {
   "cell_type": "code",
   "execution_count": 78,
   "metadata": {},
   "outputs": [
    {
     "data": {
      "text/plain": [
       "\"\\nparam3 = {\\n   'min_samples_split':[4,8,10,20,40,60,80,100], \\n    'min_samples_leaf':[1,3,5,7,9]\\n}\\n\\ntuning = GridSearchCV(estimator =GradientBoostingClassifier(learning_rate=0.01, n_estimators=1500,max_depth=4, subsample=1,max_features='sqrt', random_state=SEED), \\n            param_grid = param3, scoring='accuracy',n_jobs=-1, iid=False, cv=5)\\ntuning.fit(X_train,y_train)\\ntuning.grid_scores_, tuning.best_params_, tuning.best_score_\\n\\n\""
      ]
     },
     "execution_count": 78,
     "metadata": {},
     "output_type": "execute_result"
    }
   ],
   "source": [
    "'''\n",
    "param3 = {\n",
    "   'min_samples_split':[4,8,10,20,40,60,80,100], \n",
    "    'min_samples_leaf':[1,3,5,7,9]\n",
    "}\n",
    "\n",
    "tuning = GridSearchCV(estimator =GradientBoostingClassifier(learning_rate=0.01, n_estimators=1500,max_depth=4, subsample=1,max_features='sqrt', random_state=SEED), \n",
    "            param_grid = param3, scoring='accuracy',n_jobs=-1, iid=False, cv=5)\n",
    "tuning.fit(X_train,y_train)\n",
    "tuning.grid_scores_, tuning.best_params_, tuning.best_score_\n",
    "\n",
    "'''"
   ]
  }
 ],
 "metadata": {
  "kernelspec": {
   "display_name": "Python 3",
   "language": "python",
   "name": "python3"
  },
  "language_info": {
   "codemirror_mode": {
    "name": "ipython",
    "version": 3
   },
   "file_extension": ".py",
   "mimetype": "text/x-python",
   "name": "python",
   "nbconvert_exporter": "python",
   "pygments_lexer": "ipython3",
   "version": "3.8.3"
  }
 },
 "nbformat": 4,
 "nbformat_minor": 4
}
